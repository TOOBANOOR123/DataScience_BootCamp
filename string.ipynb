{
 "cells": [
  {
   "cell_type": "markdown",
   "id": "ae0ad9d2-1f51-46a1-8ed2-2b00ed414cc6",
   "metadata": {},
   "source": [
    "# 1. Reverse a String\n",
    "## Problem Statement:\n",
    "Write a function to reverse a given string.\n",
    "\n",
    "## Example 1:\n",
    "**Input:** `\"hello\"`  \n",
    "**Output:** `\"olleh\"`\n",
    "\n",
    "## Example 2:\n",
    "**Input:** `\"world\"`  \n",
    "**Output:** `\"dlrow\"`\n"
   ]
  },
  {
   "cell_type": "code",
   "execution_count": 3,
   "id": "e1435aa7-457c-4b05-ad71-fc7204bb88d7",
   "metadata": {},
   "outputs": [
    {
     "name": "stdout",
     "output_type": "stream",
     "text": [
      "Reversed String:  olleh\n"
     ]
    }
   ],
   "source": [
    "def reverse(str1):\n",
    "    return str1[::-1]\n",
    "    \n",
    "#Function calling\n",
    "str1 = \"hello\"\n",
    "print(\"Reversed String: \", reverse(str1))"
   ]
  },
  {
   "cell_type": "code",
   "execution_count": 4,
   "id": "1f15a4a5-58a6-4b21-b178-575c8b4790f2",
   "metadata": {},
   "outputs": [
    {
     "name": "stdout",
     "output_type": "stream",
     "text": [
      "Reversed String:  dlrow\n"
     ]
    }
   ],
   "source": [
    "str2 = \"world\"\n",
    "print(\"Reversed String: \", reverse(str2))"
   ]
  },
  {
   "cell_type": "markdown",
   "id": "5a3927f5-6184-40a6-b3f8-34cd08ef19a1",
   "metadata": {},
   "source": [
    "# 2. Check if a String is a Palindrome\n",
    "## Problem Statement:\n",
    "Write a function to check if a string is a palindrome (same forward and backward).\n",
    "\n",
    "## Example 1:\n",
    "**Input:** `\"madam\"`  \n",
    "**Output:** `True`\n",
    "\n",
    "## Example 2:\n",
    "**Input:** `\"hello\"`  \n",
    "**Output:** `False`\n"
   ]
  },
  {
   "cell_type": "code",
   "execution_count": 5,
   "id": "e10e83ef-aacb-4764-9c1a-dc28c3d0b3df",
   "metadata": {},
   "outputs": [],
   "source": [
    "def is_palindrome(str2):\n",
    "    str3 = str2[::-1]\n",
    "    if str3 == str2:\n",
    "        print(\"True\")\n",
    "    else:\n",
    "        print(\"False\")"
   ]
  },
  {
   "cell_type": "code",
   "execution_count": 6,
   "id": "5e6a74e5-1a49-48ee-8624-20cce02b3597",
   "metadata": {},
   "outputs": [
    {
     "name": "stdout",
     "output_type": "stream",
     "text": [
      "True\n"
     ]
    }
   ],
   "source": [
    "#function testing\n",
    "str2 = \"madam\"\n",
    "is_palindrome(str2)"
   ]
  },
  {
   "cell_type": "code",
   "execution_count": 7,
   "id": "3153396e",
   "metadata": {},
   "outputs": [
    {
     "name": "stdout",
     "output_type": "stream",
     "text": [
      "False\n"
     ]
    }
   ],
   "source": [
    "str3 = \"hello\"\n",
    "is_palindrome(str3)"
   ]
  },
  {
   "cell_type": "markdown",
   "id": "58b59720-7688-43eb-b24d-d886c3b3c809",
   "metadata": {},
   "source": [
    "# 3. Count the Number of Vowels in a String\n",
    "## Problem Statement:\n",
    "Write a function to count the number of vowels in a given string.\n",
    "\n",
    "## Example 1:\n",
    "**Input:** `\"apple\"`  \n",
    "**Output:** `2`\n",
    "\n",
    "## Example 2:\n",
    "**Input:** `\"banana\"`  \n",
    "**Output:** `3`\n"
   ]
  },
  {
   "cell_type": "code",
   "execution_count": 8,
   "id": "cc7ada12-76e0-4759-87ee-31224446fdd7",
   "metadata": {},
   "outputs": [],
   "source": [
    "def number_of_vowels(string):\n",
    "    vowels = \"aeiouAEIOU\"\n",
    "    count = 0\n",
    "    for char in string:\n",
    "        if char in vowels:\n",
    "            count = count+1\n",
    "    return count"
   ]
  },
  {
   "cell_type": "code",
   "execution_count": 9,
   "id": "6ad075be-9c42-41d2-be73-ac5760653656",
   "metadata": {},
   "outputs": [
    {
     "name": "stdout",
     "output_type": "stream",
     "text": [
      "2\n"
     ]
    }
   ],
   "source": [
    "#Example1 usage: \n",
    "string = \"apple\"\n",
    "print(number_of_vowels(string))"
   ]
  },
  {
   "cell_type": "code",
   "execution_count": 10,
   "id": "350e6111",
   "metadata": {},
   "outputs": [
    {
     "name": "stdout",
     "output_type": "stream",
     "text": [
      "3\n"
     ]
    }
   ],
   "source": [
    "#Example2 usage: \n",
    "string1 = \"banana\"\n",
    "print(number_of_vowels(string1))"
   ]
  },
  {
   "cell_type": "markdown",
   "id": "abcbec6f-e9e9-4238-8130-b4313c2357cc",
   "metadata": {},
   "source": [
    "# 4. Remove All Whitespace from a String\n",
    "## Problem Statement:\n",
    "Write a function that removes all whitespace characters from a string.\n",
    "\n",
    "## Example 1:\n",
    "**Input:** `\"hello world\"`  \n",
    "**Output:** `\"helloworld\"`\n",
    "\n",
    "## Example 2:\n",
    "**Input:** `\" Python  is  fun \"`  \n",
    "**Output:** `\"Pythonisfun\"`\n"
   ]
  },
  {
   "cell_type": "code",
   "execution_count": 14,
   "id": "59152c0f-cc53-4319-8b61-7bfa739a35a9",
   "metadata": {},
   "outputs": [],
   "source": [
    "def remove_whitespaces(s):\n",
    "    t = \"\"\n",
    "    for char in s:\n",
    "        if char != \" \":\n",
    "            t += char\n",
    "    return t"
   ]
  },
  {
   "cell_type": "code",
   "execution_count": 15,
   "id": "c0feb715-5555-4882-b4d5-862addfc2e83",
   "metadata": {
    "scrolled": true
   },
   "outputs": [
    {
     "name": "stdout",
     "output_type": "stream",
     "text": [
      "new string is:  helloworld\n"
     ]
    }
   ],
   "source": [
    "#example 1 usage\n",
    "s = \"hello world\"\n",
    "print(\"new string is: \", remove_whitespaces(s))"
   ]
  },
  {
   "cell_type": "code",
   "execution_count": 16,
   "id": "2ca5734d",
   "metadata": {},
   "outputs": [
    {
     "name": "stdout",
     "output_type": "stream",
     "text": [
      "new string without white space character is:  pythonisfun\n"
     ]
    }
   ],
   "source": [
    "#example2 usage\n",
    "s1 = \"python is fun\"\n",
    "print(\"new string without white space character is: \", remove_whitespaces(s1))"
   ]
  },
  {
   "cell_type": "markdown",
   "id": "7a8010ed-0bbf-42c3-82c3-46b175c6e8af",
   "metadata": {},
   "source": [
    "# 5. Find the First Non-Repeating Character in a String\n",
    "## Problem Statement:\n",
    "Write a function to find the first non-repeating character in a given string.\n",
    "\n",
    "## Example 1:\n",
    "**Input:** `\"swiss\"`  \n",
    "**Output:** `\"w\"`\n",
    "\n",
    "## Example 2:\n",
    "**Input:** `\"racecar\"`  \n",
    "**Output:** `\"e\"`\n"
   ]
  },
  {
   "cell_type": "code",
   "execution_count": 18,
   "id": "4aca409d-99fa-43bc-814c-9d93d54507ad",
   "metadata": {},
   "outputs": [],
   "source": [
    "def first_non_repeating_character(strn):\n",
    "    freq = {}\n",
    "    #count the frequency of each character\n",
    "    for char in strn:\n",
    "        if char in freq:\n",
    "            freq[char] += 1\n",
    "        else: \n",
    "            freq[char] = 1\n",
    "    #find the first character with frequency of 1\n",
    "    for char in strn:\n",
    "        if freq[char] == 1:\n",
    "            return char\n",
    "    return None"
   ]
  },
  {
   "cell_type": "code",
   "execution_count": 19,
   "id": "728943f8-b9cd-45ca-9c54-4698ea06ade7",
   "metadata": {},
   "outputs": [
    {
     "data": {
      "text/plain": [
       "'e'"
      ]
     },
     "execution_count": 19,
     "metadata": {},
     "output_type": "execute_result"
    }
   ],
   "source": [
    "#Example 1 usage\n",
    "x = \"racecar\"\n",
    "first_non_repeating_character(x)"
   ]
  },
  {
   "cell_type": "code",
   "execution_count": 20,
   "id": "055eff36",
   "metadata": {},
   "outputs": [
    {
     "data": {
      "text/plain": [
       "'w'"
      ]
     },
     "execution_count": 20,
     "metadata": {},
     "output_type": "execute_result"
    }
   ],
   "source": [
    "#Example 2 usage\n",
    "x1 = \"swiss\"\n",
    "first_non_repeating_character(x1)"
   ]
  },
  {
   "cell_type": "markdown",
   "id": "d3b7ea00-ba1f-46ed-b122-bb6b7cac074f",
   "metadata": {},
   "source": [
    "# 6. Check if Two Strings are Anagrams\n",
    "## Problem Statement:\n",
    "Write a function to check if two strings are anagrams.\n",
    "\n",
    "## Example 1:\n",
    "**Input:** `\"listen\", \"silent\"`  \n",
    "**Output:** `True`\n",
    "\n",
    "## Example 2:\n",
    "**Input:** `\"hello\", \"world\"`  \n",
    "**Output:** `False`\n"
   ]
  },
  {
   "cell_type": "code",
   "execution_count": 24,
   "id": "5c5b949f",
   "metadata": {},
   "outputs": [],
   "source": [
    "def are_anagrams(str1, str2):\n",
    "    # First, check if lengths are equal\n",
    "    if len(str1) != len(str2):\n",
    "        return False\n",
    "\n",
    "    # Create a dictionary to count characters in str1\n",
    "    count1 = {}\n",
    "\n",
    "    for char in str1:\n",
    "        if char in count1:\n",
    "            count1[char] += 1\n",
    "        else:\n",
    "            count1[char] = 1\n",
    "\n",
    "    # Subtract character counts using str2\n",
    "    for char in str2:\n",
    "        if char in count1:\n",
    "            count1[char] -= 1\n",
    "            if count1[char] == 0:\n",
    "                del count1[char]\n",
    "        else:\n",
    "            return False\n",
    "\n",
    "    # If dictionary is empty, strings are anagrams\n",
    "    return len(count1) == 0"
   ]
  },
  {
   "cell_type": "code",
   "execution_count": 25,
   "id": "3b2c05e5-a7df-476b-9061-f7df9c3539d2",
   "metadata": {},
   "outputs": [
    {
     "name": "stdout",
     "output_type": "stream",
     "text": [
      "True\n"
     ]
    }
   ],
   "source": [
    "#Example1 usage:\n",
    "str1 = 'listen'\n",
    "str2 = 'silent'\n",
    "print(are_anagrams(str1, str2))"
   ]
  },
  {
   "cell_type": "code",
   "execution_count": 26,
   "id": "921ee110-5557-4d6e-a669-dc81ca237bcb",
   "metadata": {},
   "outputs": [
    {
     "name": "stdout",
     "output_type": "stream",
     "text": [
      "False\n"
     ]
    }
   ],
   "source": [
    "#example 2 usage\n",
    "str1 = 'hello'\n",
    "str2 = 'world'\n",
    "print(are_anagrams(str1, str2))"
   ]
  },
  {
   "cell_type": "markdown",
   "id": "3989dfe4-ab68-419d-9042-877f37ede653",
   "metadata": {},
   "source": [
    "# 7. Convert a String to Uppercase\n",
    "## Problem Statement:\n",
    "Write a function to convert a string to uppercase.\n",
    "\n",
    "## Example 1:\n",
    "**Input:** `\"python\"`  \n",
    "**Output:** `\"PYTHON\"`\n",
    "\n",
    "## Example 2:\n",
    "**Input:** `\"Hello World\"`  \n",
    "**Output:** `\"HELLO WORLD\"`\n"
   ]
  },
  {
   "cell_type": "code",
   "execution_count": 34,
   "id": "163d0c7c-d95c-48f5-9f57-a6415fe19099",
   "metadata": {},
   "outputs": [],
   "source": [
    "def str_to_uppercase(str1):\n",
    "    result = \"\"\n",
    "    for char in str1: \n",
    "        #check if the character is a lowercase letter\n",
    "        if 'a' <= char <= 'z':\n",
    "            #convert to the uppercase \n",
    "            uppercase_char = chr(ord(char)-32)\n",
    "            result = result + uppercase_char\n",
    "        else: \n",
    "            result = result + char\n",
    "    return result\n",
    "            "
   ]
  },
  {
   "cell_type": "code",
   "execution_count": 35,
   "id": "aaf4bac8-2992-489f-90fe-a6321edc64c4",
   "metadata": {},
   "outputs": [
    {
     "name": "stdout",
     "output_type": "stream",
     "text": [
      "HELLO\n"
     ]
    }
   ],
   "source": [
    "#example1 usage\n",
    "strn1 = 'hello'\n",
    "print(str_to_uppercase(strn1))"
   ]
  },
  {
   "cell_type": "code",
   "execution_count": 36,
   "id": "9cb62d0a-3b5d-4271-8091-ad6e666acd2a",
   "metadata": {},
   "outputs": [
    {
     "name": "stdout",
     "output_type": "stream",
     "text": [
      "PYTHON123\n"
     ]
    }
   ],
   "source": [
    "#Example2 usage\n",
    "strn2 = 'Python123'\n",
    "print(str_to_uppercase(strn2))"
   ]
  },
  {
   "cell_type": "markdown",
   "id": "b23de210-f0d4-4e2d-ab9a-aa853e471a15",
   "metadata": {},
   "source": [
    "# 9. Check if a String Contains Only Digits\n",
    "## Problem Statement:\n",
    "Write a function to check if a string contains only digits.\n",
    "\n",
    "## Example 1:\n",
    "**Input:** `\"12345\"`  \n",
    "**Output:** `True`\n",
    "\n",
    "## Example 2:\n",
    "**Input:** `\"12a45\"`  \n",
    "**Output:** `False`\n"
   ]
  },
  {
   "cell_type": "code",
   "execution_count": 37,
   "id": "419f05a0-3648-4ef3-badf-0cdd35869ec1",
   "metadata": {},
   "outputs": [],
   "source": [
    "def is_only_digits(str1):\n",
    "    for char in str1:\n",
    "        if char < '0' or char > '9':\n",
    "            return False\n",
    "    return True"
   ]
  },
  {
   "cell_type": "code",
   "execution_count": 38,
   "id": "8c3e49f1-defd-4b0d-8321-6517e6917795",
   "metadata": {},
   "outputs": [
    {
     "data": {
      "text/plain": [
       "True"
      ]
     },
     "execution_count": 38,
     "metadata": {},
     "output_type": "execute_result"
    }
   ],
   "source": [
    "#example1 usage\n",
    "x1 = \"12345\"\n",
    "is_only_digits(x1)"
   ]
  },
  {
   "cell_type": "code",
   "execution_count": 39,
   "id": "7c8625dc",
   "metadata": {},
   "outputs": [
    {
     "data": {
      "text/plain": [
       "False"
      ]
     },
     "execution_count": 39,
     "metadata": {},
     "output_type": "execute_result"
    }
   ],
   "source": [
    "#example2 usage\n",
    "x2 = \"12a45\"\n",
    "is_only_digits(x2)"
   ]
  },
  {
   "cell_type": "markdown",
   "id": "f9d2b183-d1aa-446d-a449-90d3375f7c53",
   "metadata": {},
   "source": [
    "# 10. Find the Length of the Longest Word in a Sentence\n",
    "## Problem Statement:\n",
    "Write a function to find the length of the longest word in a sentence.\n",
    "\n",
    "## Example 1:\n",
    "**Input:** `\"The quick brown fox\"`  \n",
    "**Output:** `5`\n",
    "\n",
    "## Example 2:\n",
    "**Input:** `\"A journey of a thousand miles\"`  \n",
    "**Output:** `8`\n"
   ]
  },
  {
   "cell_type": "code",
   "execution_count": 48,
   "id": "0ed5e962-f5dd-4e91-85e2-0cd0e9fcdf84",
   "metadata": {},
   "outputs": [],
   "source": [
    "def longest_word_len(sent):\n",
    "    words = sent.split()\n",
    "    max_length = 0 \n",
    "    \n",
    "    for word in words:\n",
    "        if len(word) > max_length:\n",
    "            max_length = len(word)\n",
    "    return max_length"
   ]
  },
  {
   "cell_type": "code",
   "execution_count": 49,
   "id": "6a62f30a-81ee-405a-89c5-560f88ed25fe",
   "metadata": {},
   "outputs": [
    {
     "name": "stdout",
     "output_type": "stream",
     "text": [
      "5\n"
     ]
    }
   ],
   "source": [
    "#example1 usage \n",
    "sentence1 = \"The quick brown fox\"\n",
    "print(longest_word_len(sentence1))"
   ]
  },
  {
   "cell_type": "code",
   "execution_count": 50,
   "id": "4cd931f7",
   "metadata": {},
   "outputs": [
    {
     "name": "stdout",
     "output_type": "stream",
     "text": [
      "8\n"
     ]
    }
   ],
   "source": [
    "#example2 usage:\n",
    "sentence2 = \"A journey of a thousand miles\"\n",
    "print(longest_word_len(sentence2))"
   ]
  },
  {
   "cell_type": "markdown",
   "id": "3499119b-b83a-4e89-b68e-db215e943998",
   "metadata": {},
   "source": [
    "# 11. Replace Spaces with '%20' (URL Encoding)\n",
    "## Problem Statement:\n",
    "Write a function to replace all spaces in a string with `%20`.\n",
    "\n",
    "## Example 1:\n",
    "**Input:** `\"Mr John Smith\"`  \n",
    "**Output:** `\"Mr%20John%20Smith\"`\n",
    "\n",
    "## Example 2:\n",
    "**Input:** `\"Hello World\"`  \n",
    "**Output:** `\"Hello%20World\"`\n"
   ]
  },
  {
   "cell_type": "code",
   "execution_count": 60,
   "id": "c1b7b110-7076-4e47-9690-b99de5ffd695",
   "metadata": {},
   "outputs": [
    {
     "data": {
      "text/plain": [
       "'Mr%20John%20Smith'"
      ]
     },
     "execution_count": 60,
     "metadata": {},
     "output_type": "execute_result"
    }
   ],
   "source": [
    "def url_encoding(string):\n",
    "    return string.replace(\" \", \"%20\")\n",
    "s = \"Mr John Smith\"\n",
    "url_encoding(s)"
   ]
  },
  {
   "cell_type": "code",
   "execution_count": 61,
   "id": "b94611fe-6fb7-4edf-9954-176d45889f5b",
   "metadata": {},
   "outputs": [
    {
     "name": "stdout",
     "output_type": "stream",
     "text": [
      "Mr%20John%20Smith\n"
     ]
    }
   ],
   "source": [
    "def url_encoding2(s):\n",
    "    t = \"%20\"\n",
    "    for char in s:\n",
    "        if char != \" \":\n",
    "            t += char\n",
    "    return t\n",
    "\n",
    "#example1 usage \n",
    "s = \"Mr John Smith\"\n",
    "print(url_encoding(s))"
   ]
  },
  {
   "cell_type": "code",
   "execution_count": 70,
   "id": "cdef05e8",
   "metadata": {},
   "outputs": [
    {
     "data": {
      "text/plain": [
       "'Hello%20World'"
      ]
     },
     "execution_count": 70,
     "metadata": {},
     "output_type": "execute_result"
    }
   ],
   "source": [
    "#example2 usage\n",
    "s2 = \"Hello World\"\n",
    "url_encoding(s2)"
   ]
  },
  {
   "cell_type": "markdown",
   "id": "59196fe4-763d-4d23-a941-6f17ce59481a",
   "metadata": {},
   "source": [
    "# 12. Find All Substrings of a String\n",
    "## Problem Statement:\n",
    "Write a function to return all substrings of a given string.\n",
    "\n",
    "## Example 1:\n",
    "**Input:** `\"abc\"`  \n",
    "**Output:** `[\"a\", \"b\", \"c\", \"ab\", \"bc\", \"abc\"]`\n",
    "\n",
    "## Example 2:\n",
    "**Input:** `\"xyz\"`  \n",
    "**Output:** `[\"x\", \"y\", \"z\", \"xy\", \"yz\", \"xyz\"]`\n"
   ]
  },
  {
   "cell_type": "code",
   "execution_count": 72,
   "id": "743c4c58-3950-427f-8c0b-bd4e3eda5fa8",
   "metadata": {},
   "outputs": [],
   "source": [
    "def all_substrings(s):\n",
    "    result = []\n",
    "    for i in range(len(s)):\n",
    "        for j in range(i+1, len(s)+1):\n",
    "            result.append(s[i:j])\n",
    "    return result"
   ]
  },
  {
   "cell_type": "code",
   "execution_count": 73,
   "id": "993ed2a1-22ea-41ab-aeec-da5d494b8561",
   "metadata": {},
   "outputs": [
    {
     "name": "stdout",
     "output_type": "stream",
     "text": [
      "['a', 'ab', 'abc', 'b', 'bc', 'c']\n",
      "['x', 'xy', 'xyz', 'y', 'yz', 'z']\n"
     ]
    }
   ],
   "source": [
    "print(all_substrings(\"abc\"))  \n",
    "print(all_substrings(\"xyz\"))  "
   ]
  },
  {
   "cell_type": "markdown",
   "id": "08cca7f3-0462-4e37-883e-4850ac7d9b4a",
   "metadata": {},
   "source": [
    "# 13. Reverse Each Word in a Sentence\n",
    "## Problem Statement:\n",
    "Write a function to reverse each word in a sentence while maintaining word order.\n",
    "\n",
    "## Example 1:\n",
    "**Input:** `\"hello world\"`  \n",
    "**Output:** `\"olleh dlrow\"`\n",
    "\n",
    "## Example 2:\n",
    "**Input:** `\"Python is fun\"`  \n",
    "**Output:** `\"nohtyP si nuf\"`\n"
   ]
  },
  {
   "cell_type": "code",
   "execution_count": 85,
   "id": "53eab569-3ea4-4e48-a585-6f729c5e2c69",
   "metadata": {},
   "outputs": [],
   "source": [
    "def reverse_each_word(sentence):\n",
    "    words = sentence.split()\n",
    "    reversed_words = []\n",
    "    \n",
    "    for word in words:\n",
    "        reversed_word = word[::-1]\n",
    "        reversed_words.append(reversed_word)\n",
    "        \n",
    "    return ' '.join(reversed_words)"
   ]
  },
  {
   "cell_type": "code",
   "execution_count": 86,
   "id": "72bba1ec-96c7-41b3-976f-f8dbdbc8cec9",
   "metadata": {},
   "outputs": [
    {
     "name": "stdout",
     "output_type": "stream",
     "text": [
      "olleh dlrow\n"
     ]
    }
   ],
   "source": [
    "sentence = \"hello world\"\n",
    "print(reverse_each_word(sentence))"
   ]
  },
  {
   "cell_type": "code",
   "execution_count": 87,
   "id": "1b7e5eb7",
   "metadata": {},
   "outputs": [
    {
     "name": "stdout",
     "output_type": "stream",
     "text": [
      "nohtyP si nuf\n"
     ]
    }
   ],
   "source": [
    "#example2 usage\n",
    "sentence2 = \"Python is fun\"\n",
    "print(reverse_each_word(sentence2))"
   ]
  },
  {
   "cell_type": "markdown",
   "id": "c52682bf-2f05-4515-acce-192b91883858",
   "metadata": {},
   "source": [
    "# 14. Find the Longest Common Prefix of a List of Strings\n",
    "## Problem Statement:\n",
    "Write a function to find the longest common prefix among a list of strings.\n",
    "\n",
    "## Example 1:\n",
    "**Input:** `[\"flower\", \"flow\", \"flight\"]`  \n",
    "**Output:** `\"fl\"`\n",
    "\n",
    "## Example 2:\n",
    "**Input:** `[\"dog\", \"racecar\", \"car\"]`  \n",
    "**Output:** `\"\"`\n"
   ]
  },
  {
   "cell_type": "code",
   "execution_count": 75,
   "id": "c326e4fd-7ad6-4d3e-9bd9-f5b28114eeff",
   "metadata": {},
   "outputs": [],
   "source": [
    "def longest_common_prefix(strs):\n",
    "    if not strs:\n",
    "        return \"\"\n",
    "    prefix = strs[0]\n",
    "    for s in strs[1:]:\n",
    "        while not s.startswith(prefix):\n",
    "            prefix = prefix[:-1]\n",
    "            if not prefix:\n",
    "                return \"\"\n",
    "    return prefix"
   ]
  },
  {
   "cell_type": "code",
   "execution_count": 76,
   "id": "353a8f44-2487-4cc5-8c4a-0e24e8148a22",
   "metadata": {},
   "outputs": [
    {
     "data": {
      "text/plain": [
       "'fl'"
      ]
     },
     "execution_count": 76,
     "metadata": {},
     "output_type": "execute_result"
    }
   ],
   "source": [
    "#example 1 usage\n",
    "strs = [\"flower\", \"flow\", \"flight\"]\n",
    "longest_common_prefix(strs)"
   ]
  },
  {
   "cell_type": "code",
   "execution_count": 77,
   "id": "2d4e5a38",
   "metadata": {},
   "outputs": [
    {
     "data": {
      "text/plain": [
       "''"
      ]
     },
     "execution_count": 77,
     "metadata": {},
     "output_type": "execute_result"
    }
   ],
   "source": [
    "#example 2 usage\n",
    "strs1 = [\"dog\", \"racecar\", \"car\"]\n",
    "longest_common_prefix(strs1)"
   ]
  },
  {
   "cell_type": "markdown",
   "id": "b90c467f-001e-4a93-bfff-08bba1a3f703",
   "metadata": {},
   "source": [
    "# 15. Check if a String is a Rotation of Another String\n",
    "## Problem Statement:\n",
    "Write a function to check if one string is a rotation of another.\n",
    "\n",
    "## Example 1:\n",
    "**Input:** `\"waterbottle\", \"erbottlewat\"`  \n",
    "**Output:** `True`\n",
    "\n",
    "## Example 2:\n",
    "**Input:** `\"hello\", \"lohel\"`  \n",
    "**Output:** `True`\n"
   ]
  },
  {
   "cell_type": "code",
   "execution_count": 92,
   "id": "dcf4c6e8-8192-4cff-8d48-9226448d0ff2",
   "metadata": {},
   "outputs": [],
   "source": [
    "def is_rotation(s1, s2):\n",
    "    return len(s1) == len(s2) and s2 in (s1 + s1)"
   ]
  },
  {
   "cell_type": "code",
   "execution_count": 96,
   "id": "f8e70c6b-a474-4c93-82fc-e39811a5f637",
   "metadata": {},
   "outputs": [
    {
     "name": "stdout",
     "output_type": "stream",
     "text": [
      "True\n"
     ]
    }
   ],
   "source": [
    "print(is_rotation(\"waterbottle\", \"erbottlewat\"))"
   ]
  },
  {
   "cell_type": "code",
   "execution_count": 97,
   "id": "0b8d6fb6",
   "metadata": {},
   "outputs": [
    {
     "name": "stdout",
     "output_type": "stream",
     "text": [
      "True\n"
     ]
    }
   ],
   "source": [
    "#example2 usage \n",
    "print(is_rotation(\"hello\", \"lohel\"))"
   ]
  },
  {
   "cell_type": "markdown",
   "id": "06d7a3d1-e01d-483d-95a9-30330f21440c",
   "metadata": {},
   "source": [
    "# 16. Find the Second Most Frequent Character in a String\n",
    "## Problem Statement:\n",
    "Write a function to find the second most frequent character in a string.\n",
    "\n",
    "## Example 1:\n",
    "**Input:** `\"banana\"`  \n",
    "**Output:** `\"n\"`\n",
    "\n",
    "## Example 2:\n",
    "**Input:** `\"mississippi\"`  \n",
    "**Output:** `\"s\"`\n"
   ]
  },
  {
   "cell_type": "code",
   "execution_count": 20,
   "id": "65a91520-9d70-4dc4-990a-931223a98b52",
   "metadata": {},
   "outputs": [],
   "source": [
    "def second_most_frequent(s):\n",
    "    freq = {}\n",
    "    for char in s:\n",
    "        if char in freq:\n",
    "            freq[char] += 1\n",
    "        else:\n",
    "            freq[char] = 1\n",
    "    print(f\"Frequency of each element in the string {s}: {freq}\")\n",
    "    most = 0\n",
    "    sec_most = 0 \n",
    "    most_key = None\n",
    "    sec_most_key = None\n",
    "    for key, value in freq.items():\n",
    "        if freq[key] > most:\n",
    "            sec_most = most\n",
    "            sec_most_key = most_key\n",
    "            most = freq[key]\n",
    "            most_key =  key\n",
    "        elif freq[key] > sec_most and freq[key] != most:\n",
    "            sec_most = freq[key]\n",
    "            sec_most_key = key \n",
    "    return sec_most, most, sec_most_key"
   ]
  },
  {
   "cell_type": "code",
   "execution_count": 21,
   "id": "2fba47a2-7db0-4fc0-9895-e157412acb93",
   "metadata": {},
   "outputs": [
    {
     "name": "stdout",
     "output_type": "stream",
     "text": [
      "Frequency of each element in the string banana: {'b': 1, 'a': 3, 'n': 2}\n"
     ]
    },
    {
     "data": {
      "text/plain": [
       "(2, 3, 'n')"
      ]
     },
     "execution_count": 21,
     "metadata": {},
     "output_type": "execute_result"
    }
   ],
   "source": [
    "s = \"banana\"\n",
    "second_most_frequent(s)"
   ]
  },
  {
   "cell_type": "markdown",
   "id": "d262dac7-f41e-400d-bfd0-ea5057f5c922",
   "metadata": {},
   "source": [
    "# 17. Check if a String is Made of Unique Characters\n",
    "## Problem Statement:\n",
    "Write a function to check if a string contains only unique characters.\n",
    "\n",
    "## Example 1:\n",
    "**Input:** `\"abcdef\"`  \n",
    "**Output:** `True`\n",
    "\n",
    "## Example 2:\n",
    "**Input:** `\"aabbcc\"`  \n",
    "**Output:** `False`\n"
   ]
  },
  {
   "cell_type": "code",
   "execution_count": 24,
   "id": "253be31b-7673-4b81-95e9-cb1cd09c48fb",
   "metadata": {},
   "outputs": [],
   "source": [
    "def is_unique(s1):\n",
    "    count = {}\n",
    "    for char in s1:\n",
    "        if char in count:\n",
    "            count[char] += 1\n",
    "        else:\n",
    "            count[char] = 1\n",
    "    for key, value in count.items():\n",
    "        if count[key] > 1:\n",
    "            return False\n",
    "        else:\n",
    "            return True  "
   ]
  },
  {
   "cell_type": "code",
   "execution_count": 25,
   "id": "80463995-b332-445c-9ed8-201e2e2caf7f",
   "metadata": {},
   "outputs": [
    {
     "data": {
      "text/plain": [
       "True"
      ]
     },
     "execution_count": 25,
     "metadata": {},
     "output_type": "execute_result"
    }
   ],
   "source": [
    "s = \"abcdef\"\n",
    "is_unique(s)"
   ]
  },
  {
   "cell_type": "code",
   "execution_count": 26,
   "id": "7b7a36d2",
   "metadata": {},
   "outputs": [
    {
     "data": {
      "text/plain": [
       "False"
      ]
     },
     "execution_count": 26,
     "metadata": {},
     "output_type": "execute_result"
    }
   ],
   "source": [
    "#Example2 usage:\n",
    "s2 = \"aabbcc\"\n",
    "is_unique(s2)"
   ]
  },
  {
   "cell_type": "markdown",
   "id": "739f0939-b81a-45d4-8cd2-d0659268711c",
   "metadata": {},
   "source": [
    "# 18. Find the Longest Palindromic Substring\n",
    "## Problem Statement:\n",
    "Write a function to find the longest palindromic substring.\n",
    "\n",
    "## Example 1:\n",
    "**Input:** `\"babad\"`  \n",
    "**Output:** `\"bab\"`\n",
    "\n",
    "## Example 2:\n",
    "**Input:** `\"cbbd\"`  \n",
    "**Output:** `\"bb\"`\n"
   ]
  },
  {
   "cell_type": "code",
   "execution_count": 28,
   "id": "02c1d0bc-c2b1-433e-a610-4d621d65e934",
   "metadata": {},
   "outputs": [],
   "source": [
    "def longest_palindromic_substring(s):\n",
    "    n = len(s)\n",
    "    if n == 0:\n",
    "        return \"\"\n",
    "    longest = s[0]\n",
    "    for i in range(n):\n",
    "        for j in range(i, n):\n",
    "            substring = s[i:j+1]\n",
    "            if substring == substring[::-1]:\n",
    "                if len(substring)>len(longest):\n",
    "                    longest = substring\n",
    "    return longest"
   ]
  },
  {
   "cell_type": "code",
   "execution_count": 29,
   "id": "1c8d4b7c",
   "metadata": {},
   "outputs": [
    {
     "data": {
      "text/plain": [
       "'bab'"
      ]
     },
     "execution_count": 29,
     "metadata": {},
     "output_type": "execute_result"
    }
   ],
   "source": [
    "s = \"babad\"\n",
    "longest_palindromic_substring(s)"
   ]
  },
  {
   "cell_type": "code",
   "execution_count": 30,
   "id": "c9d4879c",
   "metadata": {},
   "outputs": [
    {
     "data": {
      "text/plain": [
       "'bb'"
      ]
     },
     "execution_count": 30,
     "metadata": {},
     "output_type": "execute_result"
    }
   ],
   "source": [
    "s2 = \"cbbd\"\n",
    "longest_palindromic_substring(s2)"
   ]
  },
  {
   "cell_type": "markdown",
   "id": "9e48cf7b-b799-4574-984c-51fc15661b16",
   "metadata": {},
   "source": [
    "# 19. Remove Duplicate Characters from a String\n",
    "## Problem Statement:\n",
    "Write a function to remove duplicate characters from a string.\n",
    "\n",
    "## Example 1:\n",
    "**Input:** `\"hello\"`  \n",
    "**Output:** `\"helo\"`\n",
    "\n",
    "## Example 2:\n",
    "**Input:** `\"mississippi\"`  \n",
    "**Output:** `\"misp\"`\n"
   ]
  },
  {
   "cell_type": "code",
   "execution_count": 37,
   "id": "932536b6-b58c-47d8-897e-10aba10d5654",
   "metadata": {},
   "outputs": [],
   "source": [
    "def remove_duplicate(s):\n",
    "    new_str = \"\"\n",
    "    for char in s:\n",
    "        if char not in new_str:\n",
    "            new_str = new_str+char\n",
    "    return new_str\n",
    "    "
   ]
  },
  {
   "cell_type": "code",
   "execution_count": 38,
   "id": "ec288297-0e2a-4465-898b-39c002bed301",
   "metadata": {},
   "outputs": [
    {
     "data": {
      "text/plain": [
       "'helo'"
      ]
     },
     "execution_count": 38,
     "metadata": {},
     "output_type": "execute_result"
    }
   ],
   "source": [
    "s = \"hello\"\n",
    "remove_duplicate(s)"
   ]
  },
  {
   "cell_type": "code",
   "execution_count": 40,
   "id": "525b7fb0",
   "metadata": {},
   "outputs": [
    {
     "data": {
      "text/plain": [
       "'misp'"
      ]
     },
     "execution_count": 40,
     "metadata": {},
     "output_type": "execute_result"
    }
   ],
   "source": [
    "s1 = \"mississippi\"\n",
    "remove_duplicate(s1)"
   ]
  },
  {
   "cell_type": "markdown",
   "id": "a9abec9d-c0c3-4425-a1c6-e42342e3757a",
   "metadata": {},
   "source": [
    "# 20. Sort a String Alphabetically\n",
    "## Problem Statement:\n",
    "Write a function to sort the characters of a string alphabetically.\n",
    "\n",
    "## Example 1:\n",
    "**Input:** `\"hello\"`  \n",
    "**Output:** `\"ehllo\"`\n",
    "\n",
    "## Example 2:\n",
    "**Input:** `\"python\"`  \n",
    "**Output:** `\"hnopty\"`\n"
   ]
  },
  {
   "cell_type": "code",
   "execution_count": 31,
   "id": "9b881c5a-7e0c-4785-a2d6-f700725fad3d",
   "metadata": {},
   "outputs": [],
   "source": [
    "def sort_chara(s):\n",
    "    sorted_str = sorted(s, reverse = True)\n",
    "    return sorted_str"
   ]
  },
  {
   "cell_type": "code",
   "execution_count": 32,
   "id": "4f23c52f-0cb4-4dc7-a06d-be464656fda3",
   "metadata": {},
   "outputs": [
    {
     "data": {
      "text/plain": [
       "['o', 'l', 'l', 'h', 'e']"
      ]
     },
     "execution_count": 32,
     "metadata": {},
     "output_type": "execute_result"
    }
   ],
   "source": [
    "s = \"hello\"\n",
    "sort_chara(s)"
   ]
  },
  {
   "cell_type": "code",
   "execution_count": 33,
   "id": "e9117f85",
   "metadata": {},
   "outputs": [
    {
     "data": {
      "text/plain": [
       "['y', 't', 'p', 'o', 'n', 'h']"
      ]
     },
     "execution_count": 33,
     "metadata": {},
     "output_type": "execute_result"
    }
   ],
   "source": [
    "s = \"python\"\n",
    "sort_chara(s)"
   ]
  },
  {
   "cell_type": "markdown",
   "id": "f267b2f8-c7f6-4295-a7b0-c89af5cf5807",
   "metadata": {},
   "source": [
    "# 21. Find the Smallest Window in a String Containing All Characters of Another String\n",
    "## Problem Statement:\n",
    "Write a function to find the smallest window in a string that contains all characters of another string.\n",
    "\n",
    "## Example 1:\n",
    "**Input:** `\"ADOBECODEBANC\", \"ABC\"`  \n",
    "**Output:** `\"BANC\"`\n",
    "\n",
    "## Example 2:\n",
    "**Input:** `\"aabbcc\", \"abc\"`  \n",
    "**Output:** `\"abc\"`\n"
   ]
  },
  {
   "cell_type": "code",
   "execution_count": 4,
   "id": "50edf59e",
   "metadata": {},
   "outputs": [],
   "source": [
    "def count_characters(s1, s2):\n",
    "    freq = [0]*256\n",
    "    for char in s2: #count the frequency of each character in the substring \n",
    "        freq[ord(char)] += 1\n",
    "    for char in s1:\n",
    "        if freq[ord(char)] > 0:\n",
    "            freq[ord(char)] -= 1 #decrement the frequency for each character found in the s2\n",
    "    return all(c==0 for c in freq)\n",
    "def find_smallest_window(s1, s2):\n",
    "    smallest_substr = \"\"\n",
    "    min_len = float('inf')\n",
    "    for i in range(len(s1)):\n",
    "        for j in range(i, len(s1)):\n",
    "            substr = s1[i:j+1]\n",
    "            if count_characters(substr, s2):\n",
    "                curr_len = len(substr)\n",
    "                if curr_len < min_len:\n",
    "                    min_len = curr_len \n",
    "                    smallest_substr = substr\n",
    "    return smallest_substr"
   ]
  },
  {
   "cell_type": "code",
   "execution_count": 5,
   "id": "625caf99",
   "metadata": {},
   "outputs": [
    {
     "data": {
      "text/plain": [
       "True"
      ]
     },
     "execution_count": 5,
     "metadata": {},
     "output_type": "execute_result"
    }
   ],
   "source": [
    "#Example 1 usage\n",
    "s1 = \"ADOBECODEBANC\"\n",
    "s2 =\"ABC\"\n",
    "count_characters(s1, s2)"
   ]
  },
  {
   "cell_type": "code",
   "execution_count": 6,
   "id": "263c9bd4",
   "metadata": {
    "scrolled": true
   },
   "outputs": [
    {
     "data": {
      "text/plain": [
       "'BANC'"
      ]
     },
     "execution_count": 6,
     "metadata": {},
     "output_type": "execute_result"
    }
   ],
   "source": [
    "find_smallest_window(s1, s2)"
   ]
  },
  {
   "cell_type": "code",
   "execution_count": 7,
   "id": "32df347a",
   "metadata": {},
   "outputs": [
    {
     "name": "stdout",
     "output_type": "stream",
     "text": [
      "Is the s2= abc substring of s1 = aabbcc?\n",
      "True\n"
     ]
    }
   ],
   "source": [
    "#example2 usage\n",
    "f = \"aabbcc\"\n",
    "g = \"abc\"\n",
    "print(f\"Is the s2= {g} substring of s1 = {f}?\")\n",
    "print(count_characters(f, g))"
   ]
  },
  {
   "cell_type": "code",
   "execution_count": 8,
   "id": "2fb77667",
   "metadata": {},
   "outputs": [
    {
     "data": {
      "text/plain": [
       "'abbc'"
      ]
     },
     "execution_count": 8,
     "metadata": {},
     "output_type": "execute_result"
    }
   ],
   "source": [
    "#find the smallest window\n",
    "find_smallest_window(f, g)"
   ]
  },
  {
   "cell_type": "markdown",
   "id": "823be7b2-27f6-40df-82b2-f1f2b69bc1cb",
   "metadata": {},
   "source": [
    "# 22. Implement Run-Length Encoding\n",
    "## Problem Statement:\n",
    "Write a function to perform run-length encoding on a string.\n",
    "\n",
    "## Example 1:\n",
    "**Input:** `\"aaabbc\"`  \n",
    "**Output:** `\"3a2b1c\"`\n",
    "\n",
    "## Example 2:\n",
    "**Input:** `\"wwwwaaadexxxxxx\"`  \n",
    "**Output:** `\"4w3a1d1e6x\"`\n"
   ]
  },
  {
   "cell_type": "code",
   "execution_count": 9,
   "id": "e127c6b1-57fd-40cb-aac5-9e07cef586d2",
   "metadata": {},
   "outputs": [],
   "source": [
    "def run_length_encoding(s):\n",
    "    result = \"\"\n",
    "    #initialize a count variable\n",
    "    count = 1\n",
    "    for i in range(1, len(s)):\n",
    "        if s[i] == s[i-1]:\n",
    "            count = count+1\n",
    "        else: \n",
    "            result = result + f'{count}{s[i-1]}'\n",
    "            count = 1\n",
    "    result = result + f'{count}{s[-1]}'\n",
    "    return result "
   ]
  },
  {
   "cell_type": "code",
   "execution_count": 10,
   "id": "3470d46e-444c-43be-b517-730824de2300",
   "metadata": {},
   "outputs": [
    {
     "data": {
      "text/plain": [
       "'3a2b1c'"
      ]
     },
     "execution_count": 10,
     "metadata": {},
     "output_type": "execute_result"
    }
   ],
   "source": [
    "#example 1 use \n",
    "s = 'aaabbc'\n",
    "run_length_encoding(s)\n"
   ]
  },
  {
   "cell_type": "code",
   "execution_count": 11,
   "id": "a62c7890",
   "metadata": {},
   "outputs": [
    {
     "data": {
      "text/plain": [
       "'4w3a1d1e6x'"
      ]
     },
     "execution_count": 11,
     "metadata": {},
     "output_type": "execute_result"
    }
   ],
   "source": [
    "#Example 2 usage \n",
    "s = \"wwwwaaadexxxxxx\"\n",
    "run_length_encoding(s)"
   ]
  },
  {
   "cell_type": "markdown",
   "id": "fbe98b17-13c7-4f56-93db-d8056113af31",
   "metadata": {},
   "source": [
    "# 23. Find All Permutations of a String\n",
    "## Problem Statement:\n",
    "Write a function to generate all permutations of a given string.\n",
    "\n",
    "## Example 1:\n",
    "**Input:** `\"abc\"`  \n",
    "**Output:** `[\"abc\", \"acb\", \"bac\", \"bca\", \"cab\", \"cba\"]`\n",
    "\n",
    "## Example 2:\n",
    "**Input:** `\"ab\"`  \n",
    "**Output:** `[\"ab\", \"ba\"]`\n"
   ]
  },
  {
   "cell_type": "code",
   "execution_count": 14,
   "id": "101a8feb-61e0-4a97-a122-f5de229e6817",
   "metadata": {},
   "outputs": [],
   "source": [
    "def generate_permutations(s):\n",
    "    permut = []\n",
    "    for i in range(len(s)):\n",
    "        for j in range(len(s)):\n",
    "            for k in range(len(s)):\n",
    "                if i != j and j != k and k != i:\n",
    "                    permut.append(s[i]+s[j]+s[k])\n",
    "    print(f\"All Permutations of a String: {permut}\")"
   ]
  },
  {
   "cell_type": "code",
   "execution_count": 15,
   "id": "ff510bea-3648-446b-93c8-aa5246b38c50",
   "metadata": {},
   "outputs": [
    {
     "name": "stdout",
     "output_type": "stream",
     "text": [
      "All Permutations of a String: ['abc', 'acb', 'bac', 'bca', 'cab', 'cba']\n"
     ]
    }
   ],
   "source": [
    "#Example 1 usage\n",
    "s = \"abc\"\n",
    "generate_permutations(s)"
   ]
  },
  {
   "cell_type": "markdown",
   "id": "1064221e-a51f-46b1-afea-c37505d3b68b",
   "metadata": {},
   "source": [
    "# 24. Count the Number of Distinct Subsequences of a String\n",
    "## Problem Statement:\n",
    "Write a function to count the number of distinct subsequences of a string.\n",
    "\n",
    "## Example 1:\n",
    "**Input:** `\"abc\"`  \n",
    "**Output:** `7`\n",
    "\n",
    "## Example 2:\n",
    "**Input:** `\"aaa\"`  \n",
    "**Output:** `3`\n"
   ]
  },
  {
   "cell_type": "code",
   "execution_count": 38,
   "id": "fb9c8ffe-7045-446c-9033-c88601f25969",
   "metadata": {},
   "outputs": [],
   "source": [
    "def count_distinct(s):\n",
    "    count = [0]*256\n",
    "    for i in range(len(s)):\n",
    "        if s[i] != \" \":\n",
    "            count[ord(s[i])] += 1\n",
    "        \n",
    "    n = i\n",
    "    for i in range(n):\n",
    "        if (count[s[i] == 1):\n",
    "            print(char, end = \"\")"
   ]
  },
  {
   "cell_type": "code",
   "execution_count": 39,
   "id": "9740cb31-5aa2-431e-9c3d-9822cf1521ac",
   "metadata": {},
   "outputs": [
    {
     "name": "stdout",
     "output_type": "stream",
     "text": [
      "cc"
     ]
    }
   ],
   "source": [
    "s = \"abc\"\n",
    "count_distinct(s)"
   ]
  },
  {
   "cell_type": "code",
   "execution_count": 50,
   "id": "75b516ff",
   "metadata": {},
   "outputs": [],
   "source": [
    "# to find the count of unique subsequences\n",
    "def distinctSubseq(str):\n",
    "    n = len(str)\n",
    "\n",
    "    # to store the last occurrence \n",
    "    # of each character in the string\n",
    "    last = [0] * 26\n",
    "\n",
    "    # to store result after each index\n",
    "    res = 1\n",
    "\n",
    "    for i in range(1, n+1):\n",
    "\n",
    "        # double the count of unique subsequences\n",
    "        # and remove the repetition\n",
    "        cur = 2 * res - last[ord(str[i - 1]) - ord('a')]\n",
    "\n",
    "        # update the last occurrence of the character\n",
    "        last[ord(str[i - 1]) - ord('a')] = res\n",
    "        res = cur\n",
    "    return res"
   ]
  },
  {
   "cell_type": "code",
   "execution_count": 51,
   "id": "08f5e20d",
   "metadata": {},
   "outputs": [
    {
     "data": {
      "text/plain": [
       "8"
      ]
     },
     "execution_count": 51,
     "metadata": {},
     "output_type": "execute_result"
    }
   ],
   "source": [
    "s = \"abc\"\n",
    "distinctSubseq(s)"
   ]
  },
  {
   "cell_type": "markdown",
   "id": "2fd59b75-b80f-466c-9517-34c927e66134",
   "metadata": {},
   "source": [
    "# 25. Find the Shortest Superstring That Contains All Given Strings as Subsequences\n",
    "## Problem Statement:\n",
    "Write a function to find the shortest superstring that contains all given strings as subsequences.\n",
    "\n",
    "## Example 1:\n",
    "**Input:** `[\"catg\", \"ctaagt\", \"gcta\", \"ttca\", \"atgcatc\"]`  \n",
    "**Output:** `\"gctaagttcatgcatc\"`\n",
    "\n",
    "## Example 2:\n",
    "**Input:** `[\"abc\", \"bca\", \"cab\"]`  \n",
    "**Output:** `\"abcab\"`\n"
   ]
  },
  {
   "cell_type": "code",
   "execution_count": 55,
   "id": "c4340296-fcc3-45e5-a27c-8706d0c53502",
   "metadata": {},
   "outputs": [],
   "source": [
    "def find_overlap(a, b):\n",
    "    max_overlap = 0\n",
    "    #check suffix of a-string with the prefix of b-string\n",
    "    for i in range(1, min(len(a), len(b)) + 1):\n",
    "        if a[-i:] == b[:i]:\n",
    "            max_overlap = i\n",
    "    return max_overlap\n",
    "def shortest_supperstring(strings):\n",
    "    while len(strings)>1:\n",
    "        max_len = -1\n",
    "        best_pair = (0, 1)\n",
    "        merged_str = \"\"\n",
    "        \n",
    "        for i in range(len(strings)):\n",
    "            for j in range(len(strings)):\n",
    "                if i != j:\n",
    "                    overlap = find_overlap(strings[i], strings[j])\n",
    "                    if overlap > max_len:\n",
    "                        max_len = overlap\n",
    "                        best_pair = (i, j)\n",
    "                        merged_str = strings[i] + strings[j][overlap:]\n",
    "        #merge the best pair\n",
    "        i, j = best_pair\n",
    "        strings.pop(j)\n",
    "        strings.pop(i)\n",
    "        strings.append(merged_str)\n",
    "        \n",
    "    return strings[0]"
   ]
  },
  {
   "cell_type": "code",
   "execution_count": 56,
   "id": "74cff6c2-11a5-42c4-9a16-f649cd8c7e10",
   "metadata": {},
   "outputs": [
    {
     "data": {
      "text/plain": [
       "'catgcatcgctaagt'"
      ]
     },
     "execution_count": 56,
     "metadata": {},
     "output_type": "execute_result"
    }
   ],
   "source": [
    "#example1 usage \n",
    "strings = [\"catg\", \"ctaagt\", \"gcta\", \"ttca\", \"atgcatc\"]\n",
    "shortest_supperstring(strings)"
   ]
  },
  {
   "cell_type": "code",
   "execution_count": 57,
   "id": "bd5037d8",
   "metadata": {},
   "outputs": [
    {
     "name": "stdout",
     "output_type": "stream",
     "text": [
      "cabca\n"
     ]
    }
   ],
   "source": [
    "#example2 usage:\n",
    "string2 = [\"abc\", \"bca\", \"cab\"]\n",
    "print(shortest_superstring(string2))"
   ]
  },
  {
   "cell_type": "code",
   "execution_count": null,
   "id": "9e922687",
   "metadata": {},
   "outputs": [],
   "source": []
  }
 ],
 "metadata": {
  "kernelspec": {
   "display_name": "Python 3 (ipykernel)",
   "language": "python",
   "name": "python3"
  },
  "language_info": {
   "codemirror_mode": {
    "name": "ipython",
    "version": 3
   },
   "file_extension": ".py",
   "mimetype": "text/x-python",
   "name": "python",
   "nbconvert_exporter": "python",
   "pygments_lexer": "ipython3",
   "version": "3.9.13"
  }
 },
 "nbformat": 4,
 "nbformat_minor": 5
}
