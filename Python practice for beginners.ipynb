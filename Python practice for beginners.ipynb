{
 "cells": [
  {
   "cell_type": "code",
   "execution_count": 1,
   "id": "b1387884",
   "metadata": {},
   "outputs": [],
   "source": [
    "import sys \n",
    "import keyword\n",
    "import operator\n",
    "import os \n",
    "from datetime import datetime"
   ]
  },
  {
   "cell_type": "markdown",
   "id": "87adbcf0",
   "metadata": {},
   "source": [
    "# Keywords\n",
    "keywords are the reserved words in Python and can't be used as an identifier."
   ]
  },
  {
   "cell_type": "code",
   "execution_count": 2,
   "id": "d967a5c9",
   "metadata": {},
   "outputs": [
    {
     "name": "stdout",
     "output_type": "stream",
     "text": [
      "['False', 'None', 'True', '__peg_parser__', 'and', 'as', 'assert', 'async', 'await', 'break', 'class', 'continue', 'def', 'del', 'elif', 'else', 'except', 'finally', 'for', 'from', 'global', 'if', 'import', 'in', 'is', 'lambda', 'nonlocal', 'not', 'or', 'pass', 'raise', 'return', 'try', 'while', 'with', 'yield']\n"
     ]
    }
   ],
   "source": [
    "print(keyword.kwlist) #list all python keywords"
   ]
  },
  {
   "cell_type": "code",
   "execution_count": 3,
   "id": "c3d30e52",
   "metadata": {},
   "outputs": [
    {
     "data": {
      "text/plain": [
       "36"
      ]
     },
     "execution_count": 3,
     "metadata": {},
     "output_type": "execute_result"
    }
   ],
   "source": [
    "#print lenght of keywords\n",
    "len(keyword.kwlist)"
   ]
  },
  {
   "cell_type": "markdown",
   "id": "d37670e0",
   "metadata": {},
   "source": [
    "# Identifiers\n",
    "An identifier is a name given to the entities like class, functions, variables, etc. It helps to differentiate one entity from another.\n"
   ]
  },
  {
   "cell_type": "code",
   "execution_count": 6,
   "id": "17a576ad",
   "metadata": {},
   "outputs": [
    {
     "ename": "SyntaxError",
     "evalue": "invalid syntax (2200673040.py, line 2)",
     "output_type": "error",
     "traceback": [
      "\u001b[1;36m  File \u001b[1;32m\"C:\\Users\\LENOVO\\AppData\\Local\\Temp\\ipykernel_5332\\2200673040.py\"\u001b[1;36m, line \u001b[1;32m2\u001b[0m\n\u001b[1;33m    1var = 10\u001b[0m\n\u001b[1;37m     ^\u001b[0m\n\u001b[1;31mSyntaxError\u001b[0m\u001b[1;31m:\u001b[0m invalid syntax\n"
     ]
    }
   ],
   "source": [
    "#identifer cannit start with digit \n",
    "1var = 10"
   ]
  },
  {
   "cell_type": "code",
   "execution_count": 8,
   "id": "80f2923e",
   "metadata": {},
   "outputs": [
    {
     "ename": "NameError",
     "evalue": "name 'val2' is not defined",
     "output_type": "error",
     "traceback": [
      "\u001b[1;31m---------------------------------------------------------------------------\u001b[0m",
      "\u001b[1;31mNameError\u001b[0m                                 Traceback (most recent call last)",
      "\u001b[1;32m~\\AppData\\Local\\Temp\\ipykernel_5332\\458342329.py\u001b[0m in \u001b[0;36m<module>\u001b[1;34m\u001b[0m\n\u001b[1;32m----> 1\u001b[1;33m \u001b[0mval2\u001b[0m\u001b[1;33m@=\u001b[0m \u001b[1;36m2\u001b[0m \u001b[1;31m#an identifier canot use special symbols\u001b[0m\u001b[1;33m\u001b[0m\u001b[1;33m\u001b[0m\u001b[0m\n\u001b[0m",
      "\u001b[1;31mNameError\u001b[0m: name 'val2' is not defined"
     ]
    }
   ],
   "source": [
    "val2@= 2 #an identifier canot use special symbols"
   ]
  },
  {
   "cell_type": "code",
   "execution_count": 9,
   "id": "0266279c",
   "metadata": {},
   "outputs": [
    {
     "ename": "SyntaxError",
     "evalue": "invalid syntax (2789764451.py, line 1)",
     "output_type": "error",
     "traceback": [
      "\u001b[1;36m  File \u001b[1;32m\"C:\\Users\\LENOVO\\AppData\\Local\\Temp\\ipykernel_5332\\2789764451.py\"\u001b[1;36m, line \u001b[1;32m1\u001b[0m\n\u001b[1;33m    import = 125 #keywords cannot be used as an identifier\u001b[0m\n\u001b[1;37m           ^\u001b[0m\n\u001b[1;31mSyntaxError\u001b[0m\u001b[1;31m:\u001b[0m invalid syntax\n"
     ]
    }
   ],
   "source": [
    "import = 125 #keywords cannot be used as an identifier"
   ]
  },
  {
   "cell_type": "code",
   "execution_count": 11,
   "id": "f8d7f0d9",
   "metadata": {},
   "outputs": [],
   "source": [
    "def square(num):\n",
    "    \"\"\"\"\n",
    "    this function returns the square of the provided number \n",
    "    \"\"\"\n",
    "    return num ** 2"
   ]
  },
  {
   "cell_type": "code",
   "execution_count": 12,
   "id": "02778cbd",
   "metadata": {},
   "outputs": [
    {
     "data": {
      "text/plain": [
       "(81, '\"\\n    this function returns the square of the provided number \\n    ')"
      ]
     },
     "execution_count": 12,
     "metadata": {},
     "output_type": "execute_result"
    }
   ],
   "source": [
    "square(9), square.__doc__"
   ]
  },
  {
   "cell_type": "code",
   "execution_count": 16,
   "id": "df5d383e",
   "metadata": {},
   "outputs": [
    {
     "name": "stdout",
     "output_type": "stream",
     "text": [
      "<class 'int'>\n",
      "10 is integer? True\n",
      "size of val1:  28\n"
     ]
    }
   ],
   "source": [
    "val1 = 10\n",
    "print(type(val1))\n",
    "print(val1, \"is integer?\", isinstance(val1, int))\n",
    "print(\"size of val1: \", sys.getsizeof(val1))"
   ]
  },
  {
   "cell_type": "code",
   "execution_count": 18,
   "id": "8c8c599b",
   "metadata": {},
   "outputs": [
    {
     "name": "stdout",
     "output_type": "stream",
     "text": [
      "20.9\n",
      "<class 'float'>\n",
      "20.9 is integer? False\n",
      "size of y:  24\n"
     ]
    }
   ],
   "source": [
    "y = 20.9\n",
    "print(y)\n",
    "print(type(y))\n",
    "print(y, \"is integer?\", isinstance(y, int))\n",
    "print(\"size of y: \", sys.getsizeof(y))"
   ]
  },
  {
   "cell_type": "code",
   "execution_count": 22,
   "id": "3c230ee8",
   "metadata": {},
   "outputs": [
    {
     "name": "stdout",
     "output_type": "stream",
     "text": [
      "<class 'complex'>\n",
      "(10+2j) is a complex number? True\n",
      "size of z is: 32\n"
     ]
    }
   ],
   "source": [
    "z = 10+2j\n",
    "print(type(z))\n",
    "print(f\"{z} is a complex number? {isinstance(z, complex)}\")\n",
    "print(f\"size of z is: {sys.getsizeof(z)}\")"
   ]
  },
  {
   "cell_type": "code",
   "execution_count": 28,
   "id": "ef131738",
   "metadata": {},
   "outputs": [
    {
     "name": "stdout",
     "output_type": "stream",
     "text": [
      "24\n"
     ]
    }
   ],
   "source": [
    "#size of float number in bits\n",
    "print(sys.getsizeof(float()))"
   ]
  },
  {
   "cell_type": "code",
   "execution_count": 27,
   "id": "b7ec7e95",
   "metadata": {},
   "outputs": [
    {
     "name": "stdout",
     "output_type": "stream",
     "text": [
      "24\n"
     ]
    }
   ],
   "source": [
    "#size of integer in bits\n",
    "print(sys.getsizeof(int()))"
   ]
  },
  {
   "cell_type": "code",
   "execution_count": 26,
   "id": "e591a6a9",
   "metadata": {},
   "outputs": [
    {
     "name": "stdout",
     "output_type": "stream",
     "text": [
      "32\n"
     ]
    }
   ],
   "source": [
    "#size of complex number in bits \n",
    "print(sys.getsizeof(complex()))"
   ]
  },
  {
   "cell_type": "code",
   "execution_count": 29,
   "id": "62e8eef8",
   "metadata": {},
   "outputs": [
    {
     "name": "stdout",
     "output_type": "stream",
     "text": [
      "AI is funAI is fun\n"
     ]
    }
   ],
   "source": [
    "str1 = \"AI is fun\"\n",
    "print(str1 * 2)"
   ]
  },
  {
   "cell_type": "code",
   "execution_count": 33,
   "id": "88d7ba43",
   "metadata": {},
   "outputs": [
    {
     "data": {
      "text/plain": [
       "'hllo\\n          world'"
      ]
     },
     "execution_count": 33,
     "metadata": {},
     "output_type": "execute_result"
    }
   ],
   "source": [
    "str2 = \"\"\"hllo\n",
    "          world\"\"\"\n",
    "str2"
   ]
  },
  {
   "cell_type": "code",
   "execution_count": 34,
   "id": "717f79a5",
   "metadata": {},
   "outputs": [
    {
     "data": {
      "text/plain": [
       "False"
      ]
     },
     "execution_count": 34,
     "metadata": {},
     "output_type": "execute_result"
    }
   ],
   "source": [
    "bool(False)"
   ]
  },
  {
   "cell_type": "code",
   "execution_count": 35,
   "id": "b585e394",
   "metadata": {},
   "outputs": [
    {
     "data": {
      "text/plain": [
       "True"
      ]
     },
     "execution_count": 35,
     "metadata": {},
     "output_type": "execute_result"
    }
   ],
   "source": [
    "bool(True)"
   ]
  },
  {
   "cell_type": "code",
   "execution_count": 36,
   "id": "4e826bb9",
   "metadata": {},
   "outputs": [
    {
     "data": {
      "text/plain": [
       "True"
      ]
     },
     "execution_count": 36,
     "metadata": {},
     "output_type": "execute_result"
    }
   ],
   "source": [
    "bool(1)"
   ]
  },
  {
   "cell_type": "code",
   "execution_count": 37,
   "id": "161231a0",
   "metadata": {},
   "outputs": [
    {
     "data": {
      "text/plain": [
       "False"
      ]
     },
     "execution_count": 37,
     "metadata": {},
     "output_type": "execute_result"
    }
   ],
   "source": [
    "bool(0)"
   ]
  },
  {
   "cell_type": "code",
   "execution_count": 38,
   "id": "2bbceb43",
   "metadata": {},
   "outputs": [
    {
     "data": {
      "text/plain": [
       "20"
      ]
     },
     "execution_count": 38,
     "metadata": {},
     "output_type": "execute_result"
    }
   ],
   "source": [
    "len(str2)"
   ]
  },
  {
   "cell_type": "markdown",
   "id": "718bcbe3",
   "metadata": {},
   "source": [
    "# Indexing in string"
   ]
  },
  {
   "cell_type": "code",
   "execution_count": 40,
   "id": "3b5bca3e",
   "metadata": {},
   "outputs": [
    {
     "data": {
      "text/plain": [
       "' '"
      ]
     },
     "execution_count": 40,
     "metadata": {},
     "output_type": "execute_result"
    }
   ],
   "source": [
    "str2[5]"
   ]
  },
  {
   "cell_type": "code",
   "execution_count": 41,
   "id": "1ac34248",
   "metadata": {},
   "outputs": [
    {
     "data": {
      "text/plain": [
       "'l'"
      ]
     },
     "execution_count": 41,
     "metadata": {},
     "output_type": "execute_result"
    }
   ],
   "source": [
    "str2[len(str2)-2]"
   ]
  },
  {
   "cell_type": "code",
   "execution_count": 44,
   "id": "1889f405",
   "metadata": {},
   "outputs": [
    {
     "data": {
      "text/plain": [
       "'l'"
      ]
     },
     "execution_count": 44,
     "metadata": {},
     "output_type": "execute_result"
    }
   ],
   "source": [
    "str2[18]"
   ]
  },
  {
   "cell_type": "code",
   "execution_count": 45,
   "id": "067e7423",
   "metadata": {},
   "outputs": [
    {
     "data": {
      "text/plain": [
       "'h'"
      ]
     },
     "execution_count": 45,
     "metadata": {},
     "output_type": "execute_result"
    }
   ],
   "source": [
    "str2[0]"
   ]
  },
  {
   "cell_type": "code",
   "execution_count": 49,
   "id": "d5fdaeaf",
   "metadata": {},
   "outputs": [
    {
     "data": {
      "text/plain": [
       "'Tooba Noor'"
      ]
     },
     "execution_count": 49,
     "metadata": {},
     "output_type": "execute_result"
    }
   ],
   "source": [
    "str1 = \"Tooba\"\n",
    "str2 = \" Noor\"\n",
    "str3 = str1 +str2\n",
    "str3"
   ]
  },
  {
   "cell_type": "code",
   "execution_count": 50,
   "id": "f38e4087",
   "metadata": {},
   "outputs": [
    {
     "data": {
      "text/plain": [
       "'r'"
      ]
     },
     "execution_count": 50,
     "metadata": {},
     "output_type": "execute_result"
    }
   ],
   "source": [
    "str3[-1:]"
   ]
  },
  {
   "cell_type": "code",
   "execution_count": 51,
   "id": "40ebc445",
   "metadata": {},
   "outputs": [
    {
     "data": {
      "text/plain": [
       "'r'"
      ]
     },
     "execution_count": 51,
     "metadata": {},
     "output_type": "execute_result"
    }
   ],
   "source": [
    "str3[-1]"
   ]
  },
  {
   "cell_type": "code",
   "execution_count": 52,
   "id": "d7d287c6",
   "metadata": {},
   "outputs": [
    {
     "data": {
      "text/plain": [
       "10"
      ]
     },
     "execution_count": 52,
     "metadata": {},
     "output_type": "execute_result"
    }
   ],
   "source": [
    "len(str3)"
   ]
  },
  {
   "cell_type": "code",
   "execution_count": 69,
   "id": "e16fe491",
   "metadata": {
    "scrolled": true
   },
   "outputs": [
    {
     "data": {
      "text/plain": [
       "'ro bo'"
      ]
     },
     "execution_count": 69,
     "metadata": {},
     "output_type": "execute_result"
    }
   ],
   "source": [
    "str3[::-2]"
   ]
  },
  {
   "cell_type": "code",
   "execution_count": 72,
   "id": "376e3a73",
   "metadata": {
    "scrolled": true
   },
   "outputs": [
    {
     "data": {
      "text/plain": [
       "'madam'"
      ]
     },
     "execution_count": 72,
     "metadata": {},
     "output_type": "execute_result"
    }
   ],
   "source": [
    "s =  \"madam\"\n",
    "s[::-1]"
   ]
  },
  {
   "cell_type": "code",
   "execution_count": 73,
   "id": "8d10d3a0",
   "metadata": {},
   "outputs": [
    {
     "data": {
      "text/plain": [
       "'madam'"
      ]
     },
     "execution_count": 73,
     "metadata": {},
     "output_type": "execute_result"
    }
   ],
   "source": [
    "s[::1]"
   ]
  },
  {
   "cell_type": "markdown",
   "id": "39002902",
   "metadata": {},
   "source": [
    "# Loop operation is string"
   ]
  },
  {
   "cell_type": "code",
   "execution_count": 67,
   "id": "fa5c1e2f",
   "metadata": {},
   "outputs": [
    {
     "name": "stdout",
     "output_type": "stream",
     "text": [
      "T\n",
      "o\n",
      "o\n",
      "b\n",
      "a\n",
      " \n",
      "N\n",
      "o\n",
      "o\n",
      "r\n"
     ]
    }
   ],
   "source": [
    "for i in str3:\n",
    "    print(i)"
   ]
  },
  {
   "cell_type": "code",
   "execution_count": 68,
   "id": "faf8bc25",
   "metadata": {},
   "outputs": [
    {
     "name": "stdout",
     "output_type": "stream",
     "text": [
      "(0, 'T')\n",
      "(1, 'o')\n",
      "(2, 'o')\n",
      "(3, 'b')\n",
      "(4, 'a')\n",
      "(5, ' ')\n",
      "(6, 'N')\n",
      "(7, 'o')\n",
      "(8, 'o')\n",
      "(9, 'r')\n"
     ]
    }
   ],
   "source": [
    "for i in enumerate(str3):\n",
    "    print(i)"
   ]
  },
  {
   "cell_type": "code",
   "execution_count": 74,
   "id": "1978144a",
   "metadata": {},
   "outputs": [
    {
     "data": {
      "text/plain": [
       "[(0, 'T'),\n",
       " (1, 'o'),\n",
       " (2, 'o'),\n",
       " (3, 'b'),\n",
       " (4, 'a'),\n",
       " (5, ' '),\n",
       " (6, 'N'),\n",
       " (7, 'o'),\n",
       " (8, 'o'),\n",
       " (9, 'r')]"
      ]
     },
     "execution_count": 74,
     "metadata": {},
     "output_type": "execute_result"
    }
   ],
   "source": [
    "list(enumerate(str3))"
   ]
  },
  {
   "cell_type": "markdown",
   "id": "13dd5785",
   "metadata": {},
   "source": [
    "# String Functions"
   ]
  },
  {
   "cell_type": "code",
   "execution_count": 75,
   "id": "9acd85ed",
   "metadata": {
    "scrolled": true
   },
   "outputs": [
    {
     "data": {
      "text/plain": [
       "True"
      ]
     },
     "execution_count": 75,
     "metadata": {},
     "output_type": "execute_result"
    }
   ],
   "source": [
    "'T' in str3"
   ]
  },
  {
   "cell_type": "code",
   "execution_count": 76,
   "id": "3e429617",
   "metadata": {},
   "outputs": [
    {
     "data": {
      "text/plain": [
       "True"
      ]
     },
     "execution_count": 76,
     "metadata": {},
     "output_type": "execute_result"
    }
   ],
   "source": [
    "'r' in str3"
   ]
  },
  {
   "cell_type": "code",
   "execution_count": 77,
   "id": "b13f6ac3",
   "metadata": {},
   "outputs": [
    {
     "data": {
      "text/plain": [
       "False"
      ]
     },
     "execution_count": 77,
     "metadata": {},
     "output_type": "execute_result"
    }
   ],
   "source": [
    "'O' in str3"
   ]
  },
  {
   "cell_type": "code",
   "execution_count": 78,
   "id": "3575201a",
   "metadata": {
    "scrolled": true
   },
   "outputs": [
    {
     "data": {
      "text/plain": [
       "True"
      ]
     },
     "execution_count": 78,
     "metadata": {},
     "output_type": "execute_result"
    }
   ],
   "source": [
    "'b' in str3"
   ]
  },
  {
   "cell_type": "markdown",
   "id": "f34e2428",
   "metadata": {},
   "source": [
    "# String Partition"
   ]
  },
  {
   "cell_type": "code",
   "execution_count": 79,
   "id": "77912303",
   "metadata": {},
   "outputs": [
    {
     "data": {
      "text/plain": [
       "('Tooba', ' ', 'Noor')"
      ]
     },
     "execution_count": 79,
     "metadata": {},
     "output_type": "execute_result"
    }
   ],
   "source": [
    "str3.partition(\" \")"
   ]
  },
  {
   "cell_type": "code",
   "execution_count": 80,
   "id": "80f0d542",
   "metadata": {},
   "outputs": [
    {
     "data": {
      "text/plain": [
       "('what is your name?', ' ', 'Tooba')"
      ]
     },
     "execution_count": 80,
     "metadata": {},
     "output_type": "execute_result"
    }
   ],
   "source": [
    "str1 = \"what is your name? Tooba\"\n",
    "str1.rpartition(\" \")"
   ]
  },
  {
   "cell_type": "code",
   "execution_count": 81,
   "id": "7ab501e2",
   "metadata": {},
   "outputs": [
    {
     "data": {
      "text/plain": [
       "('Python', ' ', 'practice for beginnners')"
      ]
     },
     "execution_count": 81,
     "metadata": {},
     "output_type": "execute_result"
    }
   ],
   "source": [
    "f = \"Python practice for beginnners\"\n",
    "f.partition(\" \")"
   ]
  },
  {
   "cell_type": "code",
   "execution_count": 84,
   "id": "5080d5ac",
   "metadata": {},
   "outputs": [],
   "source": [
    "mystr = \"My Favourite programming language is \\\"Python\\\"\""
   ]
  },
  {
   "cell_type": "code",
   "execution_count": 85,
   "id": "661df526",
   "metadata": {},
   "outputs": [
    {
     "data": {
      "text/plain": [
       "'My Favourite programming language is \"Python\"'"
      ]
     },
     "execution_count": 85,
     "metadata": {},
     "output_type": "execute_result"
    }
   ],
   "source": [
    "mystr"
   ]
  },
  {
   "cell_type": "code",
   "execution_count": 86,
   "id": "0dc781a2",
   "metadata": {},
   "outputs": [
    {
     "data": {
      "text/plain": [
       "False"
      ]
     },
     "execution_count": 86,
     "metadata": {},
     "output_type": "execute_result"
    }
   ],
   "source": [
    "mystr.isupper()"
   ]
  },
  {
   "cell_type": "code",
   "execution_count": 87,
   "id": "5c9e153b",
   "metadata": {},
   "outputs": [
    {
     "data": {
      "text/plain": [
       "False"
      ]
     },
     "execution_count": 87,
     "metadata": {},
     "output_type": "execute_result"
    }
   ],
   "source": [
    "mystr.islower()"
   ]
  },
  {
   "cell_type": "code",
   "execution_count": 88,
   "id": "35f166bd",
   "metadata": {},
   "outputs": [
    {
     "data": {
      "text/plain": [
       "'My Favourite programming language is \"Python\"'"
      ]
     },
     "execution_count": 88,
     "metadata": {},
     "output_type": "execute_result"
    }
   ],
   "source": [
    "mystr.strip()"
   ]
  },
  {
   "cell_type": "code",
   "execution_count": 89,
   "id": "8a8a809c",
   "metadata": {},
   "outputs": [
    {
     "data": {
      "text/plain": [
       "34"
      ]
     },
     "execution_count": 89,
     "metadata": {},
     "output_type": "execute_result"
    }
   ],
   "source": [
    "mystr.index(\"is\")"
   ]
  },
  {
   "cell_type": "code",
   "execution_count": 90,
   "id": "4aa72874",
   "metadata": {},
   "outputs": [
    {
     "data": {
      "text/plain": [
       "34"
      ]
     },
     "execution_count": 90,
     "metadata": {},
     "output_type": "execute_result"
    }
   ],
   "source": [
    "mystr.find(\"is\")"
   ]
  },
  {
   "cell_type": "code",
   "execution_count": 91,
   "id": "7b33c91e",
   "metadata": {},
   "outputs": [
    {
     "data": {
      "text/plain": [
       "'*********************************************Tooba Noor*********************************************'"
      ]
     },
     "execution_count": 91,
     "metadata": {},
     "output_type": "execute_result"
    }
   ],
   "source": [
    "str3.center(100, \"*\")"
   ]
  },
  {
   "cell_type": "code",
   "execution_count": 92,
   "id": "ed1ad469",
   "metadata": {},
   "outputs": [
    {
     "data": {
      "text/plain": [
       "'****************************************Tooba Noor'"
      ]
     },
     "execution_count": 92,
     "metadata": {},
     "output_type": "execute_result"
    }
   ],
   "source": [
    "str3.rjust(50, \"*\")"
   ]
  },
  {
   "cell_type": "code",
   "execution_count": 93,
   "id": "61c0b98e",
   "metadata": {},
   "outputs": [
    {
     "data": {
      "text/plain": [
       "'**********************Tooba***********************'"
      ]
     },
     "execution_count": 93,
     "metadata": {},
     "output_type": "execute_result"
    }
   ],
   "source": [
    "str3[0:5].center(50, '*')"
   ]
  },
  {
   "cell_type": "code",
   "execution_count": 94,
   "id": "36d67077",
   "metadata": {},
   "outputs": [
    {
     "data": {
      "text/plain": [
       "38"
      ]
     },
     "execution_count": 94,
     "metadata": {},
     "output_type": "execute_result"
    }
   ],
   "source": [
    "mystr.index(\"Python\")"
   ]
  },
  {
   "cell_type": "code",
   "execution_count": 95,
   "id": "1f5637b1",
   "metadata": {},
   "outputs": [
    {
     "name": "stdout",
     "output_type": "stream",
     "text": [
      "Cost of item3, item2, and item1 are:70, 50 and 100\n"
     ]
    }
   ],
   "source": [
    "item1 = 100\n",
    "item2 = 50\n",
    "item3 = 70\n",
    "print(\"Cost of item3, item2, and item1 are:{2}, {1} and {0}\".format(item1, item2, item3))"
   ]
  },
  {
   "cell_type": "code",
   "execution_count": 98,
   "id": "f357ec5d",
   "metadata": {},
   "outputs": [
    {
     "name": "stdout",
     "output_type": "stream",
     "text": [
      "Cost of item1, item2, and item3 are:100, 50 and 70\n"
     ]
    }
   ],
   "source": [
    "item1 = 100\n",
    "item2 = 50\n",
    "item3 = 70\n",
    "print(\"Cost of item1, item2, and item3 are:{2}, {1} and {0}\".format(item3, item2, item1))"
   ]
  },
  {
   "cell_type": "code",
   "execution_count": 99,
   "id": "efee71e8",
   "metadata": {},
   "outputs": [],
   "source": [
    "mylist = mystr.split()"
   ]
  },
  {
   "cell_type": "code",
   "execution_count": 100,
   "id": "475adf3f",
   "metadata": {},
   "outputs": [
    {
     "data": {
      "text/plain": [
       "['My', 'Favourite', 'programming', 'language', 'is', '\"Python\"']"
      ]
     },
     "execution_count": 100,
     "metadata": {},
     "output_type": "execute_result"
    }
   ],
   "source": [
    "mylist"
   ]
  },
  {
   "cell_type": "code",
   "execution_count": 101,
   "id": "0f3a6dc8",
   "metadata": {},
   "outputs": [
    {
     "data": {
      "text/plain": [
       "'My'"
      ]
     },
     "execution_count": 101,
     "metadata": {},
     "output_type": "execute_result"
    }
   ],
   "source": [
    "mylist[0]"
   ]
  },
  {
   "cell_type": "code",
   "execution_count": 102,
   "id": "0249e827",
   "metadata": {},
   "outputs": [
    {
     "data": {
      "text/plain": [
       "'M'"
      ]
     },
     "execution_count": 102,
     "metadata": {},
     "output_type": "execute_result"
    }
   ],
   "source": [
    "mylist[0][0]"
   ]
  },
  {
   "cell_type": "code",
   "execution_count": 103,
   "id": "02bb5372",
   "metadata": {},
   "outputs": [
    {
     "data": {
      "text/plain": [
       "'gnimmargorp'"
      ]
     },
     "execution_count": 103,
     "metadata": {},
     "output_type": "execute_result"
    }
   ],
   "source": [
    "mylist[2][::-1]"
   ]
  },
  {
   "cell_type": "code",
   "execution_count": 104,
   "id": "254f1dc3",
   "metadata": {},
   "outputs": [
    {
     "data": {
      "text/plain": [
       "['\"Python\"', 'is', 'language', 'programming', 'Favourite', 'My']"
      ]
     },
     "execution_count": 104,
     "metadata": {},
     "output_type": "execute_result"
    }
   ],
   "source": [
    "mylist[::-1]"
   ]
  },
  {
   "cell_type": "code",
   "execution_count": 105,
   "id": "3fe0ba09",
   "metadata": {},
   "outputs": [
    {
     "data": {
      "text/plain": [
       "['are', 'u', 'getting', 'my', 'point']"
      ]
     },
     "execution_count": 105,
     "metadata": {},
     "output_type": "execute_result"
    }
   ],
   "source": [
    "str2 = \"are u getting my point\"\n",
    "mylist = str2.split()\n",
    "mylist"
   ]
  },
  {
   "cell_type": "code",
   "execution_count": 106,
   "id": "d3a8a1c7",
   "metadata": {},
   "outputs": [
    {
     "data": {
      "text/plain": [
       "5"
      ]
     },
     "execution_count": 106,
     "metadata": {},
     "output_type": "execute_result"
    }
   ],
   "source": [
    "len(mylist)"
   ]
  },
  {
   "cell_type": "code",
   "execution_count": 107,
   "id": "301bf4ea",
   "metadata": {},
   "outputs": [
    {
     "data": {
      "text/plain": [
       "['point', 'my', 'getting', 'u', 'are']"
      ]
     },
     "execution_count": 107,
     "metadata": {},
     "output_type": "execute_result"
    }
   ],
   "source": [
    "mylist[::-1]"
   ]
  },
  {
   "cell_type": "code",
   "execution_count": 108,
   "id": "24b71e09",
   "metadata": {},
   "outputs": [
    {
     "ename": "AttributeError",
     "evalue": "'list' object has no attribute 'replace'",
     "output_type": "error",
     "traceback": [
      "\u001b[1;31m---------------------------------------------------------------------------\u001b[0m",
      "\u001b[1;31mAttributeError\u001b[0m                            Traceback (most recent call last)",
      "\u001b[1;32m~\\AppData\\Local\\Temp\\ipykernel_5332\\4081311655.py\u001b[0m in \u001b[0;36m<module>\u001b[1;34m\u001b[0m\n\u001b[1;32m----> 1\u001b[1;33m \u001b[0mmylist\u001b[0m\u001b[1;33m.\u001b[0m\u001b[0mreplace\u001b[0m\u001b[1;33m(\u001b[0m\u001b[1;34m\"are\"\u001b[0m\u001b[1;33m,\u001b[0m \u001b[1;34m\"Are\"\u001b[0m\u001b[1;33m)\u001b[0m\u001b[1;33m\u001b[0m\u001b[1;33m\u001b[0m\u001b[0m\n\u001b[0m",
      "\u001b[1;31mAttributeError\u001b[0m: 'list' object has no attribute 'replace'"
     ]
    }
   ],
   "source": [
    "mylist.replace(\"are\", \"Are\")"
   ]
  },
  {
   "cell_type": "code",
   "execution_count": 114,
   "id": "b15bd5af",
   "metadata": {},
   "outputs": [],
   "source": [
    "str2 = str2.replace(\"are\", \"Are\")"
   ]
  },
  {
   "cell_type": "code",
   "execution_count": 117,
   "id": "378bc377",
   "metadata": {},
   "outputs": [],
   "source": [
    "str2 = str2 + \"?\""
   ]
  },
  {
   "cell_type": "code",
   "execution_count": 118,
   "id": "3dbd74cb",
   "metadata": {
    "scrolled": true
   },
   "outputs": [
    {
     "data": {
      "text/plain": [
       "'ARE U GETTING MY POINT?'"
      ]
     },
     "execution_count": 118,
     "metadata": {},
     "output_type": "execute_result"
    }
   ],
   "source": [
    "str2.upper()"
   ]
  },
  {
   "cell_type": "markdown",
   "id": "dcbe2935",
   "metadata": {},
   "source": [
    "# Slicing in list"
   ]
  },
  {
   "cell_type": "code",
   "execution_count": 119,
   "id": "c2f0fa4e",
   "metadata": {
    "scrolled": true
   },
   "outputs": [
    {
     "data": {
      "text/plain": [
       "2"
      ]
     },
     "execution_count": 119,
     "metadata": {},
     "output_type": "execute_result"
    }
   ],
   "source": [
    "list1 = [1, 2, 3, 4, 5]\n",
    "list1[1]"
   ]
  },
  {
   "cell_type": "code",
   "execution_count": 120,
   "id": "9793588e",
   "metadata": {},
   "outputs": [
    {
     "data": {
      "text/plain": [
       "[1, 2, 3, 4, 5]"
      ]
     },
     "execution_count": 120,
     "metadata": {},
     "output_type": "execute_result"
    }
   ],
   "source": [
    "list1[:]"
   ]
  },
  {
   "cell_type": "code",
   "execution_count": 122,
   "id": "9a48d008",
   "metadata": {},
   "outputs": [],
   "source": [
    "list_stats = [['Amna', 'Aswa', 'Rabie'], ['Tooba', 'Muneeba'], ['Kainat', 'Rabiya', 'Hafsa'], ['Hira', 'Maida', 'Zunash'], ['Arba', 'Momina', 'Maryam', 'Fatima']]"
   ]
  },
  {
   "cell_type": "code",
   "execution_count": 128,
   "id": "7f3aaba9",
   "metadata": {},
   "outputs": [],
   "source": [
    "a = list_stats[0]"
   ]
  },
  {
   "cell_type": "code",
   "execution_count": 129,
   "id": "ffec644a",
   "metadata": {},
   "outputs": [
    {
     "data": {
      "text/plain": [
       "['Amna', 'Aswa', 'Rabie']"
      ]
     },
     "execution_count": 129,
     "metadata": {},
     "output_type": "execute_result"
    }
   ],
   "source": [
    "a"
   ]
  },
  {
   "cell_type": "code",
   "execution_count": 130,
   "id": "a6a1c76c",
   "metadata": {},
   "outputs": [
    {
     "data": {
      "text/plain": [
       "'Aswa'"
      ]
     },
     "execution_count": 130,
     "metadata": {},
     "output_type": "execute_result"
    }
   ],
   "source": [
    "a[1]"
   ]
  },
  {
   "cell_type": "code",
   "execution_count": 131,
   "id": "fd278732",
   "metadata": {},
   "outputs": [],
   "source": [
    "b = list_stats[2]"
   ]
  },
  {
   "cell_type": "code",
   "execution_count": 133,
   "id": "5a730171",
   "metadata": {},
   "outputs": [
    {
     "data": {
      "text/plain": [
       "'asfaH'"
      ]
     },
     "execution_count": 133,
     "metadata": {},
     "output_type": "execute_result"
    }
   ],
   "source": [
    "b[2][::-1]"
   ]
  },
  {
   "cell_type": "code",
   "execution_count": 134,
   "id": "2a5dc1ad",
   "metadata": {},
   "outputs": [
    {
     "data": {
      "text/plain": [
       "'ayibaR'"
      ]
     },
     "execution_count": 134,
     "metadata": {},
     "output_type": "execute_result"
    }
   ],
   "source": [
    "b[1][::-1]"
   ]
  },
  {
   "cell_type": "code",
   "execution_count": 135,
   "id": "667e8abd",
   "metadata": {},
   "outputs": [
    {
     "data": {
      "text/plain": [
       "'taniaK'"
      ]
     },
     "execution_count": 135,
     "metadata": {},
     "output_type": "execute_result"
    }
   ],
   "source": [
    "b[0][::-1]"
   ]
  },
  {
   "cell_type": "code",
   "execution_count": 136,
   "id": "727f70b6",
   "metadata": {},
   "outputs": [],
   "source": [
    "c = list_stats[1]"
   ]
  },
  {
   "cell_type": "code",
   "execution_count": 137,
   "id": "0dfe9535",
   "metadata": {},
   "outputs": [
    {
     "data": {
      "text/plain": [
       "'Muneeba'"
      ]
     },
     "execution_count": 137,
     "metadata": {},
     "output_type": "execute_result"
    }
   ],
   "source": [
    "c[1]"
   ]
  },
  {
   "cell_type": "code",
   "execution_count": 139,
   "id": "50e847d2",
   "metadata": {},
   "outputs": [
    {
     "data": {
      "text/plain": [
       "'abeenuM'"
      ]
     },
     "execution_count": 139,
     "metadata": {},
     "output_type": "execute_result"
    }
   ],
   "source": [
    "c[1][::-1]"
   ]
  },
  {
   "cell_type": "code",
   "execution_count": 140,
   "id": "938b3130",
   "metadata": {
    "scrolled": true
   },
   "outputs": [
    {
     "data": {
      "text/plain": [
       "'muneeba'"
      ]
     },
     "execution_count": 140,
     "metadata": {},
     "output_type": "execute_result"
    }
   ],
   "source": [
    "c[1].lower()"
   ]
  },
  {
   "cell_type": "markdown",
   "id": "e9c8f315",
   "metadata": {},
   "source": [
    "# Removing or deleting operations"
   ]
  },
  {
   "cell_type": "code",
   "execution_count": 141,
   "id": "cc294514",
   "metadata": {},
   "outputs": [],
   "source": [
    "del c"
   ]
  },
  {
   "cell_type": "code",
   "execution_count": 142,
   "id": "2d8e21c0",
   "metadata": {},
   "outputs": [
    {
     "ename": "NameError",
     "evalue": "name 'c' is not defined",
     "output_type": "error",
     "traceback": [
      "\u001b[1;31m---------------------------------------------------------------------------\u001b[0m",
      "\u001b[1;31mNameError\u001b[0m                                 Traceback (most recent call last)",
      "\u001b[1;32m~\\AppData\\Local\\Temp\\ipykernel_5332\\3235490055.py\u001b[0m in \u001b[0;36m<module>\u001b[1;34m\u001b[0m\n\u001b[1;32m----> 1\u001b[1;33m \u001b[0mc\u001b[0m\u001b[1;33m\u001b[0m\u001b[1;33m\u001b[0m\u001b[0m\n\u001b[0m",
      "\u001b[1;31mNameError\u001b[0m: name 'c' is not defined"
     ]
    }
   ],
   "source": [
    "c"
   ]
  },
  {
   "cell_type": "code",
   "execution_count": 143,
   "id": "a2909a13",
   "metadata": {},
   "outputs": [
    {
     "data": {
      "text/plain": [
       "'Rabiya'"
      ]
     },
     "execution_count": 143,
     "metadata": {},
     "output_type": "execute_result"
    }
   ],
   "source": [
    "b.pop(1)"
   ]
  },
  {
   "cell_type": "code",
   "execution_count": 144,
   "id": "3961ed64",
   "metadata": {},
   "outputs": [
    {
     "data": {
      "text/plain": [
       "['Kainat', 'Hafsa']"
      ]
     },
     "execution_count": 144,
     "metadata": {},
     "output_type": "execute_result"
    }
   ],
   "source": [
    "b"
   ]
  },
  {
   "cell_type": "code",
   "execution_count": 145,
   "id": "d1f14fdf",
   "metadata": {},
   "outputs": [
    {
     "data": {
      "text/plain": [
       "'Kainat'"
      ]
     },
     "execution_count": 145,
     "metadata": {},
     "output_type": "execute_result"
    }
   ],
   "source": [
    "b.pop(0)"
   ]
  },
  {
   "cell_type": "code",
   "execution_count": 146,
   "id": "bdc32f75",
   "metadata": {},
   "outputs": [
    {
     "data": {
      "text/plain": [
       "['Hafsa']"
      ]
     },
     "execution_count": 146,
     "metadata": {},
     "output_type": "execute_result"
    }
   ],
   "source": [
    "b"
   ]
  },
  {
   "cell_type": "code",
   "execution_count": 148,
   "id": "03cf268a",
   "metadata": {},
   "outputs": [],
   "source": [
    "b.remove('Hafsa')"
   ]
  },
  {
   "cell_type": "code",
   "execution_count": 149,
   "id": "a8a1574b",
   "metadata": {},
   "outputs": [
    {
     "data": {
      "text/plain": [
       "[]"
      ]
     },
     "execution_count": 149,
     "metadata": {},
     "output_type": "execute_result"
    }
   ],
   "source": [
    "b"
   ]
  },
  {
   "cell_type": "code",
   "execution_count": 150,
   "id": "33c6bba5",
   "metadata": {},
   "outputs": [],
   "source": [
    "del b"
   ]
  },
  {
   "cell_type": "code",
   "execution_count": 151,
   "id": "7509535f",
   "metadata": {},
   "outputs": [
    {
     "ename": "NameError",
     "evalue": "name 'b' is not defined",
     "output_type": "error",
     "traceback": [
      "\u001b[1;31m---------------------------------------------------------------------------\u001b[0m",
      "\u001b[1;31mNameError\u001b[0m                                 Traceback (most recent call last)",
      "\u001b[1;32m~\\AppData\\Local\\Temp\\ipykernel_5332\\1685013873.py\u001b[0m in \u001b[0;36m<module>\u001b[1;34m\u001b[0m\n\u001b[1;32m----> 1\u001b[1;33m \u001b[0mb\u001b[0m\u001b[1;33m\u001b[0m\u001b[1;33m\u001b[0m\u001b[0m\n\u001b[0m",
      "\u001b[1;31mNameError\u001b[0m: name 'b' is not defined"
     ]
    }
   ],
   "source": [
    "b"
   ]
  },
  {
   "cell_type": "code",
   "execution_count": 152,
   "id": "b2a5b641",
   "metadata": {},
   "outputs": [],
   "source": [
    "b = list_stats[4]"
   ]
  },
  {
   "cell_type": "code",
   "execution_count": 153,
   "id": "8cfe2915",
   "metadata": {},
   "outputs": [
    {
     "data": {
      "text/plain": [
       "['Arba', 'Momina', 'Maryam', 'Fatima']"
      ]
     },
     "execution_count": 153,
     "metadata": {},
     "output_type": "execute_result"
    }
   ],
   "source": [
    "b"
   ]
  },
  {
   "cell_type": "code",
   "execution_count": 155,
   "id": "6fc05bee",
   "metadata": {},
   "outputs": [],
   "source": [
    "b.append(\"Arslan\")"
   ]
  },
  {
   "cell_type": "code",
   "execution_count": 156,
   "id": "a36f1f75",
   "metadata": {},
   "outputs": [
    {
     "data": {
      "text/plain": [
       "['Arba', 'Momina', 'Maryam', 'Fatima', 'Arslan']"
      ]
     },
     "execution_count": 156,
     "metadata": {},
     "output_type": "execute_result"
    }
   ],
   "source": [
    "b"
   ]
  },
  {
   "cell_type": "code",
   "execution_count": 157,
   "id": "0aeae03b",
   "metadata": {},
   "outputs": [
    {
     "data": {
      "text/plain": [
       "'Arslan'"
      ]
     },
     "execution_count": 157,
     "metadata": {},
     "output_type": "execute_result"
    }
   ],
   "source": [
    "b.pop(4)"
   ]
  },
  {
   "cell_type": "code",
   "execution_count": 158,
   "id": "ad4c6621",
   "metadata": {},
   "outputs": [
    {
     "data": {
      "text/plain": [
       "['Arba', 'Momina', 'Maryam', 'Fatima']"
      ]
     },
     "execution_count": 158,
     "metadata": {},
     "output_type": "execute_result"
    }
   ],
   "source": [
    "b"
   ]
  },
  {
   "cell_type": "code",
   "execution_count": 160,
   "id": "76d9c022",
   "metadata": {},
   "outputs": [],
   "source": [
    "b.insert(3, \"Fatima Baloch\")"
   ]
  },
  {
   "cell_type": "code",
   "execution_count": 161,
   "id": "cdd1d19c",
   "metadata": {},
   "outputs": [
    {
     "data": {
      "text/plain": [
       "['Arba', 'Momina', 'Maryam', 'Fatima Baloch', 'Fatima']"
      ]
     },
     "execution_count": 161,
     "metadata": {},
     "output_type": "execute_result"
    }
   ],
   "source": [
    "b"
   ]
  },
  {
   "cell_type": "code",
   "execution_count": 162,
   "id": "2a75a864",
   "metadata": {},
   "outputs": [
    {
     "name": "stdout",
     "output_type": "stream",
     "text": [
      "\f",
      "\n"
     ]
    }
   ],
   "source": [
    "clear b"
   ]
  },
  {
   "cell_type": "code",
   "execution_count": 163,
   "id": "10001fd7",
   "metadata": {},
   "outputs": [
    {
     "data": {
      "text/plain": [
       "['Arba', 'Momina', 'Maryam', 'Fatima Baloch', 'Fatima']"
      ]
     },
     "execution_count": 163,
     "metadata": {},
     "output_type": "execute_result"
    }
   ],
   "source": [
    "b"
   ]
  },
  {
   "cell_type": "code",
   "execution_count": 166,
   "id": "16faec02",
   "metadata": {},
   "outputs": [],
   "source": [
    "list2 = [1, 2, 3, 4, 4, 4, 2, 1, 2, 18]\n",
    "list2[0] = 2\n",
    "list2[1] = 4\n",
    "list2[2] = 6\n",
    "list2[3] = 8\n",
    "list2[4] = 10\n",
    "list2[5] = 12\n",
    "list2[6] = 14\n",
    "list2[7] = 16\n",
    "list2[8] = 18\n",
    "list2[9] = 20"
   ]
  },
  {
   "cell_type": "code",
   "execution_count": 167,
   "id": "a18cf175",
   "metadata": {},
   "outputs": [
    {
     "data": {
      "text/plain": [
       "[2, 4, 6, 8, 10, 12, 14, 16, 18, 20]"
      ]
     },
     "execution_count": 167,
     "metadata": {},
     "output_type": "execute_result"
    }
   ],
   "source": [
    "list2"
   ]
  },
  {
   "cell_type": "code",
   "execution_count": 168,
   "id": "a41b89ff",
   "metadata": {},
   "outputs": [],
   "source": [
    "b.clear()"
   ]
  },
  {
   "cell_type": "code",
   "execution_count": 169,
   "id": "4155defd",
   "metadata": {},
   "outputs": [
    {
     "data": {
      "text/plain": [
       "[]"
      ]
     },
     "execution_count": 169,
     "metadata": {},
     "output_type": "execute_result"
    }
   ],
   "source": [
    "b"
   ]
  },
  {
   "cell_type": "markdown",
   "id": "9c03f3cd",
   "metadata": {},
   "source": [
    "# Copy"
   ]
  },
  {
   "cell_type": "code",
   "execution_count": 170,
   "id": "efcf3c33",
   "metadata": {},
   "outputs": [
    {
     "name": "stdout",
     "output_type": "stream",
     "text": [
      "[2, 4, 6, 8, 10, 12, 14, 16, 18, 20] [2, 4, 6, 8, 10, 12, 14, 16, 18, 20]\n",
      "2497633228672 2497633228672\n"
     ]
    }
   ],
   "source": [
    "mylist = list2 \n",
    "print(mylist, list2)\n",
    "print(id(mylist), id(list2))"
   ]
  },
  {
   "cell_type": "code",
   "execution_count": 171,
   "id": "28132259",
   "metadata": {
    "scrolled": true
   },
   "outputs": [
    {
     "name": "stdout",
     "output_type": "stream",
     "text": [
      "[2, 4, 6, 8, 10, 12, 14, 16, 18, 20] [2, 4, 6, 8, 10, 12, 14, 16, 18, 20]\n",
      "2497633180992 2497633228672\n"
     ]
    }
   ],
   "source": [
    "clist = list2.copy()\n",
    "print(clist, list2)\n",
    "print(id(clist), id(list2))"
   ]
  },
  {
   "cell_type": "markdown",
   "id": "d7751c0f",
   "metadata": {},
   "source": [
    "# Adding or Inserting new values"
   ]
  },
  {
   "cell_type": "code",
   "execution_count": 173,
   "id": "2b253a59",
   "metadata": {},
   "outputs": [
    {
     "data": {
      "text/plain": [
       "[2, 4, 6, 8, 10, 12, 14, 16, 18, 20, 22]"
      ]
     },
     "execution_count": 173,
     "metadata": {},
     "output_type": "execute_result"
    }
   ],
   "source": [
    "list2.insert(10, 22)\n",
    "list2"
   ]
  },
  {
   "cell_type": "code",
   "execution_count": 174,
   "id": "c3fcaf5b",
   "metadata": {},
   "outputs": [
    {
     "data": {
      "text/plain": [
       "[2, 4, 6, 8, 10, 12, 14, 16, 18, 20, 22]"
      ]
     },
     "execution_count": 174,
     "metadata": {},
     "output_type": "execute_result"
    }
   ],
   "source": [
    "mylist"
   ]
  },
  {
   "cell_type": "code",
   "execution_count": 175,
   "id": "48f9b2fb",
   "metadata": {},
   "outputs": [
    {
     "data": {
      "text/plain": [
       "[2, 4, 6, 8, 10, 12, 14, 16, 18, 20]"
      ]
     },
     "execution_count": 175,
     "metadata": {},
     "output_type": "execute_result"
    }
   ],
   "source": [
    "clist"
   ]
  },
  {
   "cell_type": "code",
   "execution_count": 178,
   "id": "1c80b690",
   "metadata": {},
   "outputs": [],
   "source": [
    "fruits = ['apple', 'orange', 'banana', 'peach']\n",
    "veg = ['cucumber', 'brinjal', 'bitter gourd', 'turnip']\n"
   ]
  },
  {
   "cell_type": "code",
   "execution_count": 180,
   "id": "09e25b5c",
   "metadata": {},
   "outputs": [
    {
     "data": {
      "text/plain": [
       "['apple',\n",
       " 'orange',\n",
       " 'banana',\n",
       " 'peach',\n",
       " 'cucumber',\n",
       " 'brinjal',\n",
       " 'bitter gourd',\n",
       " 'turnip']"
      ]
     },
     "execution_count": 180,
     "metadata": {},
     "output_type": "execute_result"
    }
   ],
   "source": [
    "fv = fruits + veg\n",
    "fv"
   ]
  },
  {
   "cell_type": "code",
   "execution_count": 181,
   "id": "6be8ad85",
   "metadata": {},
   "outputs": [],
   "source": [
    "fruits.extend(veg)"
   ]
  },
  {
   "cell_type": "code",
   "execution_count": 182,
   "id": "6aa8ae01",
   "metadata": {},
   "outputs": [
    {
     "data": {
      "text/plain": [
       "['apple',\n",
       " 'orange',\n",
       " 'banana',\n",
       " 'peach',\n",
       " 'cucumber',\n",
       " 'brinjal',\n",
       " 'bitter gourd',\n",
       " 'turnip']"
      ]
     },
     "execution_count": 182,
     "metadata": {},
     "output_type": "execute_result"
    }
   ],
   "source": [
    "fruits"
   ]
  },
  {
   "cell_type": "code",
   "execution_count": 184,
   "id": "51ff50b4",
   "metadata": {},
   "outputs": [
    {
     "name": "stdout",
     "output_type": "stream",
     "text": [
      "Apple is in the fruits list\n"
     ]
    }
   ],
   "source": [
    "if 'apple' in fruits:\n",
    "    print(\"Apple is in the fruits list\")\n",
    "else: \n",
    "    print(\"Apple is not in this list\")"
   ]
  },
  {
   "cell_type": "code",
   "execution_count": 185,
   "id": "291eb95d",
   "metadata": {},
   "outputs": [
    {
     "name": "stdout",
     "output_type": "stream",
     "text": [
      "mango is not in this list\n"
     ]
    }
   ],
   "source": [
    "if 'mango' in fruits:\n",
    "    print(\"mango in the fruits list\")\n",
    "else: \n",
    "    print(\"mango is not in this list\")"
   ]
  },
  {
   "cell_type": "code",
   "execution_count": 186,
   "id": "a767b614",
   "metadata": {},
   "outputs": [],
   "source": [
    "fruits.reverse()"
   ]
  },
  {
   "cell_type": "code",
   "execution_count": 187,
   "id": "b69a2973",
   "metadata": {},
   "outputs": [
    {
     "data": {
      "text/plain": [
       "['turnip',\n",
       " 'bitter gourd',\n",
       " 'brinjal',\n",
       " 'cucumber',\n",
       " 'peach',\n",
       " 'banana',\n",
       " 'orange',\n",
       " 'apple']"
      ]
     },
     "execution_count": 187,
     "metadata": {},
     "output_type": "execute_result"
    }
   ],
   "source": [
    "fruits"
   ]
  },
  {
   "cell_type": "code",
   "execution_count": 188,
   "id": "23689f3e",
   "metadata": {},
   "outputs": [],
   "source": [
    "list_stats.reverse()"
   ]
  },
  {
   "cell_type": "code",
   "execution_count": 189,
   "id": "c9ac1a1a",
   "metadata": {},
   "outputs": [
    {
     "data": {
      "text/plain": [
       "[[],\n",
       " ['Hira', 'Maida', 'Zunash'],\n",
       " [],\n",
       " ['Tooba', 'Muneeba'],\n",
       " ['Amna', 'Aswa', 'Rabie']]"
      ]
     },
     "execution_count": 189,
     "metadata": {},
     "output_type": "execute_result"
    }
   ],
   "source": [
    "list_stats"
   ]
  },
  {
   "cell_type": "code",
   "execution_count": 190,
   "id": "b63c2dbd",
   "metadata": {},
   "outputs": [
    {
     "data": {
      "text/plain": [
       "[['Amna', 'Aswa', 'Rabie'],\n",
       " ['Tooba', 'Muneeba'],\n",
       " [],\n",
       " ['Hira', 'Maida', 'Zunash'],\n",
       " []]"
      ]
     },
     "execution_count": 190,
     "metadata": {},
     "output_type": "execute_result"
    }
   ],
   "source": [
    "list_stats[::-1]"
   ]
  },
  {
   "cell_type": "code",
   "execution_count": 191,
   "id": "de7871e2",
   "metadata": {},
   "outputs": [],
   "source": [
    "list_stats.insert(2, \"Maryam\")"
   ]
  },
  {
   "cell_type": "code",
   "execution_count": 192,
   "id": "6cb43f34",
   "metadata": {},
   "outputs": [
    {
     "data": {
      "text/plain": [
       "[[],\n",
       " ['Hira', 'Maida', 'Zunash'],\n",
       " 'Maryam',\n",
       " [],\n",
       " ['Tooba', 'Muneeba'],\n",
       " ['Amna', 'Aswa', 'Rabie']]"
      ]
     },
     "execution_count": 192,
     "metadata": {},
     "output_type": "execute_result"
    }
   ],
   "source": [
    "list_stats"
   ]
  },
  {
   "cell_type": "code",
   "execution_count": 193,
   "id": "6bed156c",
   "metadata": {},
   "outputs": [
    {
     "data": {
      "text/plain": [
       "[]"
      ]
     },
     "execution_count": 193,
     "metadata": {},
     "output_type": "execute_result"
    }
   ],
   "source": [
    "list_stats.pop(0)"
   ]
  },
  {
   "cell_type": "code",
   "execution_count": 194,
   "id": "7d509b89",
   "metadata": {},
   "outputs": [
    {
     "data": {
      "text/plain": [
       "[['Hira', 'Maida', 'Zunash'],\n",
       " 'Maryam',\n",
       " [],\n",
       " ['Tooba', 'Muneeba'],\n",
       " ['Amna', 'Aswa', 'Rabie']]"
      ]
     },
     "execution_count": 194,
     "metadata": {},
     "output_type": "execute_result"
    }
   ],
   "source": [
    "list_stats"
   ]
  },
  {
   "cell_type": "code",
   "execution_count": 200,
   "id": "097031c5",
   "metadata": {},
   "outputs": [],
   "source": [
    "list_stats[2].insert(0, \"Fatima\")"
   ]
  },
  {
   "cell_type": "code",
   "execution_count": 201,
   "id": "9648638f",
   "metadata": {},
   "outputs": [
    {
     "data": {
      "text/plain": [
       "[['Hira', 'Maida', 'Zunash'],\n",
       " 'Maryam',\n",
       " ['Fatima'],\n",
       " ['Tooba', 'Muneeba'],\n",
       " ['Amna', 'Aswa', 'Rabie']]"
      ]
     },
     "execution_count": 201,
     "metadata": {},
     "output_type": "execute_result"
    }
   ],
   "source": [
    "list_stats"
   ]
  },
  {
   "cell_type": "code",
   "execution_count": 202,
   "id": "6af463b0",
   "metadata": {},
   "outputs": [
    {
     "name": "stdout",
     "output_type": "stream",
     "text": [
      "['Hira', 'Maida', 'Zunash']\n",
      "Maryam\n",
      "['Fatima']\n",
      "['Tooba', 'Muneeba']\n",
      "['Amna', 'Aswa', 'Rabie']\n"
     ]
    }
   ],
   "source": [
    "for i in list_stats:\n",
    "    print(i)"
   ]
  },
  {
   "cell_type": "code",
   "execution_count": 203,
   "id": "7c9addec",
   "metadata": {},
   "outputs": [
    {
     "name": "stdout",
     "output_type": "stream",
     "text": [
      "(0, ['Hira', 'Maida', 'Zunash'])\n",
      "(1, 'Maryam')\n",
      "(2, ['Fatima'])\n",
      "(3, ['Tooba', 'Muneeba'])\n",
      "(4, ['Amna', 'Aswa', 'Rabie'])\n"
     ]
    }
   ],
   "source": [
    "for i in enumerate(list_stats):\n",
    "    print(i)"
   ]
  },
  {
   "cell_type": "code",
   "execution_count": 204,
   "id": "190e6139",
   "metadata": {},
   "outputs": [
    {
     "data": {
      "text/plain": [
       "1"
      ]
     },
     "execution_count": 204,
     "metadata": {},
     "output_type": "execute_result"
    }
   ],
   "source": [
    "mylist.count(2)"
   ]
  },
  {
   "cell_type": "code",
   "execution_count": 205,
   "id": "a7f71e61",
   "metadata": {
    "scrolled": true
   },
   "outputs": [
    {
     "data": {
      "text/plain": [
       "0"
      ]
     },
     "execution_count": 205,
     "metadata": {},
     "output_type": "execute_result"
    }
   ],
   "source": [
    "mylist.count(3)"
   ]
  },
  {
   "cell_type": "markdown",
   "id": "5a88e501",
   "metadata": {},
   "source": [
    "# All() or Any() function in list "
   ]
  },
  {
   "cell_type": "code",
   "execution_count": 206,
   "id": "e10abe42",
   "metadata": {},
   "outputs": [
    {
     "data": {
      "text/plain": [
       "True"
      ]
     },
     "execution_count": 206,
     "metadata": {},
     "output_type": "execute_result"
    }
   ],
   "source": [
    "all(mylist)"
   ]
  },
  {
   "cell_type": "code",
   "execution_count": 207,
   "id": "68ced5c9",
   "metadata": {},
   "outputs": [
    {
     "data": {
      "text/plain": [
       "True"
      ]
     },
     "execution_count": 207,
     "metadata": {},
     "output_type": "execute_result"
    }
   ],
   "source": [
    "any(mylist)"
   ]
  },
  {
   "cell_type": "code",
   "execution_count": 218,
   "id": "961ee39e",
   "metadata": {},
   "outputs": [
    {
     "data": {
      "text/plain": [
       "[2,\n",
       " 4,\n",
       " 6,\n",
       " 8,\n",
       " 10,\n",
       " 12,\n",
       " 14,\n",
       " 16,\n",
       " 18,\n",
       " 20,\n",
       " 22,\n",
       " 'F',\n",
       " 'a',\n",
       " 'l',\n",
       " 's',\n",
       " 'e',\n",
       " 'F',\n",
       " 'a',\n",
       " 'l',\n",
       " 's',\n",
       " 'e',\n",
       " 'F',\n",
       " 'a',\n",
       " 'l',\n",
       " 's',\n",
       " 'e',\n",
       " 'False',\n",
       " False]"
      ]
     },
     "execution_count": 218,
     "metadata": {},
     "output_type": "execute_result"
    }
   ],
   "source": [
    "mylist.extend(([False]))\n",
    "mylist"
   ]
  },
  {
   "cell_type": "code",
   "execution_count": 219,
   "id": "e44a745c",
   "metadata": {},
   "outputs": [
    {
     "data": {
      "text/plain": [
       "False"
      ]
     },
     "execution_count": 219,
     "metadata": {},
     "output_type": "execute_result"
    }
   ],
   "source": [
    "all(mylist)"
   ]
  },
  {
   "cell_type": "code",
   "execution_count": 220,
   "id": "86b2ac68",
   "metadata": {},
   "outputs": [
    {
     "data": {
      "text/plain": [
       "True"
      ]
     },
     "execution_count": 220,
     "metadata": {},
     "output_type": "execute_result"
    }
   ],
   "source": [
    "any(mylist)"
   ]
  },
  {
   "cell_type": "markdown",
   "id": "5fb29f0e",
   "metadata": {},
   "source": [
    "# List Comprehension"
   ]
  },
  {
   "cell_type": "code",
   "execution_count": 221,
   "id": "4a1555ab",
   "metadata": {},
   "outputs": [
    {
     "data": {
      "text/plain": [
       "['H', 'e', 'l', 'l', 'o', 'W', 'o', 'r', 'l', 'd']"
      ]
     },
     "execution_count": 221,
     "metadata": {},
     "output_type": "execute_result"
    }
   ],
   "source": [
    "mystring = \"HelloWorld\"\n",
    "mylist = [i for i in mystring]\n",
    "mylist"
   ]
  },
  {
   "cell_type": "code",
   "execution_count": 222,
   "id": "c904801e",
   "metadata": {},
   "outputs": [
    {
     "name": "stdout",
     "output_type": "stream",
     "text": [
      "[0, 2, 4, 6, 8, 10, 12, 14, 16, 18, 20, 22, 24, 26, 28, 30, 32, 34, 36, 38]\n"
     ]
    }
   ],
   "source": [
    "mylist = [i for i in range(40) if i%2 == 0]\n",
    "print(mylist)"
   ]
  },
  {
   "cell_type": "code",
   "execution_count": 223,
   "id": "65ad9210",
   "metadata": {},
   "outputs": [],
   "source": [
    "mylist2 = [i for i in range(40) if i%2 != 0] #creating list for odd number in the range(40)"
   ]
  },
  {
   "cell_type": "code",
   "execution_count": 224,
   "id": "b44ee4f2",
   "metadata": {},
   "outputs": [
    {
     "data": {
      "text/plain": [
       "[1, 3, 5, 7, 9, 11, 13, 15, 17, 19, 21, 23, 25, 27, 29, 31, 33, 35, 37, 39]"
      ]
     },
     "execution_count": 224,
     "metadata": {},
     "output_type": "execute_result"
    }
   ],
   "source": [
    "mylist2"
   ]
  },
  {
   "cell_type": "code",
   "execution_count": 225,
   "id": "d9eadeb3",
   "metadata": {},
   "outputs": [
    {
     "data": {
      "text/plain": [
       "[0,\n",
       " 4,\n",
       " 16,\n",
       " 36,\n",
       " 64,\n",
       " 100,\n",
       " 144,\n",
       " 196,\n",
       " 256,\n",
       " 324,\n",
       " 400,\n",
       " 484,\n",
       " 576,\n",
       " 676,\n",
       " 784,\n",
       " 900,\n",
       " 1024,\n",
       " 1156,\n",
       " 1296,\n",
       " 1444]"
      ]
     },
     "execution_count": 225,
     "metadata": {},
     "output_type": "execute_result"
    }
   ],
   "source": [
    "product = [i**2 for i in mylist]\n",
    "product"
   ]
  },
  {
   "cell_type": "code",
   "execution_count": 228,
   "id": "6a295b57",
   "metadata": {},
   "outputs": [],
   "source": [
    "sum_mylist = [((i-1) + i) for i in range(1, len(mylist))]"
   ]
  },
  {
   "cell_type": "code",
   "execution_count": 229,
   "id": "2a1d0f19",
   "metadata": {},
   "outputs": [
    {
     "data": {
      "text/plain": [
       "[1, 3, 5, 7, 9, 11, 13, 15, 17, 19, 21, 23, 25, 27, 29, 31, 33, 35, 37]"
      ]
     },
     "execution_count": 229,
     "metadata": {},
     "output_type": "execute_result"
    }
   ],
   "source": [
    "sum_mylist"
   ]
  },
  {
   "cell_type": "code",
   "execution_count": 230,
   "id": "c6f83832",
   "metadata": {},
   "outputs": [
    {
     "data": {
      "text/plain": [
       "[0, 36, 72, 108, 144, 180, 216, 252, 288, 324, 360, 396, 432, 468]"
      ]
     },
     "execution_count": 230,
     "metadata": {},
     "output_type": "execute_result"
    }
   ],
   "source": [
    "#print all numbers in the range(500) that are divisible by3, 9, 12\n",
    "l1 = [i for i in range(500) if i%3 == 0 if i%9 == 0 if i%12 == 0]\n",
    "l1\n"
   ]
  },
  {
   "cell_type": "code",
   "execution_count": 231,
   "id": "de0a4379",
   "metadata": {},
   "outputs": [
    {
     "data": {
      "text/plain": [
       "[0, 60, 120, 180, 240, 300, 360, 420, 480]"
      ]
     },
     "execution_count": 231,
     "metadata": {},
     "output_type": "execute_result"
    }
   ],
   "source": [
    "#print all numbers that are divisible by 2, 10, 12\n",
    "l2 = [i for i in range(500) if i%2==0 if i%10==0 if i%12==0]\n",
    "l2"
   ]
  },
  {
   "cell_type": "code",
   "execution_count": 235,
   "id": "27493b6a",
   "metadata": {},
   "outputs": [
    {
     "name": "stdout",
     "output_type": "stream",
     "text": [
      "0 is even number\n",
      "1 is an odd number\n",
      "2 is even number\n",
      "3 is an odd number\n",
      "4 is even number\n",
      "5 is an odd number\n",
      "6 is even number\n",
      "7 is an odd number\n",
      "8 is even number\n",
      "9 is an odd number\n",
      "10 is even number\n",
      "11 is an odd number\n",
      "12 is even number\n",
      "13 is an odd number\n",
      "14 is even number\n",
      "15 is an odd number\n",
      "16 is even number\n",
      "17 is an odd number\n",
      "18 is even number\n",
      "19 is an odd number\n",
      "20 is even number\n",
      "21 is an odd number\n",
      "22 is even number\n",
      "23 is an odd number\n",
      "24 is even number\n",
      "25 is an odd number\n",
      "26 is even number\n",
      "27 is an odd number\n",
      "28 is even number\n",
      "29 is an odd number\n",
      "30 is even number\n",
      "31 is an odd number\n",
      "32 is even number\n",
      "33 is an odd number\n",
      "34 is even number\n",
      "35 is an odd number\n",
      "36 is even number\n",
      "37 is an odd number\n",
      "38 is even number\n",
      "39 is an odd number\n",
      "40 is even number\n",
      "41 is an odd number\n",
      "42 is even number\n",
      "43 is an odd number\n",
      "44 is even number\n",
      "45 is an odd number\n",
      "46 is even number\n",
      "47 is an odd number\n",
      "48 is even number\n",
      "49 is an odd number\n",
      "50 is even number\n",
      "51 is an odd number\n",
      "52 is even number\n",
      "53 is an odd number\n",
      "54 is even number\n",
      "55 is an odd number\n",
      "56 is even number\n",
      "57 is an odd number\n",
      "58 is even number\n",
      "59 is an odd number\n",
      "60 is even number\n",
      "61 is an odd number\n",
      "62 is even number\n",
      "63 is an odd number\n",
      "64 is even number\n",
      "65 is an odd number\n",
      "66 is even number\n",
      "67 is an odd number\n",
      "68 is even number\n",
      "69 is an odd number\n",
      "70 is even number\n",
      "71 is an odd number\n",
      "72 is even number\n",
      "73 is an odd number\n",
      "74 is even number\n",
      "75 is an odd number\n",
      "76 is even number\n",
      "77 is an odd number\n",
      "78 is even number\n",
      "79 is an odd number\n",
      "80 is even number\n",
      "81 is an odd number\n",
      "82 is even number\n",
      "83 is an odd number\n",
      "84 is even number\n",
      "85 is an odd number\n",
      "86 is even number\n",
      "87 is an odd number\n",
      "88 is even number\n",
      "89 is an odd number\n",
      "90 is even number\n",
      "91 is an odd number\n",
      "92 is even number\n",
      "93 is an odd number\n",
      "94 is even number\n",
      "95 is an odd number\n",
      "96 is even number\n",
      "97 is an odd number\n",
      "98 is even number\n",
      "99 is an odd number\n",
      "100 is even number\n",
      "101 is an odd number\n",
      "102 is even number\n",
      "103 is an odd number\n",
      "104 is even number\n",
      "105 is an odd number\n",
      "106 is even number\n",
      "107 is an odd number\n",
      "108 is even number\n",
      "109 is an odd number\n",
      "110 is even number\n",
      "111 is an odd number\n",
      "112 is even number\n",
      "113 is an odd number\n",
      "114 is even number\n",
      "115 is an odd number\n",
      "116 is even number\n",
      "117 is an odd number\n",
      "118 is even number\n",
      "119 is an odd number\n",
      "120 is even number\n",
      "121 is an odd number\n",
      "122 is even number\n",
      "123 is an odd number\n",
      "124 is even number\n",
      "125 is an odd number\n",
      "126 is even number\n",
      "127 is an odd number\n",
      "128 is even number\n",
      "129 is an odd number\n",
      "130 is even number\n",
      "131 is an odd number\n",
      "132 is even number\n",
      "133 is an odd number\n",
      "134 is even number\n",
      "135 is an odd number\n",
      "136 is even number\n",
      "137 is an odd number\n",
      "138 is even number\n",
      "139 is an odd number\n",
      "140 is even number\n",
      "141 is an odd number\n",
      "142 is even number\n",
      "143 is an odd number\n",
      "144 is even number\n",
      "145 is an odd number\n",
      "146 is even number\n",
      "147 is an odd number\n",
      "148 is even number\n",
      "149 is an odd number\n",
      "150 is even number\n",
      "151 is an odd number\n",
      "152 is even number\n",
      "153 is an odd number\n",
      "154 is even number\n",
      "155 is an odd number\n",
      "156 is even number\n",
      "157 is an odd number\n",
      "158 is even number\n",
      "159 is an odd number\n",
      "160 is even number\n",
      "161 is an odd number\n",
      "162 is even number\n",
      "163 is an odd number\n",
      "164 is even number\n",
      "165 is an odd number\n",
      "166 is even number\n",
      "167 is an odd number\n",
      "168 is even number\n",
      "169 is an odd number\n",
      "170 is even number\n",
      "171 is an odd number\n",
      "172 is even number\n",
      "173 is an odd number\n",
      "174 is even number\n",
      "175 is an odd number\n",
      "176 is even number\n",
      "177 is an odd number\n",
      "178 is even number\n",
      "179 is an odd number\n",
      "180 is even number\n",
      "181 is an odd number\n",
      "182 is even number\n",
      "183 is an odd number\n",
      "184 is even number\n",
      "185 is an odd number\n",
      "186 is even number\n",
      "187 is an odd number\n",
      "188 is even number\n",
      "189 is an odd number\n",
      "190 is even number\n",
      "191 is an odd number\n",
      "192 is even number\n",
      "193 is an odd number\n",
      "194 is even number\n",
      "195 is an odd number\n",
      "196 is even number\n",
      "197 is an odd number\n",
      "198 is even number\n",
      "199 is an odd number\n"
     ]
    },
    {
     "data": {
      "text/plain": [
       "[None,\n",
       " None,\n",
       " None,\n",
       " None,\n",
       " None,\n",
       " None,\n",
       " None,\n",
       " None,\n",
       " None,\n",
       " None,\n",
       " None,\n",
       " None,\n",
       " None,\n",
       " None,\n",
       " None,\n",
       " None,\n",
       " None,\n",
       " None,\n",
       " None,\n",
       " None,\n",
       " None,\n",
       " None,\n",
       " None,\n",
       " None,\n",
       " None,\n",
       " None,\n",
       " None,\n",
       " None,\n",
       " None,\n",
       " None,\n",
       " None,\n",
       " None,\n",
       " None,\n",
       " None,\n",
       " None,\n",
       " None,\n",
       " None,\n",
       " None,\n",
       " None,\n",
       " None,\n",
       " None,\n",
       " None,\n",
       " None,\n",
       " None,\n",
       " None,\n",
       " None,\n",
       " None,\n",
       " None,\n",
       " None,\n",
       " None,\n",
       " None,\n",
       " None,\n",
       " None,\n",
       " None,\n",
       " None,\n",
       " None,\n",
       " None,\n",
       " None,\n",
       " None,\n",
       " None,\n",
       " None,\n",
       " None,\n",
       " None,\n",
       " None,\n",
       " None,\n",
       " None,\n",
       " None,\n",
       " None,\n",
       " None,\n",
       " None,\n",
       " None,\n",
       " None,\n",
       " None,\n",
       " None,\n",
       " None,\n",
       " None,\n",
       " None,\n",
       " None,\n",
       " None,\n",
       " None,\n",
       " None,\n",
       " None,\n",
       " None,\n",
       " None,\n",
       " None,\n",
       " None,\n",
       " None,\n",
       " None,\n",
       " None,\n",
       " None,\n",
       " None,\n",
       " None,\n",
       " None,\n",
       " None,\n",
       " None,\n",
       " None,\n",
       " None,\n",
       " None,\n",
       " None,\n",
       " None,\n",
       " None,\n",
       " None,\n",
       " None,\n",
       " None,\n",
       " None,\n",
       " None,\n",
       " None,\n",
       " None,\n",
       " None,\n",
       " None,\n",
       " None,\n",
       " None,\n",
       " None,\n",
       " None,\n",
       " None,\n",
       " None,\n",
       " None,\n",
       " None,\n",
       " None,\n",
       " None,\n",
       " None,\n",
       " None,\n",
       " None,\n",
       " None,\n",
       " None,\n",
       " None,\n",
       " None,\n",
       " None,\n",
       " None,\n",
       " None,\n",
       " None,\n",
       " None,\n",
       " None,\n",
       " None,\n",
       " None,\n",
       " None,\n",
       " None,\n",
       " None,\n",
       " None,\n",
       " None,\n",
       " None,\n",
       " None,\n",
       " None,\n",
       " None,\n",
       " None,\n",
       " None,\n",
       " None,\n",
       " None,\n",
       " None,\n",
       " None,\n",
       " None,\n",
       " None,\n",
       " None,\n",
       " None,\n",
       " None,\n",
       " None,\n",
       " None,\n",
       " None,\n",
       " None,\n",
       " None,\n",
       " None,\n",
       " None,\n",
       " None,\n",
       " None,\n",
       " None,\n",
       " None,\n",
       " None,\n",
       " None,\n",
       " None,\n",
       " None,\n",
       " None,\n",
       " None,\n",
       " None,\n",
       " None,\n",
       " None,\n",
       " None,\n",
       " None,\n",
       " None,\n",
       " None,\n",
       " None,\n",
       " None,\n",
       " None,\n",
       " None,\n",
       " None,\n",
       " None,\n",
       " None,\n",
       " None,\n",
       " None,\n",
       " None,\n",
       " None,\n",
       " None,\n",
       " None,\n",
       " None,\n",
       " None,\n",
       " None,\n",
       " None,\n",
       " None,\n",
       " None,\n",
       " None,\n",
       " None]"
      ]
     },
     "execution_count": 235,
     "metadata": {},
     "output_type": "execute_result"
    }
   ],
   "source": [
    "#print numbers either even or odd in the range of 200\n",
    "l3 = [print(f'{i} is even number') if i%2 == 0 else print(f'{i} is an odd number') for i in range(200)]\n",
    "l3"
   ]
  },
  {
   "cell_type": "code",
   "execution_count": 236,
   "id": "2226c3d3",
   "metadata": {},
   "outputs": [
    {
     "data": {
      "text/plain": [
       "['1', '2', '3', '4']"
      ]
     },
     "execution_count": 236,
     "metadata": {},
     "output_type": "execute_result"
    }
   ],
   "source": [
    "#extract numbers from the list\n",
    "\n",
    "str3 = 'one 1 two 2 three 3 four 4'\n",
    "dig = [i for i in str3 if i.isdigit()]\n",
    "dig"
   ]
  },
  {
   "cell_type": "code",
   "execution_count": 241,
   "id": "c8a578e3",
   "metadata": {},
   "outputs": [
    {
     "data": {
      "text/plain": [
       "['o', 'n', 'e', 't', 'w', 'o', 't', 'h', 'r', 'e', 'e', 'f', 'o', 'u', 'r']"
      ]
     },
     "execution_count": 241,
     "metadata": {},
     "output_type": "execute_result"
    }
   ],
   "source": [
    "#extract alphabets from the list\n",
    "alph = [i for i in str3 if i.isalpha()]\n",
    "alph"
   ]
  },
  {
   "cell_type": "markdown",
   "id": "20e9082e",
   "metadata": {},
   "source": [
    "# TUPLES\n",
    "\n",
    "    Tuples are similar to lists except that the objects in the tuples are immutable which means we cannot change the element of the tuple once assigned\n",
    "    We prefered tuple when we do not want to change the data\n",
    "    Iterating over the elements of the tuple is faster as compared to the iterating over the elements of list\n"
   ]
  },
  {
   "cell_type": "code",
   "execution_count": 243,
   "id": "70b1c579",
   "metadata": {},
   "outputs": [],
   "source": [
    "tup1 = () #created a blank tuple"
   ]
  },
  {
   "cell_type": "code",
   "execution_count": 247,
   "id": "8f6ebf76",
   "metadata": {},
   "outputs": [
    {
     "data": {
      "text/plain": [
       "tuple"
      ]
     },
     "execution_count": 247,
     "metadata": {},
     "output_type": "execute_result"
    }
   ],
   "source": [
    "tup1 = (1, 2, 3) #integer values tuple\\\n",
    "type(tup1)"
   ]
  },
  {
   "cell_type": "code",
   "execution_count": 248,
   "id": "0939297d",
   "metadata": {},
   "outputs": [
    {
     "data": {
      "text/plain": [
       "(1.2, 1.6, 1.9, 2.3)"
      ]
     },
     "execution_count": 248,
     "metadata": {},
     "output_type": "execute_result"
    }
   ],
   "source": [
    "tup2 = (1.2, 1.6, 1.9, 2.3) #float numbers tuple\n",
    "tup2"
   ]
  },
  {
   "cell_type": "code",
   "execution_count": 249,
   "id": "f53f576a",
   "metadata": {},
   "outputs": [
    {
     "data": {
      "text/plain": [
       "(1, 2, 4.5, 'Math', 20)"
      ]
     },
     "execution_count": 249,
     "metadata": {},
     "output_type": "execute_result"
    }
   ],
   "source": [
    "#mixed values tuple\n",
    "tup3 = (1, 2, 4.5, \"Math\", 20)\n",
    "tup3"
   ]
  },
  {
   "cell_type": "code",
   "execution_count": 250,
   "id": "a42eb9f9",
   "metadata": {},
   "outputs": [
    {
     "data": {
      "text/plain": [
       "(1, 2, 3, [1.2, 2.3, 2.9], ['Eng', 'Math', 'Computer'])"
      ]
     },
     "execution_count": 250,
     "metadata": {},
     "output_type": "execute_result"
    }
   ],
   "source": [
    "#list inside the tuple\n",
    "tup4 = (1, 2, 3, [1.2, 2.3, 2.9], ['Eng', 'Math', 'Computer'])\n",
    "tup4"
   ]
  },
  {
   "cell_type": "code",
   "execution_count": 252,
   "id": "422cd988",
   "metadata": {},
   "outputs": [
    {
     "data": {
      "text/plain": [
       "(1, 2, 3, (1, 2), 12)"
      ]
     },
     "execution_count": 252,
     "metadata": {},
     "output_type": "execute_result"
    }
   ],
   "source": [
    "#nested tuples \n",
    "tup5 = (1, 2, 3, (1, 2), 12)\n",
    "tup5"
   ]
  },
  {
   "cell_type": "markdown",
   "id": "5dd503dd",
   "metadata": {},
   "source": [
    "# tuple indexing"
   ]
  },
  {
   "cell_type": "code",
   "execution_count": 253,
   "id": "df08fa63",
   "metadata": {},
   "outputs": [
    {
     "data": {
      "text/plain": [
       "1"
      ]
     },
     "execution_count": 253,
     "metadata": {},
     "output_type": "execute_result"
    }
   ],
   "source": [
    "tup5[0] "
   ]
  },
  {
   "cell_type": "code",
   "execution_count": 258,
   "id": "9b6d5d43",
   "metadata": {
    "scrolled": true
   },
   "outputs": [
    {
     "ename": "TypeError",
     "evalue": "'tuple' object does not support item assignment",
     "output_type": "error",
     "traceback": [
      "\u001b[1;31m---------------------------------------------------------------------------\u001b[0m",
      "\u001b[1;31mTypeError\u001b[0m                                 Traceback (most recent call last)",
      "\u001b[1;32m~\\AppData\\Local\\Temp\\ipykernel_5332\\4176347886.py\u001b[0m in \u001b[0;36m<module>\u001b[1;34m\u001b[0m\n\u001b[1;32m----> 1\u001b[1;33m \u001b[0mtup5\u001b[0m\u001b[1;33m[\u001b[0m\u001b[1;36m0\u001b[0m\u001b[1;33m]\u001b[0m \u001b[1;33m=\u001b[0m \u001b[1;36m2\u001b[0m\u001b[1;33m\u001b[0m\u001b[1;33m\u001b[0m\u001b[0m\n\u001b[0m",
      "\u001b[1;31mTypeError\u001b[0m: 'tuple' object does not support item assignment"
     ]
    }
   ],
   "source": [
    "tup5[0] = 2"
   ]
  },
  {
   "cell_type": "code",
   "execution_count": 260,
   "id": "26cd6d53",
   "metadata": {
    "scrolled": true
   },
   "outputs": [
    {
     "data": {
      "text/plain": [
       "(1, 2)"
      ]
     },
     "execution_count": 260,
     "metadata": {},
     "output_type": "execute_result"
    }
   ],
   "source": [
    "tup5[3]"
   ]
  },
  {
   "cell_type": "code",
   "execution_count": 261,
   "id": "fc899a09",
   "metadata": {
    "scrolled": true
   },
   "outputs": [
    {
     "data": {
      "text/plain": [
       "12"
      ]
     },
     "execution_count": 261,
     "metadata": {},
     "output_type": "execute_result"
    }
   ],
   "source": [
    "tup5[-1]"
   ]
  },
  {
   "cell_type": "markdown",
   "id": "b467ca37",
   "metadata": {},
   "source": [
    "# Tuple Slicing"
   ]
  },
  {
   "cell_type": "code",
   "execution_count": 256,
   "id": "866d0ec6",
   "metadata": {},
   "outputs": [
    {
     "data": {
      "text/plain": [
       "(12, (1, 2), 3, 2, 1)"
      ]
     },
     "execution_count": 256,
     "metadata": {},
     "output_type": "execute_result"
    }
   ],
   "source": [
    "tup5[::-1]"
   ]
  },
  {
   "cell_type": "code",
   "execution_count": 262,
   "id": "758cd0a2",
   "metadata": {},
   "outputs": [
    {
     "data": {
      "text/plain": [
       "(2, (1, 2))"
      ]
     },
     "execution_count": 262,
     "metadata": {},
     "output_type": "execute_result"
    }
   ],
   "source": [
    "tup5[1:4:2]"
   ]
  },
  {
   "cell_type": "code",
   "execution_count": 263,
   "id": "4da888c1",
   "metadata": {},
   "outputs": [
    {
     "data": {
      "text/plain": [
       "5"
      ]
     },
     "execution_count": 263,
     "metadata": {},
     "output_type": "execute_result"
    }
   ],
   "source": [
    "len(tup4)"
   ]
  },
  {
   "cell_type": "code",
   "execution_count": 264,
   "id": "c53a06df",
   "metadata": {},
   "outputs": [
    {
     "data": {
      "text/plain": [
       "([1.2, 2.3, 2.9], ['Eng', 'Math', 'Computer'])"
      ]
     },
     "execution_count": 264,
     "metadata": {},
     "output_type": "execute_result"
    }
   ],
   "source": [
    "tup4[3:5:1]"
   ]
  },
  {
   "cell_type": "code",
   "execution_count": 265,
   "id": "9b3a9e4f",
   "metadata": {},
   "outputs": [
    {
     "data": {
      "text/plain": [
       "(1, 2)"
      ]
     },
     "execution_count": 265,
     "metadata": {},
     "output_type": "execute_result"
    }
   ],
   "source": [
    "#return first 2 itenms\n",
    "tup4[:2]"
   ]
  },
  {
   "cell_type": "code",
   "execution_count": 266,
   "id": "e59a1a2f",
   "metadata": {},
   "outputs": [
    {
     "data": {
      "text/plain": [
       "(1, 2, 3, [1.2, 2.3, 2.9])"
      ]
     },
     "execution_count": 266,
     "metadata": {},
     "output_type": "execute_result"
    }
   ],
   "source": [
    "tup4[:-1]"
   ]
  },
  {
   "cell_type": "code",
   "execution_count": 267,
   "id": "fdfce532",
   "metadata": {},
   "outputs": [
    {
     "data": {
      "text/plain": [
       "(1, 2, 3, [1.2, 2.3, 2.9], ['Eng', 'Math', 'Computer'])"
      ]
     },
     "execution_count": 267,
     "metadata": {},
     "output_type": "execute_result"
    }
   ],
   "source": [
    "#return the whole tuple\n",
    "tup4[:]"
   ]
  },
  {
   "cell_type": "markdown",
   "id": "11224b40",
   "metadata": {},
   "source": [
    "# Changing in the tuple elements"
   ]
  },
  {
   "cell_type": "code",
   "execution_count": 268,
   "id": "3efa129c",
   "metadata": {},
   "outputs": [
    {
     "ename": "TypeError",
     "evalue": "'tuple' object does not support item assignment",
     "output_type": "error",
     "traceback": [
      "\u001b[1;31m---------------------------------------------------------------------------\u001b[0m",
      "\u001b[1;31mTypeError\u001b[0m                                 Traceback (most recent call last)",
      "\u001b[1;32m~\\AppData\\Local\\Temp\\ipykernel_5332\\1554449511.py\u001b[0m in \u001b[0;36m<module>\u001b[1;34m\u001b[0m\n\u001b[1;32m----> 1\u001b[1;33m \u001b[0mtup4\u001b[0m\u001b[1;33m[\u001b[0m\u001b[1;36m0\u001b[0m\u001b[1;33m]\u001b[0m \u001b[1;33m=\u001b[0m \u001b[1;36m1\u001b[0m\u001b[1;33m\u001b[0m\u001b[1;33m\u001b[0m\u001b[0m\n\u001b[0m\u001b[0;32m      2\u001b[0m \u001b[1;31m#tuples are immutable so we cannot change the items in the tuple\u001b[0m\u001b[1;33m\u001b[0m\u001b[1;33m\u001b[0m\u001b[0m\n",
      "\u001b[1;31mTypeError\u001b[0m: 'tuple' object does not support item assignment"
     ]
    }
   ],
   "source": [
    "tup4[0] = 1\n",
    "#tuples are immutable so we cannot change the items in the tuple"
   ]
  },
  {
   "cell_type": "code",
   "execution_count": 270,
   "id": "038953ec",
   "metadata": {},
   "outputs": [
    {
     "ename": "TypeError",
     "evalue": "'tuple' object doesn't support item deletion",
     "output_type": "error",
     "traceback": [
      "\u001b[1;31m---------------------------------------------------------------------------\u001b[0m",
      "\u001b[1;31mTypeError\u001b[0m                                 Traceback (most recent call last)",
      "\u001b[1;32m~\\AppData\\Local\\Temp\\ipykernel_5332\\1487718807.py\u001b[0m in \u001b[0;36m<module>\u001b[1;34m\u001b[0m\n\u001b[1;32m----> 1\u001b[1;33m \u001b[1;32mdel\u001b[0m \u001b[0mtup4\u001b[0m\u001b[1;33m[\u001b[0m\u001b[1;36m0\u001b[0m\u001b[1;33m]\u001b[0m \u001b[1;31m#cannot delete item in the tuple\u001b[0m\u001b[1;33m\u001b[0m\u001b[1;33m\u001b[0m\u001b[0m\n\u001b[0m",
      "\u001b[1;31mTypeError\u001b[0m: 'tuple' object doesn't support item deletion"
     ]
    }
   ],
   "source": [
    "del tup4[0] #cannot delete item in the tuple"
   ]
  },
  {
   "cell_type": "code",
   "execution_count": 271,
   "id": "c604a19e",
   "metadata": {},
   "outputs": [],
   "source": [
    "#hence can delete the entire tuple and this is possible\n",
    "del tup4"
   ]
  },
  {
   "cell_type": "markdown",
   "id": "1d621c3a",
   "metadata": {},
   "source": [
    "# Loop through a Tuple"
   ]
  },
  {
   "cell_type": "code",
   "execution_count": 273,
   "id": "c57297ec",
   "metadata": {},
   "outputs": [
    {
     "data": {
      "text/plain": [
       "(1.2, 1.6, 1.9, 2.3)"
      ]
     },
     "execution_count": 273,
     "metadata": {},
     "output_type": "execute_result"
    }
   ],
   "source": [
    "tup2"
   ]
  },
  {
   "cell_type": "code",
   "execution_count": 274,
   "id": "7a9361d1",
   "metadata": {},
   "outputs": [
    {
     "name": "stdout",
     "output_type": "stream",
     "text": [
      "1.2\n",
      "1.6\n",
      "1.9\n",
      "2.3\n"
     ]
    }
   ],
   "source": [
    "for i in tup2:\n",
    "    print(i)"
   ]
  },
  {
   "cell_type": "code",
   "execution_count": 275,
   "id": "0a22a9fc",
   "metadata": {},
   "outputs": [
    {
     "name": "stdout",
     "output_type": "stream",
     "text": [
      "(0, 1.2)\n",
      "(1, 1.6)\n",
      "(2, 1.9)\n",
      "(3, 2.3)\n"
     ]
    }
   ],
   "source": [
    "for i in enumerate(tup2):\n",
    "    print(i)"
   ]
  },
  {
   "cell_type": "code",
   "execution_count": 276,
   "id": "8fee37aa",
   "metadata": {
    "scrolled": true
   },
   "outputs": [
    {
     "name": "stdout",
     "output_type": "stream",
     "text": [
      "(0, 1)\n",
      "(1, 2)\n",
      "(2, 3)\n"
     ]
    }
   ],
   "source": [
    "tup1\n",
    "for i in enumerate(tup1):\n",
    "    print(i)"
   ]
  },
  {
   "cell_type": "markdown",
   "id": "d68edf77",
   "metadata": {},
   "source": [
    "# Count"
   ]
  },
  {
   "cell_type": "code",
   "execution_count": 277,
   "id": "507272b5",
   "metadata": {},
   "outputs": [
    {
     "data": {
      "text/plain": [
       "1"
      ]
     },
     "execution_count": 277,
     "metadata": {},
     "output_type": "execute_result"
    }
   ],
   "source": [
    "tup1.count(1)"
   ]
  },
  {
   "cell_type": "code",
   "execution_count": 278,
   "id": "8c944c1a",
   "metadata": {},
   "outputs": [
    {
     "data": {
      "text/plain": [
       "0"
      ]
     },
     "execution_count": 278,
     "metadata": {},
     "output_type": "execute_result"
    }
   ],
   "source": [
    "tup1.count(0)"
   ]
  },
  {
   "cell_type": "code",
   "execution_count": 279,
   "id": "fe6ebd45",
   "metadata": {
    "scrolled": true
   },
   "outputs": [
    {
     "data": {
      "text/plain": [
       "1"
      ]
     },
     "execution_count": 279,
     "metadata": {},
     "output_type": "execute_result"
    }
   ],
   "source": [
    "tup1.count(2)"
   ]
  },
  {
   "cell_type": "markdown",
   "id": "ea84edd2",
   "metadata": {},
   "source": [
    "# Tuple Membership"
   ]
  },
  {
   "cell_type": "code",
   "execution_count": 280,
   "id": "05a5ba25",
   "metadata": {},
   "outputs": [
    {
     "name": "stdout",
     "output_type": "stream",
     "text": [
      "Apple is present in the tuple\n"
     ]
    }
   ],
   "source": [
    "tup = ('apple', 'avacado', 'banana', 'orange', 'grapes')\n",
    "if 'apple' in tup:\n",
    "    print(\"Apple is present in the tuple\")\n",
    "else: \n",
    "    print(\"Apple is not present in element of the tuple\")"
   ]
  },
  {
   "cell_type": "code",
   "execution_count": 281,
   "id": "9fe4b3a9",
   "metadata": {},
   "outputs": [
    {
     "name": "stdout",
     "output_type": "stream",
     "text": [
      "mango is not present in the tuple\n"
     ]
    }
   ],
   "source": [
    "if 'mango' in tup:\n",
    "    print(\"mango is in the tuple\")\n",
    "else:\n",
    "    print(\"mango is not present in the tuple\")"
   ]
  },
  {
   "cell_type": "code",
   "execution_count": 282,
   "id": "a05bf6bc",
   "metadata": {},
   "outputs": [
    {
     "name": "stdout",
     "output_type": "stream",
     "text": [
      "Avacado is in the tuple\n"
     ]
    }
   ],
   "source": [
    "if 'avacado' in tup:\n",
    "    print(\"Avacado is in the tuple\")\n",
    "else:\n",
    "    print(\"Avacado is not in the tuple\")"
   ]
  },
  {
   "cell_type": "markdown",
   "id": "bead173a",
   "metadata": {},
   "source": [
    "# Indexing"
   ]
  },
  {
   "cell_type": "code",
   "execution_count": 283,
   "id": "132ad843",
   "metadata": {},
   "outputs": [
    {
     "data": {
      "text/plain": [
       "1"
      ]
     },
     "execution_count": 283,
     "metadata": {},
     "output_type": "execute_result"
    }
   ],
   "source": [
    "tup.index('avacado')"
   ]
  },
  {
   "cell_type": "code",
   "execution_count": 284,
   "id": "16a6b823",
   "metadata": {},
   "outputs": [
    {
     "data": {
      "text/plain": [
       "2"
      ]
     },
     "execution_count": 284,
     "metadata": {},
     "output_type": "execute_result"
    }
   ],
   "source": [
    "tup.index(\"banana\")"
   ]
  },
  {
   "cell_type": "code",
   "execution_count": 285,
   "id": "3cc6f2ee",
   "metadata": {},
   "outputs": [
    {
     "data": {
      "text/plain": [
       "3"
      ]
     },
     "execution_count": 285,
     "metadata": {},
     "output_type": "execute_result"
    }
   ],
   "source": [
    "tup.index(\"orange\")"
   ]
  },
  {
   "cell_type": "code",
   "execution_count": 286,
   "id": "9090b255",
   "metadata": {},
   "outputs": [
    {
     "data": {
      "text/plain": [
       "4"
      ]
     },
     "execution_count": 286,
     "metadata": {},
     "output_type": "execute_result"
    }
   ],
   "source": [
    "tup.index(\"grapes\")"
   ]
  },
  {
   "cell_type": "markdown",
   "id": "94bc5872",
   "metadata": {},
   "source": [
    "# Sorting "
   ]
  },
  {
   "cell_type": "code",
   "execution_count": 287,
   "id": "3a735daf",
   "metadata": {},
   "outputs": [
    {
     "data": {
      "text/plain": [
       "[1.2, 1.6, 1.9, 2.3]"
      ]
     },
     "execution_count": 287,
     "metadata": {},
     "output_type": "execute_result"
    }
   ],
   "source": [
    "sorted(tup2)"
   ]
  },
  {
   "cell_type": "code",
   "execution_count": 288,
   "id": "0cfc3c60",
   "metadata": {},
   "outputs": [
    {
     "ename": "TypeError",
     "evalue": "'<' not supported between instances of 'str' and 'float'",
     "output_type": "error",
     "traceback": [
      "\u001b[1;31m---------------------------------------------------------------------------\u001b[0m",
      "\u001b[1;31mTypeError\u001b[0m                                 Traceback (most recent call last)",
      "\u001b[1;32m~\\AppData\\Local\\Temp\\ipykernel_5332\\2070600050.py\u001b[0m in \u001b[0;36m<module>\u001b[1;34m\u001b[0m\n\u001b[1;32m----> 1\u001b[1;33m \u001b[0msorted\u001b[0m\u001b[1;33m(\u001b[0m\u001b[0mtup3\u001b[0m\u001b[1;33m)\u001b[0m\u001b[1;33m\u001b[0m\u001b[1;33m\u001b[0m\u001b[0m\n\u001b[0m",
      "\u001b[1;31mTypeError\u001b[0m: '<' not supported between instances of 'str' and 'float'"
     ]
    }
   ],
   "source": [
    "sorted(tup3)"
   ]
  },
  {
   "cell_type": "code",
   "execution_count": 289,
   "id": "02a8e024",
   "metadata": {},
   "outputs": [
    {
     "data": {
      "text/plain": [
       "['apple', 'avacado', 'banana', 'grapes', 'orange']"
      ]
     },
     "execution_count": 289,
     "metadata": {},
     "output_type": "execute_result"
    }
   ],
   "source": [
    "sorted(tup)"
   ]
  },
  {
   "cell_type": "code",
   "execution_count": 290,
   "id": "d8f80a2f",
   "metadata": {},
   "outputs": [
    {
     "data": {
      "text/plain": [
       "['apple', 'avacado', 'banana', 'grapes', 'orange']"
      ]
     },
     "execution_count": 290,
     "metadata": {},
     "output_type": "execute_result"
    }
   ],
   "source": [
    "sorted(tup, reverse=False)"
   ]
  },
  {
   "cell_type": "code",
   "execution_count": 291,
   "id": "f2c94477",
   "metadata": {},
   "outputs": [
    {
     "data": {
      "text/plain": [
       "['orange', 'grapes', 'banana', 'avacado', 'apple']"
      ]
     },
     "execution_count": 291,
     "metadata": {},
     "output_type": "execute_result"
    }
   ],
   "source": [
    "sorted(tup, reverse = True)"
   ]
  },
  {
   "cell_type": "code",
   "execution_count": 292,
   "id": "cfd33760",
   "metadata": {},
   "outputs": [
    {
     "data": {
      "text/plain": [
       "[3, 2, 1]"
      ]
     },
     "execution_count": 292,
     "metadata": {},
     "output_type": "execute_result"
    }
   ],
   "source": [
    "sorted(tup1, reverse=True)"
   ]
  },
  {
   "cell_type": "markdown",
   "id": "d4805639",
   "metadata": {},
   "source": [
    "# Sets\n",
    "    1. UnOrdered and UnSequenced collection of items\n",
    "    2. Set elements are immutable (cannot be changed)\n",
    "    3. Set elements are unique. elements cannot be duplicated.\n",
    "    4. Set itself is mutable. we can add and remove items from it."
   ]
  },
  {
   "cell_type": "code",
   "execution_count": 293,
   "id": "5b72e1e9",
   "metadata": {},
   "outputs": [],
   "source": [
    "myset = {} #created a blank set"
   ]
  },
  {
   "cell_type": "code",
   "execution_count": 296,
   "id": "8113464f",
   "metadata": {},
   "outputs": [],
   "source": [
    "myset = {1, 2, 3, 4, 5} #integers values set"
   ]
  },
  {
   "cell_type": "code",
   "execution_count": 297,
   "id": "04499ccd",
   "metadata": {},
   "outputs": [
    {
     "data": {
      "text/plain": [
       "{1, 2, 3, 4, 5}"
      ]
     },
     "execution_count": 297,
     "metadata": {},
     "output_type": "execute_result"
    }
   ],
   "source": [
    "myset"
   ]
  },
  {
   "cell_type": "code",
   "execution_count": 298,
   "id": "e093bdcc",
   "metadata": {},
   "outputs": [
    {
     "data": {
      "text/plain": [
       "5"
      ]
     },
     "execution_count": 298,
     "metadata": {},
     "output_type": "execute_result"
    }
   ],
   "source": [
    "len(myset)"
   ]
  },
  {
   "cell_type": "code",
   "execution_count": 299,
   "id": "5ad81813",
   "metadata": {},
   "outputs": [],
   "source": [
    "#trying to add duplicate elements in the sets\n",
    "myset = {1, 2, 3, 4, 4, 2, 5, 6}"
   ]
  },
  {
   "cell_type": "code",
   "execution_count": 300,
   "id": "7731131a",
   "metadata": {},
   "outputs": [
    {
     "data": {
      "text/plain": [
       "6"
      ]
     },
     "execution_count": 300,
     "metadata": {},
     "output_type": "execute_result"
    }
   ],
   "source": [
    "len(myset)"
   ]
  },
  {
   "cell_type": "code",
   "execution_count": 301,
   "id": "d243797b",
   "metadata": {},
   "outputs": [
    {
     "data": {
      "text/plain": [
       "{1, 2, 3, 4, 5, 6}"
      ]
     },
     "execution_count": 301,
     "metadata": {},
     "output_type": "execute_result"
    }
   ],
   "source": [
    "myset"
   ]
  },
  {
   "cell_type": "code",
   "execution_count": 302,
   "id": "90889d1f",
   "metadata": {},
   "outputs": [
    {
     "ename": "TypeError",
     "evalue": "unhashable type: 'list'",
     "output_type": "error",
     "traceback": [
      "\u001b[1;31m---------------------------------------------------------------------------\u001b[0m",
      "\u001b[1;31mTypeError\u001b[0m                                 Traceback (most recent call last)",
      "\u001b[1;32m~\\AppData\\Local\\Temp\\ipykernel_5332\\1147123494.py\u001b[0m in \u001b[0;36m<module>\u001b[1;34m\u001b[0m\n\u001b[0;32m      1\u001b[0m \u001b[1;31m#cannot store mutable elements inside the set like list\u001b[0m\u001b[1;33m\u001b[0m\u001b[1;33m\u001b[0m\u001b[0m\n\u001b[1;32m----> 2\u001b[1;33m \u001b[0mmyset\u001b[0m \u001b[1;33m=\u001b[0m \u001b[1;33m{\u001b[0m\u001b[1;36m1\u001b[0m\u001b[1;33m,\u001b[0m \u001b[1;36m2\u001b[0m\u001b[1;33m,\u001b[0m \u001b[1;36m3\u001b[0m\u001b[1;33m,\u001b[0m \u001b[1;33m[\u001b[0m\u001b[1;36m1\u001b[0m\u001b[1;33m,\u001b[0m \u001b[1;36m2\u001b[0m\u001b[1;33m,\u001b[0m \u001b[1;36m4\u001b[0m\u001b[1;33m]\u001b[0m\u001b[1;33m,\u001b[0m \u001b[1;36m7\u001b[0m\u001b[1;33m,\u001b[0m \u001b[1;36m8\u001b[0m\u001b[1;33m}\u001b[0m\u001b[1;33m\u001b[0m\u001b[1;33m\u001b[0m\u001b[0m\n\u001b[0m\u001b[0;32m      3\u001b[0m \u001b[0mmyset\u001b[0m\u001b[1;33m\u001b[0m\u001b[1;33m\u001b[0m\u001b[0m\n",
      "\u001b[1;31mTypeError\u001b[0m: unhashable type: 'list'"
     ]
    }
   ],
   "source": [
    "#cannot store mutable elements inside the set like list\n",
    "myset = {1, 2, 3, [1, 2, 4], 7, 8}\n",
    "myset"
   ]
  },
  {
   "cell_type": "code",
   "execution_count": 303,
   "id": "d93f49e0",
   "metadata": {},
   "outputs": [
    {
     "data": {
      "text/plain": [
       "set"
      ]
     },
     "execution_count": 303,
     "metadata": {},
     "output_type": "execute_result"
    }
   ],
   "source": [
    "float_set = {1.2, 2.5, 2.8, 3.0} #storing float values inside the set\n",
    "type(float_set)"
   ]
  },
  {
   "cell_type": "code",
   "execution_count": 304,
   "id": "5dc2523c",
   "metadata": {},
   "outputs": [],
   "source": [
    "#can store mix data types inisde the set\n",
    "mix_set = {1, 2, 5, (2, 6, 3), \"Hello\", \"World\"}"
   ]
  },
  {
   "cell_type": "code",
   "execution_count": 305,
   "id": "7c1305f8",
   "metadata": {},
   "outputs": [
    {
     "data": {
      "text/plain": [
       "{(2, 6, 3), 1, 2, 5, 'Hello', 'World'}"
      ]
     },
     "execution_count": 305,
     "metadata": {},
     "output_type": "execute_result"
    }
   ],
   "source": [
    "mix_set"
   ]
  },
  {
   "cell_type": "code",
   "execution_count": 308,
   "id": "881ae210",
   "metadata": {},
   "outputs": [
    {
     "data": {
      "text/plain": [
       "{1, 2, 3, 4, 5}"
      ]
     },
     "execution_count": 308,
     "metadata": {},
     "output_type": "execute_result"
    }
   ],
   "source": [
    "#initializing empty set \n",
    "s = set()\n",
    "#giving values to empty set to store\n",
    "s = set((1, 2, 3, 4, 5))\n",
    "s"
   ]
  },
  {
   "cell_type": "markdown",
   "id": "edbbfe4e",
   "metadata": {},
   "source": [
    "# Loop through a set"
   ]
  },
  {
   "cell_type": "code",
   "execution_count": 309,
   "id": "1f5e5d46",
   "metadata": {},
   "outputs": [
    {
     "name": "stdout",
     "output_type": "stream",
     "text": [
      "1\n",
      "2\n",
      "3\n",
      "4\n",
      "5\n"
     ]
    }
   ],
   "source": [
    "for i in s:\n",
    "    print(i)"
   ]
  },
  {
   "cell_type": "code",
   "execution_count": 310,
   "id": "6dd760ae",
   "metadata": {},
   "outputs": [
    {
     "name": "stdout",
     "output_type": "stream",
     "text": [
      "{1, 2, 'World', 5, 'Hello', (2, 6, 3)}\n",
      "{1, 2, 'World', 5, 'Hello', (2, 6, 3)}\n",
      "{1, 2, 'World', 5, 'Hello', (2, 6, 3)}\n",
      "{1, 2, 'World', 5, 'Hello', (2, 6, 3)}\n",
      "{1, 2, 'World', 5, 'Hello', (2, 6, 3)}\n",
      "{1, 2, 'World', 5, 'Hello', (2, 6, 3)}\n"
     ]
    }
   ],
   "source": [
    "for i in mix_set:\n",
    "    print(mix_set)"
   ]
  },
  {
   "cell_type": "code",
   "execution_count": 311,
   "id": "942b6279",
   "metadata": {},
   "outputs": [
    {
     "name": "stdout",
     "output_type": "stream",
     "text": [
      "(0, 1)\n",
      "(1, 2)\n",
      "(2, 'World')\n",
      "(3, 5)\n",
      "(4, 'Hello')\n",
      "(5, (2, 6, 3))\n"
     ]
    }
   ],
   "source": [
    "for i in enumerate(mix_set):\n",
    "    print(i)"
   ]
  },
  {
   "cell_type": "markdown",
   "id": "29131487",
   "metadata": {},
   "source": [
    "# Membership"
   ]
  },
  {
   "cell_type": "code",
   "execution_count": 314,
   "id": "7e3da271",
   "metadata": {},
   "outputs": [
    {
     "data": {
      "text/plain": [
       "True"
      ]
     },
     "execution_count": 314,
     "metadata": {},
     "output_type": "execute_result"
    }
   ],
   "source": [
    "1 in mix_set"
   ]
  },
  {
   "cell_type": "code",
   "execution_count": 315,
   "id": "f59ca2b7",
   "metadata": {},
   "outputs": [
    {
     "data": {
      "text/plain": [
       "False"
      ]
     },
     "execution_count": 315,
     "metadata": {},
     "output_type": "execute_result"
    }
   ],
   "source": [
    "\"hello\" in mix_set"
   ]
  },
  {
   "cell_type": "code",
   "execution_count": 316,
   "id": "90b932af",
   "metadata": {},
   "outputs": [
    {
     "data": {
      "text/plain": [
       "True"
      ]
     },
     "execution_count": 316,
     "metadata": {},
     "output_type": "execute_result"
    }
   ],
   "source": [
    "\"Hello\" in mix_set"
   ]
  },
  {
   "cell_type": "code",
   "execution_count": 317,
   "id": "39897b8e",
   "metadata": {},
   "outputs": [
    {
     "name": "stdout",
     "output_type": "stream",
     "text": [
      "Hello World is in the mix_set\n"
     ]
    }
   ],
   "source": [
    "if \"Hello\" in mix_set:\n",
    "    if \"World\" in mix_set: \n",
    "        print(\"Hello World is in the mix_set\")"
   ]
  },
  {
   "cell_type": "markdown",
   "id": "0023d11c",
   "metadata": {},
   "source": [
    "# Add and Remove items in the set"
   ]
  },
  {
   "cell_type": "code",
   "execution_count": 318,
   "id": "3730ab6a",
   "metadata": {},
   "outputs": [
    {
     "data": {
      "text/plain": [
       "{(2, 6, 3), 1, 2, 5, 'Hello', 'World'}"
      ]
     },
     "execution_count": 318,
     "metadata": {},
     "output_type": "execute_result"
    }
   ],
   "source": [
    "mix_set"
   ]
  },
  {
   "cell_type": "code",
   "execution_count": 320,
   "id": "83598a7e",
   "metadata": {},
   "outputs": [
    {
     "data": {
      "text/plain": [
       "{(2, 6, 3), 1, 10, 2, 5, 'Hello', 'World'}"
      ]
     },
     "execution_count": 320,
     "metadata": {},
     "output_type": "execute_result"
    }
   ],
   "source": [
    "mix_set.add(10)\n",
    "mix_set"
   ]
  },
  {
   "cell_type": "code",
   "execution_count": 324,
   "id": "3dd39df8",
   "metadata": {},
   "outputs": [
    {
     "data": {
      "text/plain": [
       "{(2, 6, 3), 1, 10, 12, 16, 2, 5, 'Greet', 'Hello', 'World'}"
      ]
     },
     "execution_count": 324,
     "metadata": {},
     "output_type": "execute_result"
    }
   ],
   "source": [
    "mix_set.update([12, 10, 16, 'Greet'])\n",
    "mix_set"
   ]
  },
  {
   "cell_type": "code",
   "execution_count": 327,
   "id": "506a71ff",
   "metadata": {
    "scrolled": true
   },
   "outputs": [
    {
     "data": {
      "text/plain": [
       "{(2, 6, 3), 1, 10, 12, 16, 2, 'Hello', 'World'}"
      ]
     },
     "execution_count": 327,
     "metadata": {},
     "output_type": "execute_result"
    }
   ],
   "source": [
    "#removing the element from the set \n",
    "mix_set.remove(5)\n",
    "mix_set"
   ]
  },
  {
   "cell_type": "code",
   "execution_count": 328,
   "id": "94220d7a",
   "metadata": {},
   "outputs": [],
   "source": [
    "mix_set.discard((2, 6, 3))"
   ]
  },
  {
   "cell_type": "code",
   "execution_count": 330,
   "id": "776eecd6",
   "metadata": {},
   "outputs": [
    {
     "data": {
      "text/plain": [
       "{1, 10, 12, 16, 2, 'Hello', 'World'}"
      ]
     },
     "execution_count": 330,
     "metadata": {},
     "output_type": "execute_result"
    }
   ],
   "source": [
    "mix_set"
   ]
  },
  {
   "cell_type": "code",
   "execution_count": 331,
   "id": "c640e2b5",
   "metadata": {},
   "outputs": [],
   "source": [
    "del mix_set"
   ]
  },
  {
   "cell_type": "code",
   "execution_count": 333,
   "id": "b544bd72",
   "metadata": {},
   "outputs": [
    {
     "ename": "NameError",
     "evalue": "name 'mix_set' is not defined",
     "output_type": "error",
     "traceback": [
      "\u001b[1;31m---------------------------------------------------------------------------\u001b[0m",
      "\u001b[1;31mNameError\u001b[0m                                 Traceback (most recent call last)",
      "\u001b[1;32m~\\AppData\\Local\\Temp\\ipykernel_5332\\340175699.py\u001b[0m in \u001b[0;36m<module>\u001b[1;34m\u001b[0m\n\u001b[1;32m----> 1\u001b[1;33m \u001b[0mmix_set\u001b[0m\u001b[1;33m\u001b[0m\u001b[1;33m\u001b[0m\u001b[0m\n\u001b[0m",
      "\u001b[1;31mNameError\u001b[0m: name 'mix_set' is not defined"
     ]
    }
   ],
   "source": [
    "mix_set"
   ]
  },
  {
   "cell_type": "markdown",
   "id": "2700c67e",
   "metadata": {},
   "source": [
    "# Copy"
   ]
  },
  {
   "cell_type": "code",
   "execution_count": 334,
   "id": "38f96a7b",
   "metadata": {},
   "outputs": [],
   "source": [
    "set1 = {'Mr.A', 'Mr.B', 'Mr.C', 'Mr.D'}\n",
    "set2 = set1"
   ]
  },
  {
   "cell_type": "code",
   "execution_count": 335,
   "id": "739d8150",
   "metadata": {},
   "outputs": [
    {
     "data": {
      "text/plain": [
       "(2497633399968, 2497633399968)"
      ]
     },
     "execution_count": 335,
     "metadata": {},
     "output_type": "execute_result"
    }
   ],
   "source": [
    "id(set1), id(set2)"
   ]
  },
  {
   "cell_type": "code",
   "execution_count": 340,
   "id": "d65da336",
   "metadata": {},
   "outputs": [],
   "source": [
    "set1.update(('Mr.E', 'Mr.F'))"
   ]
  },
  {
   "cell_type": "code",
   "execution_count": 341,
   "id": "96f9de87",
   "metadata": {},
   "outputs": [
    {
     "name": "stdout",
     "output_type": "stream",
     "text": [
      "{'M', 'F', 'Mr.B', 'Mr.E', 'Mr.C', 'E', '.', 'Mr.F', 'r', 'Mr.D', 'Mr.A'} {'M', 'F', 'Mr.B', 'Mr.E', 'Mr.C', 'E', '.', 'Mr.F', 'r', 'Mr.D', 'Mr.A'}\n"
     ]
    }
   ],
   "source": [
    "print(set1, set2)"
   ]
  },
  {
   "cell_type": "code",
   "execution_count": 342,
   "id": "378773fb",
   "metadata": {},
   "outputs": [
    {
     "data": {
      "text/plain": [
       "(2497633401088, 2497633399968)"
      ]
     },
     "execution_count": 342,
     "metadata": {},
     "output_type": "execute_result"
    }
   ],
   "source": [
    "set3 = set1.copy()\n",
    "id(set3), id(set1)"
   ]
  },
  {
   "cell_type": "code",
   "execution_count": 343,
   "id": "5fe5c25b",
   "metadata": {},
   "outputs": [],
   "source": [
    "set1.discard(\"M\")"
   ]
  },
  {
   "cell_type": "code",
   "execution_count": 344,
   "id": "50b7f3fa",
   "metadata": {},
   "outputs": [
    {
     "data": {
      "text/plain": [
       "({'.', 'E', 'F', 'M', 'Mr.A', 'Mr.B', 'Mr.C', 'Mr.D', 'Mr.E', 'Mr.F', 'r'},\n",
       " {'.', 'E', 'F', 'Mr.A', 'Mr.B', 'Mr.C', 'Mr.D', 'Mr.E', 'Mr.F', 'r'})"
      ]
     },
     "execution_count": 344,
     "metadata": {},
     "output_type": "execute_result"
    }
   ],
   "source": [
    "set3, set1"
   ]
  },
  {
   "cell_type": "markdown",
   "id": "e1a841b0",
   "metadata": {},
   "source": [
    "# Operations  "
   ]
  },
  {
   "cell_type": "code",
   "execution_count": 345,
   "id": "3ad90e8f",
   "metadata": {},
   "outputs": [],
   "source": [
    "A = {1, 2, 3, 4}\n",
    "B = {5, 2, 12, 4, 6}\n",
    "C = {7, 8, 12, 9, 10}"
   ]
  },
  {
   "cell_type": "code",
   "execution_count": 346,
   "id": "e786f6e2",
   "metadata": {},
   "outputs": [
    {
     "data": {
      "text/plain": [
       "{1, 2, 3, 4, 5, 6, 12}"
      ]
     },
     "execution_count": 346,
     "metadata": {},
     "output_type": "execute_result"
    }
   ],
   "source": [
    "#Union\n",
    "A | B"
   ]
  },
  {
   "cell_type": "code",
   "execution_count": 347,
   "id": "99884783",
   "metadata": {},
   "outputs": [
    {
     "data": {
      "text/plain": [
       "{1, 2, 3, 4, 5, 6, 7, 8, 9, 10, 12}"
      ]
     },
     "execution_count": 347,
     "metadata": {},
     "output_type": "execute_result"
    }
   ],
   "source": [
    "A.union(B, C)"
   ]
  },
  {
   "cell_type": "code",
   "execution_count": 348,
   "id": "82e99f36",
   "metadata": {},
   "outputs": [],
   "source": [
    "A.update(B, C)"
   ]
  },
  {
   "cell_type": "code",
   "execution_count": 349,
   "id": "e92454d8",
   "metadata": {},
   "outputs": [
    {
     "data": {
      "text/plain": [
       "{1, 2, 3, 4, 5, 6, 7, 8, 9, 10, 12}"
      ]
     },
     "execution_count": 349,
     "metadata": {},
     "output_type": "execute_result"
    }
   ],
   "source": [
    "A"
   ]
  },
  {
   "cell_type": "code",
   "execution_count": 350,
   "id": "c1ed3486",
   "metadata": {},
   "outputs": [],
   "source": [
    "#intersection\n",
    "A.intersection_update(B, C)"
   ]
  },
  {
   "cell_type": "code",
   "execution_count": 351,
   "id": "fc759036",
   "metadata": {},
   "outputs": [
    {
     "data": {
      "text/plain": [
       "{12}"
      ]
     },
     "execution_count": 351,
     "metadata": {},
     "output_type": "execute_result"
    }
   ],
   "source": [
    "A"
   ]
  },
  {
   "cell_type": "code",
   "execution_count": 352,
   "id": "61a1cb4d",
   "metadata": {},
   "outputs": [
    {
     "data": {
      "text/plain": [
       "{12}"
      ]
     },
     "execution_count": 352,
     "metadata": {},
     "output_type": "execute_result"
    }
   ],
   "source": [
    "A&B"
   ]
  },
  {
   "cell_type": "code",
   "execution_count": 353,
   "id": "611c449f",
   "metadata": {},
   "outputs": [],
   "source": [
    "#Difference\n",
    "A = {1, 2, 3, 4}\n",
    "B = {5, 2, 12, 4, 6}\n",
    "C = {7, 8, 12, 9, 10}"
   ]
  },
  {
   "cell_type": "code",
   "execution_count": 354,
   "id": "a2510b67",
   "metadata": {},
   "outputs": [
    {
     "data": {
      "text/plain": [
       "{1, 3}"
      ]
     },
     "execution_count": 354,
     "metadata": {},
     "output_type": "execute_result"
    }
   ],
   "source": [
    "A - B"
   ]
  },
  {
   "cell_type": "code",
   "execution_count": 355,
   "id": "e2b7a9bc",
   "metadata": {},
   "outputs": [
    {
     "data": {
      "text/plain": [
       "{1, 3}"
      ]
     },
     "execution_count": 355,
     "metadata": {},
     "output_type": "execute_result"
    }
   ],
   "source": [
    "A.difference(B)"
   ]
  },
  {
   "cell_type": "code",
   "execution_count": 356,
   "id": "9143d994",
   "metadata": {},
   "outputs": [],
   "source": [
    "A.difference_update(B)"
   ]
  },
  {
   "cell_type": "code",
   "execution_count": 357,
   "id": "0bd92745",
   "metadata": {},
   "outputs": [
    {
     "data": {
      "text/plain": [
       "{2, 4, 5, 6, 12}"
      ]
     },
     "execution_count": 357,
     "metadata": {},
     "output_type": "execute_result"
    }
   ],
   "source": [
    "B-A"
   ]
  },
  {
   "cell_type": "code",
   "execution_count": 358,
   "id": "3ccfd185",
   "metadata": {},
   "outputs": [
    {
     "data": {
      "text/plain": [
       "{2, 4, 5, 6, 12}"
      ]
     },
     "execution_count": 358,
     "metadata": {},
     "output_type": "execute_result"
    }
   ],
   "source": [
    "B.difference(A)"
   ]
  },
  {
   "cell_type": "code",
   "execution_count": 360,
   "id": "02455408",
   "metadata": {},
   "outputs": [
    {
     "data": {
      "text/plain": [
       "{2, 4, 5, 6, 12}"
      ]
     },
     "execution_count": 360,
     "metadata": {},
     "output_type": "execute_result"
    }
   ],
   "source": [
    "B.difference_update(A)\n",
    "B"
   ]
  },
  {
   "cell_type": "code",
   "execution_count": 361,
   "id": "f5ac63dd",
   "metadata": {},
   "outputs": [
    {
     "data": {
      "text/plain": [
       "{1, 2, 3, 4, 5, 6, 12}"
      ]
     },
     "execution_count": 361,
     "metadata": {},
     "output_type": "execute_result"
    }
   ],
   "source": [
    "#symmetric differnce: means the elements in set A but not in set B\n",
    "A^B"
   ]
  },
  {
   "cell_type": "code",
   "execution_count": 367,
   "id": "c7f8f557",
   "metadata": {},
   "outputs": [
    {
     "data": {
      "text/plain": [
       "{1, 2, 3, 4, 5, 6, 12}"
      ]
     },
     "execution_count": 367,
     "metadata": {},
     "output_type": "execute_result"
    }
   ],
   "source": [
    "A.symmetric_difference(B)"
   ]
  },
  {
   "cell_type": "code",
   "execution_count": 368,
   "id": "66b8cca5",
   "metadata": {},
   "outputs": [
    {
     "data": {
      "text/plain": [
       "{1, 2, 3, 4, 5, 6, 12}"
      ]
     },
     "execution_count": 368,
     "metadata": {},
     "output_type": "execute_result"
    }
   ],
   "source": [
    "A.symmetric_difference_update(B)\n",
    "A"
   ]
  },
  {
   "cell_type": "code",
   "execution_count": 369,
   "id": "d92cc3b5",
   "metadata": {},
   "outputs": [],
   "source": [
    "#subset, superset, disjoint\n"
   ]
  },
  {
   "cell_type": "code",
   "execution_count": 370,
   "id": "ad874e23",
   "metadata": {},
   "outputs": [],
   "source": [
    "A = {1, 2, 3, 4}\n",
    "B = {5, 2, 12, 4, 6}\n",
    "C = {7, 8, 12, 9, 10}"
   ]
  },
  {
   "cell_type": "code",
   "execution_count": 372,
   "id": "80462416",
   "metadata": {},
   "outputs": [
    {
     "data": {
      "text/plain": [
       "False"
      ]
     },
     "execution_count": 372,
     "metadata": {},
     "output_type": "execute_result"
    }
   ],
   "source": [
    "A.issubset(B) #set A is subset of set B if all elements in the set A exits in the set B"
   ]
  },
  {
   "cell_type": "code",
   "execution_count": 375,
   "id": "4ca0762f",
   "metadata": {},
   "outputs": [
    {
     "data": {
      "text/plain": [
       "False"
      ]
     },
     "execution_count": 375,
     "metadata": {},
     "output_type": "execute_result"
    }
   ],
   "source": [
    "B.issubset(A) #set B is subset of set A if all elements in the set B exists in the set A"
   ]
  },
  {
   "cell_type": "code",
   "execution_count": 376,
   "id": "bd2b8bc5",
   "metadata": {},
   "outputs": [
    {
     "data": {
      "text/plain": [
       "False"
      ]
     },
     "execution_count": 376,
     "metadata": {},
     "output_type": "execute_result"
    }
   ],
   "source": [
    "A.issuperset(B)"
   ]
  },
  {
   "cell_type": "code",
   "execution_count": 378,
   "id": "18bc301e",
   "metadata": {},
   "outputs": [
    {
     "data": {
      "text/plain": [
       "False"
      ]
     },
     "execution_count": 378,
     "metadata": {},
     "output_type": "execute_result"
    }
   ],
   "source": [
    "B.issuperset(A)"
   ]
  },
  {
   "cell_type": "code",
   "execution_count": 380,
   "id": "cd1dd342",
   "metadata": {},
   "outputs": [
    {
     "data": {
      "text/plain": [
       "False"
      ]
     },
     "execution_count": 380,
     "metadata": {},
     "output_type": "execute_result"
    }
   ],
   "source": [
    "#Disjoint: two sets are said to be disjoint set if they have no common elements\n",
    "A.isdisjoint(B)"
   ]
  },
  {
   "cell_type": "code",
   "execution_count": 382,
   "id": "adfcf7c6",
   "metadata": {},
   "outputs": [
    {
     "data": {
      "text/plain": [
       "True"
      ]
     },
     "execution_count": 382,
     "metadata": {},
     "output_type": "execute_result"
    }
   ],
   "source": [
    "A.isdisjoint(C)"
   ]
  },
  {
   "cell_type": "code",
   "execution_count": 383,
   "id": "4c9862af",
   "metadata": {},
   "outputs": [
    {
     "data": {
      "text/plain": [
       "False"
      ]
     },
     "execution_count": 383,
     "metadata": {},
     "output_type": "execute_result"
    }
   ],
   "source": [
    "C.isdisjoint(B)"
   ]
  },
  {
   "cell_type": "markdown",
   "id": "fec129d1",
   "metadata": {},
   "source": [
    "# Some built in functions"
   ]
  },
  {
   "cell_type": "code",
   "execution_count": 384,
   "id": "cab90da2",
   "metadata": {},
   "outputs": [
    {
     "data": {
      "text/plain": [
       "1"
      ]
     },
     "execution_count": 384,
     "metadata": {},
     "output_type": "execute_result"
    }
   ],
   "source": [
    "min(A)"
   ]
  },
  {
   "cell_type": "code",
   "execution_count": 385,
   "id": "0e12b809",
   "metadata": {},
   "outputs": [
    {
     "data": {
      "text/plain": [
       "4"
      ]
     },
     "execution_count": 385,
     "metadata": {},
     "output_type": "execute_result"
    }
   ],
   "source": [
    "max(A)"
   ]
  },
  {
   "cell_type": "code",
   "execution_count": 386,
   "id": "91e1a75f",
   "metadata": {},
   "outputs": [
    {
     "data": {
      "text/plain": [
       "10"
      ]
     },
     "execution_count": 386,
     "metadata": {},
     "output_type": "execute_result"
    }
   ],
   "source": [
    "sum(A)"
   ]
  },
  {
   "cell_type": "code",
   "execution_count": 387,
   "id": "a95641ce",
   "metadata": {},
   "outputs": [
    {
     "data": {
      "text/plain": [
       "[4, 3, 2, 1]"
      ]
     },
     "execution_count": 387,
     "metadata": {},
     "output_type": "execute_result"
    }
   ],
   "source": [
    "sorted(A, reverse = True)"
   ]
  },
  {
   "cell_type": "code",
   "execution_count": 389,
   "id": "1e185720",
   "metadata": {},
   "outputs": [
    {
     "data": {
      "text/plain": [
       "<enumerate at 0x245868dfb00>"
      ]
     },
     "execution_count": 389,
     "metadata": {},
     "output_type": "execute_result"
    }
   ],
   "source": [
    "enumerate(A)"
   ]
  },
  {
   "cell_type": "code",
   "execution_count": 390,
   "id": "c9740714",
   "metadata": {},
   "outputs": [
    {
     "name": "stdout",
     "output_type": "stream",
     "text": [
      "(0, 1)\n",
      "(1, 2)\n",
      "(2, 3)\n",
      "(3, 4)\n"
     ]
    }
   ],
   "source": [
    "for i in enumerate(A):\n",
    "    print(i)"
   ]
  },
  {
   "cell_type": "code",
   "execution_count": 392,
   "id": "cfae6de1",
   "metadata": {},
   "outputs": [
    {
     "data": {
      "text/plain": [
       "[1, 2, 3, 4]"
      ]
     },
     "execution_count": 392,
     "metadata": {},
     "output_type": "execute_result"
    }
   ],
   "source": [
    "sorted(A)"
   ]
  },
  {
   "cell_type": "markdown",
   "id": "1c213e3f",
   "metadata": {},
   "source": [
    "# Dictionary:\n",
    "    1. Dictionary is a mutable data type\n",
    "    2. A python dictionary is collection of key and value pairs separated by `:` and enclosed in curly brackets `{}`\n",
    "    3. keys must be unique in the dictionary. while the values can be duplicated"
   ]
  },
  {
   "cell_type": "code",
   "execution_count": 393,
   "id": "42dc91c0",
   "metadata": {},
   "outputs": [],
   "source": [
    "#create empty dict\n",
    "mydict = dict()"
   ]
  },
  {
   "cell_type": "code",
   "execution_count": 394,
   "id": "53312dd0",
   "metadata": {},
   "outputs": [
    {
     "data": {
      "text/plain": [
       "dict"
      ]
     },
     "execution_count": 394,
     "metadata": {},
     "output_type": "execute_result"
    }
   ],
   "source": [
    "type(mydict)"
   ]
  },
  {
   "cell_type": "code",
   "execution_count": 4,
   "id": "e4e916c1",
   "metadata": {},
   "outputs": [
    {
     "data": {
      "text/plain": [
       "{1: 'Ayesha', 2: 'Aimen', 3: 'Amna', 4: 'Aliya', 5: 'Arooba'}"
      ]
     },
     "execution_count": 4,
     "metadata": {},
     "output_type": "execute_result"
    }
   ],
   "source": [
    "mydict = dict({1:'Ayesha', 2:'Aimen', 3:'Amna', 4:'Aliya', 5:'Arooba'})\n",
    "mydict"
   ]
  },
  {
   "cell_type": "code",
   "execution_count": 5,
   "id": "301ef2ec",
   "metadata": {},
   "outputs": [
    {
     "data": {
      "text/plain": [
       "{1: 'Ayesha',\n",
       " 2: 'Aimen',\n",
       " 3: 'Amna',\n",
       " 4: ['Aliya', 'Maham', 'Mahak', 'Maryam'],\n",
       " 5: ('Arooba', 'Lahore', 32, 'married')}"
      ]
     },
     "execution_count": 5,
     "metadata": {},
     "output_type": "execute_result"
    }
   ],
   "source": [
    "#can stored multiple values as list or tuple in the dictionaries against one unique key\n",
    "mydict = dict({1:'Ayesha', 2:'Aimen', 3:'Amna', 4:['Aliya', 'Maham', 'Mahak', 'Maryam'], 5:('Arooba', 'Lahore', 32, \"married\")})\n",
    "mydict"
   ]
  },
  {
   "cell_type": "code",
   "execution_count": 6,
   "id": "5cf239f3",
   "metadata": {},
   "outputs": [
    {
     "data": {
      "text/plain": [
       "{1: 'Ayesha',\n",
       " 2: 'Aimen',\n",
       " 3: {'Name': 'Amna', 'Age': 25, 'City': 'Lahore', 'status': 'Engaged'},\n",
       " 4: ['Aliya', 'Maham', 'Mahak', 'Maryam'],\n",
       " 5: ('Arooba', 'Lahore', 32, 'married')}"
      ]
     },
     "execution_count": 6,
     "metadata": {},
     "output_type": "execute_result"
    }
   ],
   "source": [
    "#can stored multiple values as list or tuple in the dictionaries against one unique key\n",
    "mydict = dict({1:'Ayesha', 2:'Aimen', 3:{'Name':'Amna', 'Age':25, 'City':'Lahore', \"status\":'Engaged'}, 4:['Aliya', 'Maham', 'Mahak', 'Maryam'], 5:('Arooba', 'Lahore', 32, \"married\")})\n",
    "mydict"
   ]
  },
  {
   "cell_type": "code",
   "execution_count": 6,
   "id": "70942682",
   "metadata": {},
   "outputs": [
    {
     "data": {
      "text/plain": [
       "{'b': None, 'a': None, 'd': None, 'c': None}"
      ]
     },
     "execution_count": 6,
     "metadata": {},
     "output_type": "execute_result"
    }
   ],
   "source": [
    "keys = {'a', 'b', 'c', 'd'}\n",
    "dic1 = dict.fromkeys(keys)\n",
    "dic1"
   ]
  },
  {
   "cell_type": "code",
   "execution_count": 7,
   "id": "84705220",
   "metadata": {},
   "outputs": [
    {
     "data": {
      "text/plain": [
       "{'b': [10, 20, 30, 40],\n",
       " 'a': [10, 20, 30, 40],\n",
       " 'd': [10, 20, 30, 40],\n",
       " 'c': [10, 20, 30, 40]}"
      ]
     },
     "execution_count": 7,
     "metadata": {},
     "output_type": "execute_result"
    }
   ],
   "source": [
    "values = [10, 20, 30, 40]\n",
    "dic1 = dict.fromkeys(keys, values)\n",
    "dic1"
   ]
  },
  {
   "cell_type": "code",
   "execution_count": 8,
   "id": "cdb64e00",
   "metadata": {},
   "outputs": [],
   "source": [
    "values.append(50)"
   ]
  },
  {
   "cell_type": "code",
   "execution_count": 16,
   "id": "34d90e2b",
   "metadata": {},
   "outputs": [
    {
     "data": {
      "text/plain": [
       "{'b': [10, 20, 30, 40, 50],\n",
       " 'd': [10, 20, 30, 40, 50],\n",
       " 'c': [10, 20, 30, 40, 50],\n",
       " 'a': [10, 20, 30, 40, 50]}"
      ]
     },
     "execution_count": 16,
     "metadata": {},
     "output_type": "execute_result"
    }
   ],
   "source": [
    "dic1"
   ]
  },
  {
   "cell_type": "code",
   "execution_count": 18,
   "id": "4c82b654",
   "metadata": {},
   "outputs": [
    {
     "data": {
      "text/plain": [
       "dict_keys(['b', 'd', 'c', 'a'])"
      ]
     },
     "execution_count": 18,
     "metadata": {},
     "output_type": "execute_result"
    }
   ],
   "source": [
    "#aceesing the keys of the dictionary\n",
    "dic1.keys()"
   ]
  },
  {
   "cell_type": "code",
   "execution_count": 19,
   "id": "5bad3888",
   "metadata": {},
   "outputs": [
    {
     "data": {
      "text/plain": [
       "dict_values([[10, 20, 30, 40, 50], [10, 20, 30, 40, 50], [10, 20, 30, 40, 50], [10, 20, 30, 40, 50]])"
      ]
     },
     "execution_count": 19,
     "metadata": {},
     "output_type": "execute_result"
    }
   ],
   "source": [
    "#accesing the values of dictionary\n",
    "dic1.values()"
   ]
  },
  {
   "cell_type": "code",
   "execution_count": 20,
   "id": "0d0cc82b",
   "metadata": {},
   "outputs": [
    {
     "data": {
      "text/plain": [
       "dict_items([('b', [10, 20, 30, 40, 50]), ('d', [10, 20, 30, 40, 50]), ('c', [10, 20, 30, 40, 50]), ('a', [10, 20, 30, 40, 50])])"
      ]
     },
     "execution_count": 20,
     "metadata": {},
     "output_type": "execute_result"
    }
   ],
   "source": [
    "#Accessing the key, value pair in the dictionary\n",
    "dic1.items()"
   ]
  },
  {
   "cell_type": "markdown",
   "id": "2965ba96",
   "metadata": {},
   "source": [
    "# Accessing items"
   ]
  },
  {
   "cell_type": "code",
   "execution_count": 21,
   "id": "af9d9c2b",
   "metadata": {},
   "outputs": [
    {
     "data": {
      "text/plain": [
       "[10, 20, 30, 40, 50]"
      ]
     },
     "execution_count": 21,
     "metadata": {},
     "output_type": "execute_result"
    }
   ],
   "source": [
    "dic1['d'] #Accesing item using key"
   ]
  },
  {
   "cell_type": "code",
   "execution_count": 24,
   "id": "3b12d92d",
   "metadata": {},
   "outputs": [
    {
     "data": {
      "text/plain": [
       "[10, 20, 30, 40, 50]"
      ]
     },
     "execution_count": 24,
     "metadata": {},
     "output_type": "execute_result"
    }
   ],
   "source": [
    "dic1.get(\"b\") #Accessing item using get() method"
   ]
  },
  {
   "cell_type": "code",
   "execution_count": 25,
   "id": "065c8edb",
   "metadata": {},
   "outputs": [
    {
     "data": {
      "text/plain": [
       "{1: 'Ayesha',\n",
       " 2: 'Aimen',\n",
       " 3: {'Name': 'Amna', 'Age': 25, 'City': 'Lahore', 'status': 'Engaged'},\n",
       " 4: ['Aliya', 'Maham', 'Mahak', 'Maryam'],\n",
       " 5: ('Arooba', 'Lahore', 32, 'married')}"
      ]
     },
     "execution_count": 25,
     "metadata": {},
     "output_type": "execute_result"
    }
   ],
   "source": [
    "#can stored multiple values as list or tuple in the dictionaries against one unique key\n",
    "mydict = dict({1:'Ayesha', 2:'Aimen', 3:{'Name':'Amna', 'Age':25, 'City':'Lahore', \"status\":'Engaged'}, 4:['Aliya', 'Maham', 'Mahak', 'Maryam'], 5:('Arooba', 'Lahore', 32, \"married\")})\n",
    "mydict"
   ]
  },
  {
   "cell_type": "code",
   "execution_count": 27,
   "id": "a75e7bfe",
   "metadata": {},
   "outputs": [
    {
     "data": {
      "text/plain": [
       "'Amna'"
      ]
     },
     "execution_count": 27,
     "metadata": {},
     "output_type": "execute_result"
    }
   ],
   "source": [
    "mydict[3]['Name'] #getting items from nested dictionary"
   ]
  },
  {
   "cell_type": "code",
   "execution_count": 28,
   "id": "f21e2b18",
   "metadata": {},
   "outputs": [
    {
     "data": {
      "text/plain": [
       "25"
      ]
     },
     "execution_count": 28,
     "metadata": {},
     "output_type": "execute_result"
    }
   ],
   "source": [
    "mydict[3]['Age']"
   ]
  },
  {
   "cell_type": "code",
   "execution_count": 31,
   "id": "1adfcd82",
   "metadata": {},
   "outputs": [
    {
     "data": {
      "text/plain": [
       "'Lahore'"
      ]
     },
     "execution_count": 31,
     "metadata": {},
     "output_type": "execute_result"
    }
   ],
   "source": [
    "mydict.get(3)['City'] #getting items from nested dictionary by using get() method"
   ]
  },
  {
   "cell_type": "code",
   "execution_count": 32,
   "id": "8b6d71d1",
   "metadata": {},
   "outputs": [
    {
     "data": {
      "text/plain": [
       "'Engaged'"
      ]
     },
     "execution_count": 32,
     "metadata": {},
     "output_type": "execute_result"
    }
   ],
   "source": [
    "mydict.get(3)['status']"
   ]
  },
  {
   "cell_type": "markdown",
   "id": "749eea16",
   "metadata": {},
   "source": [
    "# Add remove or change items in the dictionary "
   ]
  },
  {
   "cell_type": "code",
   "execution_count": 2,
   "id": "24756edb",
   "metadata": {},
   "outputs": [
    {
     "data": {
      "text/plain": [
       "{1: 'Ayesha',\n",
       " 2: 'Aimen',\n",
       " 3: {'Name': 'Amna', 'Age': 25, 'City': 'Lahore', 'status': 'Engaged'},\n",
       " 4: ['Aliya', 'Maham', 'Mahak', 'Maryam'],\n",
       " 5: ('Arooba', 'Lahore', 32, 'married')}"
      ]
     },
     "execution_count": 2,
     "metadata": {},
     "output_type": "execute_result"
    }
   ],
   "source": [
    "#can stored multiple values as list or tuple in the dictionaries against one unique key\n",
    "mydict = dict({1:'Ayesha', 2:'Aimen', 3:{'Name':'Amna', 'Age':25, 'City':'Lahore', \"status\":'Engaged'}, 4:['Aliya', 'Maham', 'Mahak', 'Maryam'], 5:('Arooba', 'Lahore', 32, \"married\")})\n",
    "mydict"
   ]
  },
  {
   "cell_type": "code",
   "execution_count": 3,
   "id": "c4ac354c",
   "metadata": {},
   "outputs": [
    {
     "data": {
      "text/plain": [
       "{1: 'Ayesha',\n",
       " 2: 'Aimen',\n",
       " 3: {'Name': 'Amna', 'Age': 25, 'City': 'Lahore', 'status': 'Engaged'},\n",
       " 4: ['Aliya', 'Maham', 'Mahak', 'Maryam'],\n",
       " 5: ('Arooba', 'Lahore', 32, 'married'),\n",
       " 'f': ('Apple', 'Mango', 'Banana', 'Plum')}"
      ]
     },
     "execution_count": 3,
     "metadata": {},
     "output_type": "execute_result"
    }
   ],
   "source": [
    "#Adding new key value in the mydict\n",
    "mydict[\"f\"] = (\"Apple\", \"Mango\", \"Banana\", \"Plum\")\n",
    "mydict"
   ]
  },
  {
   "cell_type": "code",
   "execution_count": 4,
   "id": "5d1caf21",
   "metadata": {},
   "outputs": [],
   "source": [
    "#swapping the values\n",
    "mydict[1], mydict[2] = mydict[2], mydict[1]"
   ]
  },
  {
   "cell_type": "code",
   "execution_count": 5,
   "id": "45c7e324",
   "metadata": {},
   "outputs": [
    {
     "data": {
      "text/plain": [
       "{1: 'Aimen',\n",
       " 2: 'Ayesha',\n",
       " 3: {'Name': 'Amna', 'Age': 25, 'City': 'Lahore', 'status': 'Engaged'},\n",
       " 4: ['Aliya', 'Maham', 'Mahak', 'Maryam'],\n",
       " 5: ('Arooba', 'Lahore', 32, 'married'),\n",
       " 'f': ('Apple', 'Mango', 'Banana', 'Plum')}"
      ]
     },
     "execution_count": 5,
     "metadata": {},
     "output_type": "execute_result"
    }
   ],
   "source": [
    "mydict"
   ]
  },
  {
   "cell_type": "code",
   "execution_count": 10,
   "id": "b26d7ede",
   "metadata": {},
   "outputs": [
    {
     "data": {
      "text/plain": [
       "{'b': None, 'a': None, 'd': None, 'c': None}"
      ]
     },
     "execution_count": 10,
     "metadata": {},
     "output_type": "execute_result"
    }
   ],
   "source": [
    "keys = {'a', 'b', 'c', 'd'}\n",
    "dict1 = dict.fromkeys(keys)\n",
    "dict1"
   ]
  },
  {
   "cell_type": "code",
   "execution_count": 11,
   "id": "f648af74",
   "metadata": {},
   "outputs": [
    {
     "data": {
      "text/plain": [
       "{'b': [10, 20, 30, 40],\n",
       " 'a': [10, 20, 30, 40],\n",
       " 'd': [10, 20, 30, 40],\n",
       " 'c': [10, 20, 30, 40]}"
      ]
     },
     "execution_count": 11,
     "metadata": {},
     "output_type": "execute_result"
    }
   ],
   "source": [
    "values = [10, 20, 30, 40]\n",
    "dict1 = dict.fromkeys(keys, values)\n",
    "dict1"
   ]
  },
  {
   "cell_type": "code",
   "execution_count": 12,
   "id": "861e3a45",
   "metadata": {},
   "outputs": [],
   "source": [
    "##Adding new dictionary to mydict by using update method\n",
    "mydict.update(dict1)"
   ]
  },
  {
   "cell_type": "code",
   "execution_count": 13,
   "id": "ecad6fd1",
   "metadata": {
    "scrolled": true
   },
   "outputs": [
    {
     "data": {
      "text/plain": [
       "{1: 'Aimen',\n",
       " 2: 'Ayesha',\n",
       " 3: {'Name': 'Amna', 'Age': 25, 'City': 'Lahore', 'status': 'Engaged'},\n",
       " 4: ['Aliya', 'Maham', 'Mahak', 'Maryam'],\n",
       " 5: ('Arooba', 'Lahore', 32, 'married'),\n",
       " 'f': ('Apple', 'Mango', 'Banana', 'Plum'),\n",
       " 'b': [10, 20, 30, 40],\n",
       " 'a': [10, 20, 30, 40],\n",
       " 'd': [10, 20, 30, 40],\n",
       " 'c': [10, 20, 30, 40]}"
      ]
     },
     "execution_count": 13,
     "metadata": {},
     "output_type": "execute_result"
    }
   ],
   "source": [
    "mydict"
   ]
  },
  {
   "cell_type": "code",
   "execution_count": 14,
   "id": "77a76314",
   "metadata": {},
   "outputs": [
    {
     "data": {
      "text/plain": [
       "[10, 20, 30, 40]"
      ]
     },
     "execution_count": 14,
     "metadata": {},
     "output_type": "execute_result"
    }
   ],
   "source": [
    "#Removing specific value from the dictionary using pop method\n",
    "mydict.pop(\"b\")"
   ]
  },
  {
   "cell_type": "code",
   "execution_count": 15,
   "id": "3e05e017",
   "metadata": {},
   "outputs": [
    {
     "data": {
      "text/plain": [
       "{1: 'Aimen',\n",
       " 2: 'Ayesha',\n",
       " 3: {'Name': 'Amna', 'Age': 25, 'City': 'Lahore', 'status': 'Engaged'},\n",
       " 4: ['Aliya', 'Maham', 'Mahak', 'Maryam'],\n",
       " 5: ('Arooba', 'Lahore', 32, 'married'),\n",
       " 'f': ('Apple', 'Mango', 'Banana', 'Plum'),\n",
       " 'a': [10, 20, 30, 40],\n",
       " 'd': [10, 20, 30, 40],\n",
       " 'c': [10, 20, 30, 40]}"
      ]
     },
     "execution_count": 15,
     "metadata": {},
     "output_type": "execute_result"
    }
   ],
   "source": [
    "mydict"
   ]
  },
  {
   "cell_type": "code",
   "execution_count": 16,
   "id": "96ea2f32",
   "metadata": {},
   "outputs": [
    {
     "data": {
      "text/plain": [
       "('c', [10, 20, 30, 40])"
      ]
     },
     "execution_count": 16,
     "metadata": {},
     "output_type": "execute_result"
    }
   ],
   "source": [
    "#using popitem randomly removes any item from the dictionary \n",
    "mydict.popitem()"
   ]
  },
  {
   "cell_type": "code",
   "execution_count": 17,
   "id": "3a4f702e",
   "metadata": {},
   "outputs": [
    {
     "data": {
      "text/plain": [
       "{1: 'Aimen',\n",
       " 2: 'Ayesha',\n",
       " 3: {'Name': 'Amna', 'Age': 25, 'City': 'Lahore', 'status': 'Engaged'},\n",
       " 4: ['Aliya', 'Maham', 'Mahak', 'Maryam'],\n",
       " 5: ('Arooba', 'Lahore', 32, 'married'),\n",
       " 'f': ('Apple', 'Mango', 'Banana', 'Plum'),\n",
       " 'a': [10, 20, 30, 40],\n",
       " 'd': [10, 20, 30, 40]}"
      ]
     },
     "execution_count": 17,
     "metadata": {},
     "output_type": "execute_result"
    }
   ],
   "source": [
    "mydict"
   ]
  },
  {
   "cell_type": "code",
   "execution_count": 18,
   "id": "855934fd",
   "metadata": {},
   "outputs": [],
   "source": [
    "#using del method to remove item\n",
    "del mydict['a']"
   ]
  },
  {
   "cell_type": "code",
   "execution_count": 19,
   "id": "9a51b0a6",
   "metadata": {},
   "outputs": [
    {
     "data": {
      "text/plain": [
       "{1: 'Aimen',\n",
       " 2: 'Ayesha',\n",
       " 3: {'Name': 'Amna', 'Age': 25, 'City': 'Lahore', 'status': 'Engaged'},\n",
       " 4: ['Aliya', 'Maham', 'Mahak', 'Maryam'],\n",
       " 5: ('Arooba', 'Lahore', 32, 'married'),\n",
       " 'f': ('Apple', 'Mango', 'Banana', 'Plum'),\n",
       " 'd': [10, 20, 30, 40]}"
      ]
     },
     "execution_count": 19,
     "metadata": {},
     "output_type": "execute_result"
    }
   ],
   "source": [
    "mydict"
   ]
  },
  {
   "cell_type": "code",
   "execution_count": 20,
   "id": "ba51ebba",
   "metadata": {},
   "outputs": [],
   "source": [
    "del mydict['d']"
   ]
  },
  {
   "cell_type": "code",
   "execution_count": 21,
   "id": "bf68c60d",
   "metadata": {},
   "outputs": [
    {
     "data": {
      "text/plain": [
       "{1: 'Aimen',\n",
       " 2: 'Ayesha',\n",
       " 3: {'Name': 'Amna', 'Age': 25, 'City': 'Lahore', 'status': 'Engaged'},\n",
       " 4: ['Aliya', 'Maham', 'Mahak', 'Maryam'],\n",
       " 5: ('Arooba', 'Lahore', 32, 'married'),\n",
       " 'f': ('Apple', 'Mango', 'Banana', 'Plum')}"
      ]
     },
     "execution_count": 21,
     "metadata": {},
     "output_type": "execute_result"
    }
   ],
   "source": [
    "mydict"
   ]
  },
  {
   "cell_type": "code",
   "execution_count": 22,
   "id": "6791466f",
   "metadata": {},
   "outputs": [],
   "source": [
    "#removes all items by using clear() function\n",
    "mydict.clear()"
   ]
  },
  {
   "cell_type": "code",
   "execution_count": 23,
   "id": "a610dc76",
   "metadata": {},
   "outputs": [
    {
     "data": {
      "text/plain": [
       "{}"
      ]
     },
     "execution_count": 23,
     "metadata": {},
     "output_type": "execute_result"
    }
   ],
   "source": [
    "mydict"
   ]
  },
  {
   "cell_type": "code",
   "execution_count": 24,
   "id": "5e64c668",
   "metadata": {},
   "outputs": [],
   "source": [
    "#now we have blank dictionary \n",
    "#so delete the instance of the dictionary by using del method \n",
    "del mydict"
   ]
  },
  {
   "cell_type": "code",
   "execution_count": 25,
   "id": "1a824167",
   "metadata": {},
   "outputs": [
    {
     "ename": "NameError",
     "evalue": "name 'mydict' is not defined",
     "output_type": "error",
     "traceback": [
      "\u001b[1;31m---------------------------------------------------------------------------\u001b[0m",
      "\u001b[1;31mNameError\u001b[0m                                 Traceback (most recent call last)",
      "\u001b[1;32m~\\AppData\\Local\\Temp\\ipykernel_12428\\3472834284.py\u001b[0m in \u001b[0;36m<module>\u001b[1;34m\u001b[0m\n\u001b[1;32m----> 1\u001b[1;33m \u001b[0mmydict\u001b[0m\u001b[1;33m\u001b[0m\u001b[1;33m\u001b[0m\u001b[0m\n\u001b[0m",
      "\u001b[1;31mNameError\u001b[0m: name 'mydict' is not defined"
     ]
    }
   ],
   "source": [
    "mydict"
   ]
  },
  {
   "cell_type": "markdown",
   "id": "b3c41357",
   "metadata": {},
   "source": [
    "# Copy\n"
   ]
  },
  {
   "cell_type": "code",
   "execution_count": 27,
   "id": "4882ee59",
   "metadata": {},
   "outputs": [
    {
     "data": {
      "text/plain": [
       "{1: 'Ayesha',\n",
       " 2: 'Aimen',\n",
       " 3: {'Name': 'Amna', 'Age': 25, 'City': 'Lahore', 'status': 'Engaged'},\n",
       " 4: ['Aliya', 'Maham', 'Mahak', 'Maryam'],\n",
       " 5: ('Arooba', 'Lahore', 32, 'married')}"
      ]
     },
     "execution_count": 27,
     "metadata": {},
     "output_type": "execute_result"
    }
   ],
   "source": [
    "#can stored multiple values as list or tuple in the dictionaries against one unique key\n",
    "mydict = dict({1:'Ayesha', 2:'Aimen', 3:{'Name':'Amna', 'Age':25, 'City':'Lahore', \"status\":'Engaged'}, 4:['Aliya', 'Maham', 'Mahak', 'Maryam'], 5:('Arooba', 'Lahore', 32, \"married\")})\n",
    "mydict"
   ]
  },
  {
   "cell_type": "code",
   "execution_count": 29,
   "id": "fd978c55",
   "metadata": {},
   "outputs": [],
   "source": [
    "new_dict = mydict"
   ]
  },
  {
   "cell_type": "code",
   "execution_count": 30,
   "id": "9e14ccd0",
   "metadata": {},
   "outputs": [
    {
     "data": {
      "text/plain": [
       "{1: 'Ayesha',\n",
       " 2: 'Aimen',\n",
       " 3: {'Name': 'Amna', 'Age': 25, 'City': 'Lahore', 'status': 'Engaged'},\n",
       " 4: ['Aliya', 'Maham', 'Mahak', 'Maryam'],\n",
       " 5: ('Arooba', 'Lahore', 32, 'married')}"
      ]
     },
     "execution_count": 30,
     "metadata": {},
     "output_type": "execute_result"
    }
   ],
   "source": [
    "new_dict"
   ]
  },
  {
   "cell_type": "code",
   "execution_count": 31,
   "id": "3ba9a5e5",
   "metadata": {},
   "outputs": [
    {
     "data": {
      "text/plain": [
       "(2043866942208, 2043866942208)"
      ]
     },
     "execution_count": 31,
     "metadata": {},
     "output_type": "execute_result"
    }
   ],
   "source": [
    "id(mydict), id(new_dict)"
   ]
  },
  {
   "cell_type": "code",
   "execution_count": 32,
   "id": "7f944141",
   "metadata": {},
   "outputs": [],
   "source": [
    "new_dict[1], new_dict[2] = new_dict[2], new_dict[1]"
   ]
  },
  {
   "cell_type": "code",
   "execution_count": 33,
   "id": "02978654",
   "metadata": {},
   "outputs": [
    {
     "data": {
      "text/plain": [
       "{1: 'Aimen',\n",
       " 2: 'Ayesha',\n",
       " 3: {'Name': 'Amna', 'Age': 25, 'City': 'Lahore', 'status': 'Engaged'},\n",
       " 4: ['Aliya', 'Maham', 'Mahak', 'Maryam'],\n",
       " 5: ('Arooba', 'Lahore', 32, 'married')}"
      ]
     },
     "execution_count": 33,
     "metadata": {},
     "output_type": "execute_result"
    }
   ],
   "source": [
    "new_dict"
   ]
  },
  {
   "cell_type": "code",
   "execution_count": 34,
   "id": "db677095",
   "metadata": {},
   "outputs": [
    {
     "data": {
      "text/plain": [
       "{1: 'Aimen',\n",
       " 2: 'Ayesha',\n",
       " 3: {'Name': 'Amna', 'Age': 25, 'City': 'Lahore', 'status': 'Engaged'},\n",
       " 4: ['Aliya', 'Maham', 'Mahak', 'Maryam'],\n",
       " 5: ('Arooba', 'Lahore', 32, 'married')}"
      ]
     },
     "execution_count": 34,
     "metadata": {},
     "output_type": "execute_result"
    }
   ],
   "source": [
    "mydict"
   ]
  },
  {
   "cell_type": "markdown",
   "id": "069916e2",
   "metadata": {},
   "source": [
    "#### change occurs in both while we only swap the values in the new_dict"
   ]
  },
  {
   "cell_type": "code",
   "execution_count": 36,
   "id": "928916bd",
   "metadata": {},
   "outputs": [
    {
     "name": "stdout",
     "output_type": "stream",
     "text": [
      "{1: 'Aimen', 2: 'Ayesha', 3: {'Name': 'Amna', 'Age': 25, 'City': 'Lahore', 'status': 'Engaged'}, 4: ['Aliya', 'Maham', 'Mahak', 'Maryam'], 5: ('Arooba', 'Lahore', 32, 'married')}\n",
      "2043866946432\n",
      "{1: 'Aimen', 2: 'Ayesha', 3: {'Name': 'Amna', 'Age': 25, 'City': 'Lahore', 'status': 'Engaged'}, 4: ['Aliya', 'Maham', 'Mahak', 'Maryam'], 5: ('Arooba', 'Lahore', 32, 'married')}\n",
      "2043866942208\n"
     ]
    }
   ],
   "source": [
    "cdict = mydict.copy()\n",
    "print(cdict)\n",
    "print(id(cdict))\n",
    "print(mydict)\n",
    "print(id(mydict))"
   ]
  },
  {
   "cell_type": "code",
   "execution_count": 37,
   "id": "e07415fe",
   "metadata": {},
   "outputs": [],
   "source": [
    "cdict.update({1:{'Name': 'Aimen', 'Age':26, 'Education':'Gruated', 'City':'Lahore'}})"
   ]
  },
  {
   "cell_type": "code",
   "execution_count": 38,
   "id": "578f63e8",
   "metadata": {
    "scrolled": true
   },
   "outputs": [
    {
     "name": "stdout",
     "output_type": "stream",
     "text": [
      "{1: {'Name': 'Aimen', 'Age': 26, 'Education': 'Gruated', 'City': 'Lahore'}, 2: 'Ayesha', 3: {'Name': 'Amna', 'Age': 25, 'City': 'Lahore', 'status': 'Engaged'}, 4: ['Aliya', 'Maham', 'Mahak', 'Maryam'], 5: ('Arooba', 'Lahore', 32, 'married')}\n",
      "{1: 'Aimen', 2: 'Ayesha', 3: {'Name': 'Amna', 'Age': 25, 'City': 'Lahore', 'status': 'Engaged'}, 4: ['Aliya', 'Maham', 'Mahak', 'Maryam'], 5: ('Arooba', 'Lahore', 32, 'married')}\n"
     ]
    }
   ],
   "source": [
    "print(cdict)\n",
    "print(mydict)"
   ]
  },
  {
   "cell_type": "markdown",
   "id": "f96373cf",
   "metadata": {},
   "source": [
    "## Loop through a dictionary"
   ]
  },
  {
   "cell_type": "code",
   "execution_count": 41,
   "id": "689288fa",
   "metadata": {},
   "outputs": [
    {
     "name": "stdout",
     "output_type": "stream",
     "text": [
      "1 : {'Name': 'Aimen', 'Age': 26, 'Education': 'Gruated', 'City': 'Lahore'}\n",
      "2 : Ayesha\n",
      "3 : {'Name': 'Amna', 'Age': 25, 'City': 'Lahore', 'status': 'Engaged'}\n",
      "4 : ['Aliya', 'Maham', 'Mahak', 'Maryam']\n",
      "5 : ('Arooba', 'Lahore', 32, 'married')\n"
     ]
    }
   ],
   "source": [
    "for i in cdict:\n",
    "    print( i, ':', cdict[i]) #printing both key value pairs"
   ]
  },
  {
   "cell_type": "code",
   "execution_count": 42,
   "id": "790c7baf",
   "metadata": {},
   "outputs": [
    {
     "name": "stdout",
     "output_type": "stream",
     "text": [
      "(0, 1)\n",
      "(1, 2)\n",
      "(2, 3)\n",
      "(3, 4)\n",
      "(4, 5)\n"
     ]
    }
   ],
   "source": [
    "for i in enumerate(cdict):\n",
    "    print(i)"
   ]
  },
  {
   "cell_type": "code",
   "execution_count": 46,
   "id": "20b836c7",
   "metadata": {},
   "outputs": [
    {
     "name": "stdout",
     "output_type": "stream",
     "text": [
      "{'Name': 'Aimen', 'Age': 26, 'Education': 'Gruated', 'City': 'Lahore'}\n",
      "Ayesha\n",
      "{'Name': 'Amna', 'Age': 25, 'City': 'Lahore', 'status': 'Engaged'}\n",
      "['Aliya', 'Maham', 'Mahak', 'Maryam']\n",
      "('Arooba', 'Lahore', 32, 'married')\n"
     ]
    }
   ],
   "source": [
    "for i in cdict:\n",
    "    print(cdict[i]) #print only values "
   ]
  },
  {
   "cell_type": "code",
   "execution_count": 47,
   "id": "acb70b26",
   "metadata": {
    "scrolled": true
   },
   "outputs": [
    {
     "name": "stdout",
     "output_type": "stream",
     "text": [
      "1\n",
      "{'Name': 'Aimen', 'Age': 26, 'Education': 'Gruated', 'City': 'Lahore'}\n",
      "2\n",
      "Ayesha\n",
      "3\n",
      "{'Name': 'Amna', 'Age': 25, 'City': 'Lahore', 'status': 'Engaged'}\n",
      "4\n",
      "['Aliya', 'Maham', 'Mahak', 'Maryam']\n",
      "5\n",
      "('Arooba', 'Lahore', 32, 'married')\n"
     ]
    }
   ],
   "source": [
    "for key, value in cdict.items():\n",
    "    print(key)\n",
    "    print(value)"
   ]
  },
  {
   "cell_type": "markdown",
   "id": "92d553af",
   "metadata": {},
   "source": [
    "# membership in dictionary"
   ]
  },
  {
   "cell_type": "code",
   "execution_count": 48,
   "id": "9e697819",
   "metadata": {},
   "outputs": [
    {
     "data": {
      "text/plain": [
       "True"
      ]
     },
     "execution_count": 48,
     "metadata": {},
     "output_type": "execute_result"
    }
   ],
   "source": [
    "#membership function can only be done on the basis of keys in the dictionary \n",
    "1 in cdict"
   ]
  },
  {
   "cell_type": "code",
   "execution_count": 49,
   "id": "356836a5",
   "metadata": {},
   "outputs": [
    {
     "data": {
      "text/plain": [
       "False"
      ]
     },
     "execution_count": 49,
     "metadata": {},
     "output_type": "execute_result"
    }
   ],
   "source": [
    "'f' in cdict"
   ]
  },
  {
   "cell_type": "code",
   "execution_count": 50,
   "id": "8a89d55b",
   "metadata": {},
   "outputs": [
    {
     "data": {
      "text/plain": [
       "False"
      ]
     },
     "execution_count": 50,
     "metadata": {},
     "output_type": "execute_result"
    }
   ],
   "source": [
    "#if i pass a value \n",
    "'Ayesha' in cdict"
   ]
  },
  {
   "cell_type": "code",
   "execution_count": 51,
   "id": "b8f951ab",
   "metadata": {},
   "outputs": [
    {
     "data": {
      "text/plain": [
       "True"
      ]
     },
     "execution_count": 51,
     "metadata": {},
     "output_type": "execute_result"
    }
   ],
   "source": [
    "5 in cdict"
   ]
  },
  {
   "cell_type": "markdown",
   "id": "dea11a8d",
   "metadata": {},
   "source": [
    "# All() and Any() function\n",
    "     The all() method returns:\n",
    "     True - If all all keys of the dictionary are true\n",
    "     False - If any key of the dictionary is false\n",
    "     The any() function returns True if any key of the dictionary is True. If not, any() returns False."
   ]
  },
  {
   "cell_type": "code",
   "execution_count": 52,
   "id": "6c96a27f",
   "metadata": {},
   "outputs": [
    {
     "data": {
      "text/plain": [
       "True"
      ]
     },
     "execution_count": 52,
     "metadata": {},
     "output_type": "execute_result"
    }
   ],
   "source": [
    "all(cdict)"
   ]
  },
  {
   "cell_type": "code",
   "execution_count": 53,
   "id": "3d94313e",
   "metadata": {},
   "outputs": [],
   "source": [
    "cdict.update({0:'Fatima'})"
   ]
  },
  {
   "cell_type": "code",
   "execution_count": 54,
   "id": "0a8c1dcd",
   "metadata": {},
   "outputs": [
    {
     "data": {
      "text/plain": [
       "{1: {'Name': 'Aimen', 'Age': 26, 'Education': 'Gruated', 'City': 'Lahore'},\n",
       " 2: 'Ayesha',\n",
       " 3: {'Name': 'Amna', 'Age': 25, 'City': 'Lahore', 'status': 'Engaged'},\n",
       " 4: ['Aliya', 'Maham', 'Mahak', 'Maryam'],\n",
       " 5: ('Arooba', 'Lahore', 32, 'married'),\n",
       " 0: 'Fatima'}"
      ]
     },
     "execution_count": 54,
     "metadata": {},
     "output_type": "execute_result"
    }
   ],
   "source": [
    "cdict"
   ]
  },
  {
   "cell_type": "code",
   "execution_count": 55,
   "id": "00293932",
   "metadata": {},
   "outputs": [
    {
     "data": {
      "text/plain": [
       "False"
      ]
     },
     "execution_count": 55,
     "metadata": {},
     "output_type": "execute_result"
    }
   ],
   "source": [
    "all(cdict)"
   ]
  },
  {
   "cell_type": "code",
   "execution_count": 56,
   "id": "561321f7",
   "metadata": {},
   "outputs": [
    {
     "data": {
      "text/plain": [
       "True"
      ]
     },
     "execution_count": 56,
     "metadata": {},
     "output_type": "execute_result"
    }
   ],
   "source": [
    "any(cdict)"
   ]
  },
  {
   "cell_type": "markdown",
   "id": "c3332fa4",
   "metadata": {},
   "source": [
    "# Dictionary Comprehension"
   ]
  },
  {
   "cell_type": "code",
   "execution_count": 58,
   "id": "0b43ceac",
   "metadata": {},
   "outputs": [],
   "source": [
    "double = {i:i*2 for i in range(10)} #double each key using dictionary comprehension"
   ]
  },
  {
   "cell_type": "code",
   "execution_count": 59,
   "id": "649595cf",
   "metadata": {},
   "outputs": [
    {
     "data": {
      "text/plain": [
       "{0: 0, 1: 2, 2: 4, 3: 6, 4: 8, 5: 10, 6: 12, 7: 14, 8: 16, 9: 18}"
      ]
     },
     "execution_count": 59,
     "metadata": {},
     "output_type": "execute_result"
    }
   ],
   "source": [
    "double"
   ]
  },
  {
   "cell_type": "code",
   "execution_count": 60,
   "id": "864c3492",
   "metadata": {},
   "outputs": [
    {
     "data": {
      "text/plain": [
       "{0: 0,\n",
       " 1: 1,\n",
       " 2: 4,\n",
       " 3: 9,\n",
       " 4: 16,\n",
       " 5: 25,\n",
       " 6: 36,\n",
       " 7: 49,\n",
       " 8: 64,\n",
       " 9: 81,\n",
       " 10: 100,\n",
       " 11: 121,\n",
       " 12: 144,\n",
       " 13: 169,\n",
       " 14: 196,\n",
       " 15: 225,\n",
       " 16: 256,\n",
       " 17: 289,\n",
       " 18: 324,\n",
       " 19: 361,\n",
       " 20: 400,\n",
       " 21: 441,\n",
       " 22: 484,\n",
       " 23: 529,\n",
       " 24: 576,\n",
       " 25: 625,\n",
       " 26: 676,\n",
       " 27: 729,\n",
       " 28: 784,\n",
       " 29: 841,\n",
       " 30: 900,\n",
       " 31: 961,\n",
       " 32: 1024,\n",
       " 33: 1089,\n",
       " 34: 1156,\n",
       " 35: 1225,\n",
       " 36: 1296,\n",
       " 37: 1369,\n",
       " 38: 1444,\n",
       " 39: 1521}"
      ]
     },
     "execution_count": 60,
     "metadata": {},
     "output_type": "execute_result"
    }
   ],
   "source": [
    "square = {i:i**2 for i in range(40)}\n",
    "square"
   ]
  },
  {
   "cell_type": "code",
   "execution_count": 61,
   "id": "69f2afd5",
   "metadata": {},
   "outputs": [
    {
     "data": {
      "text/plain": [
       "{0: 0, 1: 1, 2: 8, 3: 27, 4: 64, 5: 125, 6: 216, 7: 343, 8: 512, 9: 729}"
      ]
     },
     "execution_count": 61,
     "metadata": {},
     "output_type": "execute_result"
    }
   ],
   "source": [
    "cube = {i:i**3 for i in range(10)}\n",
    "cube"
   ]
  },
  {
   "cell_type": "code",
   "execution_count": 62,
   "id": "4a2875ca",
   "metadata": {},
   "outputs": [],
   "source": [
    "#storing even numbers\n",
    "even = {i:(i%2 == 0) for i in range(30)}"
   ]
  },
  {
   "cell_type": "code",
   "execution_count": 63,
   "id": "c7f5d4a7",
   "metadata": {},
   "outputs": [
    {
     "data": {
      "text/plain": [
       "{0: True,\n",
       " 1: False,\n",
       " 2: True,\n",
       " 3: False,\n",
       " 4: True,\n",
       " 5: False,\n",
       " 6: True,\n",
       " 7: False,\n",
       " 8: True,\n",
       " 9: False,\n",
       " 10: True,\n",
       " 11: False,\n",
       " 12: True,\n",
       " 13: False,\n",
       " 14: True,\n",
       " 15: False,\n",
       " 16: True,\n",
       " 17: False,\n",
       " 18: True,\n",
       " 19: False,\n",
       " 20: True,\n",
       " 21: False,\n",
       " 22: True,\n",
       " 23: False,\n",
       " 24: True,\n",
       " 25: False,\n",
       " 26: True,\n",
       " 27: False,\n",
       " 28: True,\n",
       " 29: False}"
      ]
     },
     "execution_count": 63,
     "metadata": {},
     "output_type": "execute_result"
    }
   ],
   "source": [
    "even"
   ]
  },
  {
   "cell_type": "code",
   "execution_count": 65,
   "id": "695cd6dd",
   "metadata": {},
   "outputs": [
    {
     "data": {
      "text/plain": [
       "{1: 'Apple', 2: 'Banana', 3: 'Orange', 4: 'Mango', 5: 'WaterMelon'}"
      ]
     },
     "execution_count": 65,
     "metadata": {},
     "output_type": "execute_result"
    }
   ],
   "source": [
    "#creating the dictionary using the dictionary comprehension\n",
    "keys = (1, 2, 3, 4, 5)\n",
    "values = ('Apple', 'Banana', 'Orange', 'Mango', 'WaterMelon')\n",
    "ds = {k:v for (k,v) in zip(keys, values)}\n",
    "ds"
   ]
  },
  {
   "cell_type": "code",
   "execution_count": 66,
   "id": "3aa9aa1f",
   "metadata": {},
   "outputs": [],
   "source": [
    "#divide all values in the dictionary by 10\n",
    "div = {k:v/10 for (k,v) in square.items()}"
   ]
  },
  {
   "cell_type": "code",
   "execution_count": 67,
   "id": "910d4a79",
   "metadata": {},
   "outputs": [
    {
     "data": {
      "text/plain": [
       "{0: 0.0,\n",
       " 1: 0.1,\n",
       " 2: 0.4,\n",
       " 3: 0.9,\n",
       " 4: 1.6,\n",
       " 5: 2.5,\n",
       " 6: 3.6,\n",
       " 7: 4.9,\n",
       " 8: 6.4,\n",
       " 9: 8.1,\n",
       " 10: 10.0,\n",
       " 11: 12.1,\n",
       " 12: 14.4,\n",
       " 13: 16.9,\n",
       " 14: 19.6,\n",
       " 15: 22.5,\n",
       " 16: 25.6,\n",
       " 17: 28.9,\n",
       " 18: 32.4,\n",
       " 19: 36.1,\n",
       " 20: 40.0,\n",
       " 21: 44.1,\n",
       " 22: 48.4,\n",
       " 23: 52.9,\n",
       " 24: 57.6,\n",
       " 25: 62.5,\n",
       " 26: 67.6,\n",
       " 27: 72.9,\n",
       " 28: 78.4,\n",
       " 29: 84.1,\n",
       " 30: 90.0,\n",
       " 31: 96.1,\n",
       " 32: 102.4,\n",
       " 33: 108.9,\n",
       " 34: 115.6,\n",
       " 35: 122.5,\n",
       " 36: 129.6,\n",
       " 37: 136.9,\n",
       " 38: 144.4,\n",
       " 39: 152.1}"
      ]
     },
     "execution_count": 67,
     "metadata": {},
     "output_type": "execute_result"
    }
   ],
   "source": [
    "div"
   ]
  },
  {
   "cell_type": "code",
   "execution_count": 68,
   "id": "e0bfb301",
   "metadata": {},
   "outputs": [],
   "source": [
    "#now divided by 2 \n",
    "div = {k:v//2 for (k,v) in div.items()}"
   ]
  },
  {
   "cell_type": "code",
   "execution_count": 69,
   "id": "865290dc",
   "metadata": {},
   "outputs": [
    {
     "data": {
      "text/plain": [
       "{0: 0.0,\n",
       " 1: 0.0,\n",
       " 2: 0.0,\n",
       " 3: 0.0,\n",
       " 4: 0.0,\n",
       " 5: 1.0,\n",
       " 6: 1.0,\n",
       " 7: 2.0,\n",
       " 8: 3.0,\n",
       " 9: 4.0,\n",
       " 10: 5.0,\n",
       " 11: 6.0,\n",
       " 12: 7.0,\n",
       " 13: 8.0,\n",
       " 14: 9.0,\n",
       " 15: 11.0,\n",
       " 16: 12.0,\n",
       " 17: 14.0,\n",
       " 18: 16.0,\n",
       " 19: 18.0,\n",
       " 20: 20.0,\n",
       " 21: 22.0,\n",
       " 22: 24.0,\n",
       " 23: 26.0,\n",
       " 24: 28.0,\n",
       " 25: 31.0,\n",
       " 26: 33.0,\n",
       " 27: 36.0,\n",
       " 28: 39.0,\n",
       " 29: 42.0,\n",
       " 30: 45.0,\n",
       " 31: 48.0,\n",
       " 32: 51.0,\n",
       " 33: 54.0,\n",
       " 34: 57.0,\n",
       " 35: 61.0,\n",
       " 36: 64.0,\n",
       " 37: 68.0,\n",
       " 38: 72.0,\n",
       " 39: 76.0}"
      ]
     },
     "execution_count": 69,
     "metadata": {},
     "output_type": "execute_result"
    }
   ],
   "source": [
    "div"
   ]
  },
  {
   "cell_type": "code",
   "execution_count": 76,
   "id": "02390486",
   "metadata": {},
   "outputs": [
    {
     "name": "stdout",
     "output_type": "stream",
     "text": [
      "['Learning', 'is', 'fun', 'with', 'Dr.Arif']\n"
     ]
    },
    {
     "data": {
      "text/plain": [
       "{0: 'Learning', 1: 'is', 2: 'fun', 3: 'with', 4: 'Dr.Arif'}"
      ]
     },
     "execution_count": 76,
     "metadata": {},
     "output_type": "execute_result"
    }
   ],
   "source": [
    "string = \"Learning is fun with Dr.Arif\"\n",
    "string = string.split(\" \")\n",
    "print(string)\n",
    "sdic = {k:v for (k,v) in enumerate(string)}\n",
    "sdic"
   ]
  },
  {
   "cell_type": "code",
   "execution_count": 75,
   "id": "7a25697c",
   "metadata": {},
   "outputs": [
    {
     "data": {
      "text/plain": [
       "{'a': 'A',\n",
       " 'b': 'B',\n",
       " 'c': 'C',\n",
       " 'd': 'D',\n",
       " 'e': 'E',\n",
       " 'f': 'F',\n",
       " 'g': 'G',\n",
       " 'h': 'H',\n",
       " 'i': 'I',\n",
       " 'j': 'J',\n",
       " 'k': 'K',\n",
       " 'l': 'L',\n",
       " 'm': 'M',\n",
       " 'n': 'N',\n",
       " 'o': 'O',\n",
       " 'p': 'P',\n",
       " 'q': 'Q',\n",
       " 'r': 'R',\n",
       " 's': 'S',\n",
       " 't': 'T',\n",
       " 'u': 'U',\n",
       " 'v': 'V',\n",
       " 'w': 'W',\n",
       " 'x': 'X',\n",
       " 'y': 'Y',\n",
       " 'z': 'Z'}"
      ]
     },
     "execution_count": 75,
     "metadata": {},
     "output_type": "execute_result"
    }
   ],
   "source": [
    "s = 'abcdefghijklmnopqrstuvwxyz'\n",
    "upper = {i:(i.upper()) for i in s}\n",
    "upper"
   ]
  },
  {
   "cell_type": "markdown",
   "id": "b1b310bc",
   "metadata": {},
   "source": [
    "# Word frequency using dictionary"
   ]
  },
  {
   "cell_type": "code",
   "execution_count": 82,
   "id": "bcce3ac0",
   "metadata": {},
   "outputs": [],
   "source": [
    "str2 = \"one two one two three one two three four one two three four five one two three four five six one two three four five six sevene eight nine ten\" "
   ]
  },
  {
   "cell_type": "code",
   "execution_count": 83,
   "id": "ac3094de",
   "metadata": {},
   "outputs": [
    {
     "name": "stdout",
     "output_type": "stream",
     "text": [
      "['one', 'two', 'one', 'two', 'three', 'one', 'two', 'three', 'four', 'one', 'two', 'three', 'four', 'five', 'one', 'two', 'three', 'four', 'five', 'six', 'one', 'two', 'three', 'four', 'five', 'six', 'sevene', 'eight', 'nine', 'ten']\n"
     ]
    }
   ],
   "source": [
    "mylist = str2.split()\n",
    "print(mylist)"
   ]
  },
  {
   "cell_type": "code",
   "execution_count": 84,
   "id": "a46139f0",
   "metadata": {},
   "outputs": [
    {
     "name": "stdout",
     "output_type": "stream",
     "text": [
      "{'five', 'eight', 'two', 'sevene', 'one', 'four', 'six', 'nine', 'three', 'ten'}\n"
     ]
    }
   ],
   "source": [
    "mylist = set(mylist) #using set to avoid duplicates values\n",
    "print(mylist)"
   ]
  },
  {
   "cell_type": "code",
   "execution_count": 86,
   "id": "44f0f95a",
   "metadata": {},
   "outputs": [
    {
     "data": {
      "text/plain": [
       "['five',\n",
       " 'eight',\n",
       " 'two',\n",
       " 'sevene',\n",
       " 'one',\n",
       " 'four',\n",
       " 'six',\n",
       " 'nine',\n",
       " 'three',\n",
       " 'ten']"
      ]
     },
     "execution_count": 86,
     "metadata": {},
     "output_type": "execute_result"
    }
   ],
   "source": [
    "mylist = list(mylist)\n",
    "mylist"
   ]
  },
  {
   "cell_type": "code",
   "execution_count": 87,
   "id": "f407d8df",
   "metadata": {},
   "outputs": [
    {
     "name": "stdout",
     "output_type": "stream",
     "text": [
      "{'five': 1, 'eight': 1, 'two': 1, 'sevene': 1, 'one': 1, 'four': 1, 'six': 1, 'nine': 1, 'three': 1, 'ten': 1}\n"
     ]
    }
   ],
   "source": [
    "freq = {}\n",
    "for element in mylist:\n",
    "    if element in freq:\n",
    "        freq[element] += 1\n",
    "    else:\n",
    "        freq[element] = 1\n",
    "print(freq)"
   ]
  },
  {
   "cell_type": "code",
   "execution_count": 88,
   "id": "ddb31f86",
   "metadata": {},
   "outputs": [
    {
     "name": "stdout",
     "output_type": "stream",
     "text": [
      "{'o': 16, 'n': 10, 'e': 25, ' ': 29, 't': 13, 'w': 6, 'h': 6, 'r': 9, 'f': 7, 'u': 4, 'i': 7, 'v': 4, 's': 3, 'x': 2, 'g': 1}\n"
     ]
    }
   ],
   "source": [
    "freq = {}\n",
    "for char in str2:\n",
    "    if char in freq:\n",
    "        freq[char] += 1\n",
    "    else:\n",
    "        freq[char] = 1\n",
    "print(freq)"
   ]
  },
  {
   "cell_type": "code",
   "execution_count": 89,
   "id": "5ce6da1b",
   "metadata": {},
   "outputs": [
    {
     "name": "stdout",
     "output_type": "stream",
     "text": [
      "{'o': 16, 'n': 10, 'e': 25, ' ': 29, 't': 13, 'w': 6, 'h': 6, 'r': 9, 'f': 7, 'u': 4, 'i': 7, 'v': 4, 's': 3, 'x': 2, 'g': 1}\n"
     ]
    }
   ],
   "source": [
    "freq = {}\n",
    "for element in str2:\n",
    "    if element in freq:\n",
    "        freq[element] += 1\n",
    "    else: \n",
    "        freq[element] = 1\n",
    "print(freq)"
   ]
  },
  {
   "cell_type": "code",
   "execution_count": 92,
   "id": "4ef30a2a",
   "metadata": {},
   "outputs": [
    {
     "data": {
      "text/plain": [
       "['one',\n",
       " 'two',\n",
       " 'one',\n",
       " 'two',\n",
       " 'three',\n",
       " 'one',\n",
       " 'two',\n",
       " 'three',\n",
       " 'four',\n",
       " 'one',\n",
       " 'two',\n",
       " 'three',\n",
       " 'four',\n",
       " 'five',\n",
       " 'one',\n",
       " 'two',\n",
       " 'three',\n",
       " 'four',\n",
       " 'five',\n",
       " 'six',\n",
       " 'one',\n",
       " 'two',\n",
       " 'three',\n",
       " 'four',\n",
       " 'five',\n",
       " 'six',\n",
       " 'sevene',\n",
       " 'eight',\n",
       " 'nine',\n",
       " 'ten']"
      ]
     },
     "execution_count": 92,
     "metadata": {},
     "output_type": "execute_result"
    }
   ],
   "source": [
    "str_list = str2.split()\n",
    "str_list"
   ]
  },
  {
   "cell_type": "code",
   "execution_count": 95,
   "id": "b1afc958",
   "metadata": {},
   "outputs": [
    {
     "name": "stdout",
     "output_type": "stream",
     "text": [
      "{'one': 6, 'two': 6, 'three': 5, 'four': 4, 'five': 3, 'six': 2, 'sevene': 1, 'eight': 1, 'nine': 1, 'ten': 1}\n"
     ]
    }
   ],
   "source": [
    "count = {}\n",
    "for element in str_list:\n",
    "    if element in count:\n",
    "        count[element] += 1\n",
    "    else:\n",
    "        count[element] = 1\n",
    "print(count)"
   ]
  },
  {
   "cell_type": "markdown",
   "id": "bd012df0",
   "metadata": {},
   "source": [
    "# Operators\n",
    "    Operators are special symbols in Python which are used to perform operations on variables/values"
   ]
  },
  {
   "cell_type": "markdown",
   "id": "d8e1697b",
   "metadata": {},
   "source": [
    "# Arithmetic operators"
   ]
  },
  {
   "cell_type": "code",
   "execution_count": 96,
   "id": "b88075ab",
   "metadata": {},
   "outputs": [
    {
     "name": "stdout",
     "output_type": "stream",
     "text": [
      "x:  10\n",
      "y:  20\n",
      "Addition of two values:  30\n",
      "Subtraction between two values:  -10\n",
      "Multiplication of two values:  200\n",
      "Division (floor) of two values:  0\n",
      "Modulas:  10\n",
      "square Exponent of the number:  100\n"
     ]
    }
   ],
   "source": [
    "x = 10\n",
    "y = 20\n",
    "\n",
    "print('x: ', x)\n",
    "print('y: ', y)\n",
    "print(\"Addition of two values: \", x+y)\n",
    "print(\"Subtraction between two values: \", x-y)\n",
    "print(\"Multiplication of two values: \", x*y)\n",
    "print(\"Division (floor) of two values: \", x//y)\n",
    "print(\"Modulas: \", x%y)\n",
    "print(\"square Exponent of the number: \", x**2)"
   ]
  },
  {
   "cell_type": "markdown",
   "id": "621f6ca2",
   "metadata": {},
   "source": [
    "# Comparison operators"
   ]
  },
  {
   "cell_type": "code",
   "execution_count": 100,
   "id": "b63034f7",
   "metadata": {},
   "outputs": [
    {
     "name": "stdout",
     "output_type": "stream",
     "text": [
      "x 2\n",
      "y 4\n",
      "Is x greater than y?   False\n",
      "Is x less than y?  True\n",
      "Is x equal to y?  False\n",
      "Is x not equal to y?  True\n",
      "Is x less than or equal to y?  True\n",
      "Is x greater than or equal to ? False\n"
     ]
    }
   ],
   "source": [
    "x = 2\n",
    "y = 4\n",
    "\n",
    "print(\"x\", x)\n",
    "print('y', y)\n",
    "print(\"Is x greater than y?  \", x>y)\n",
    "print(\"Is x less than y? \", x<y)\n",
    "print(\"Is x equal to y? \", x == y)\n",
    "print(\"Is x not equal to y? \",x!=y)\n",
    "print(\"Is x less than or equal to y? \", x<=y)\n",
    "print(\"Is x greater than or equal to ?\", x>=y)"
   ]
  },
  {
   "cell_type": "markdown",
   "id": "88a06dbe",
   "metadata": {},
   "source": [
    "# Logical Operators"
   ]
  },
  {
   "cell_type": "code",
   "execution_count": 101,
   "id": "ded66cd3",
   "metadata": {},
   "outputs": [
    {
     "name": "stdout",
     "output_type": "stream",
     "text": [
      "AND operation:  False\n",
      "OR operation:  True\n",
      "NOT operation:  False\n"
     ]
    }
   ],
   "source": [
    "x = True\n",
    "y = False\n",
    "\n",
    "print(\"AND operation: \", x and y) #true if both values are true\n",
    "print(\"OR operation: \", x or y) #true if either of them is true\n",
    "print(\"NOT operation: \", not x) #true if the operand is false"
   ]
  },
  {
   "cell_type": "markdown",
   "id": "73af32df",
   "metadata": {},
   "source": [
    "# Bitwise Operators\n",
    "    bitwise operators acts on bits and perform bit by bit"
   ]
  },
  {
   "cell_type": "code",
   "execution_count": 102,
   "id": "a7bc1784",
   "metadata": {},
   "outputs": [
    {
     "name": "stdout",
     "output_type": "stream",
     "text": [
      "x:  18\n",
      "y:  6\n",
      "Bitwise AND operation:  2\n",
      "Bitwise OR operation:  22\n",
      "Bitwise XOR operation:  20\n",
      "Bitwise NOT operation:  -19\n",
      "Bitwise right shift:  4\n",
      "Bitwise left shift operation:  72\n"
     ]
    }
   ],
   "source": [
    "x = 18 #binaryform 10010\n",
    "y = 6 #binary form 00110\n",
    "\n",
    "print('x: ', x)\n",
    "print('y: ', y)\n",
    "print(\"Bitwise AND operation: \", x&y)\n",
    "print(\"Bitwise OR operation: \", x|y)\n",
    "print(\"Bitwise XOR operation: \", x^y)\n",
    "print(\"Bitwise NOT operation: \", ~x)\n",
    "print(\"Bitwise right shift: \", x>>2)\n",
    "print(\"Bitwise left shift operation: \", x<<2)"
   ]
  },
  {
   "cell_type": "markdown",
   "id": "25de65cb",
   "metadata": {},
   "source": [
    "# Assignment Operators"
   ]
  },
  {
   "cell_type": "code",
   "execution_count": 3,
   "id": "265aff2e",
   "metadata": {},
   "outputs": [
    {
     "name": "stdout",
     "output_type": "stream",
     "text": [
      "Assigned the variable x with value: 15\n",
      "Adding to x: x+=2:  18\n",
      "Subtract to the x (x -= 2):  16\n",
      "Divide to the x (x /= 2):  8.0\n",
      "Multiplication to the x (x *= 4):  32.0\n",
      "raised to the power of 2 in x (x **= 2):  1024.0\n",
      "floor division to the x (x //=32):  341.0\n",
      "Modulus to x %= 2):  1.0\n",
      "integer of x:  1\n",
      "bitiwse & (x & 2):  0\n",
      "Bitwise Or operator:  2\n",
      "Bitwise XOR operator to the x:  0\n",
      "Bitwise right shift operator to x:  0\n",
      "Bitwise left shift operation to x:  0\n"
     ]
    }
   ],
   "source": [
    "x = 15\n",
    "\n",
    "print(\"Assigned the variable x with value:\", x)\n",
    "\n",
    "#adding in the x\n",
    "x += 3\n",
    "print(\"Adding to x: x+=2: \", x)\n",
    "\n",
    "x -= 2\n",
    "#subtracting in the x\n",
    "print(\"Subtract to the x (x -= 2): \", x)\n",
    "\n",
    "#Dividing to x\n",
    "x /= 2\n",
    "print(\"Divide to the x (x /= 2): \", x)\n",
    "\n",
    "#perform multiplcation to the x\n",
    "x *= 4\n",
    "print(\"Multiplication to the x (x *= 4): \", x)\n",
    "\n",
    "#perform exponnetial to the x\n",
    "x **= 2\n",
    "print(\"raised to the power of 2 in x (x **= 2): \", x)\n",
    "\n",
    "#perform floor division\n",
    "x //= 3\n",
    "print(\"floor division to the x (x //=32): \", x)\n",
    "\n",
    "#perform modulus of x\n",
    "x %= 2\n",
    "print(\"Modulus to x %= 2): \", x)\n",
    "\n",
    "x = int(x)\n",
    "print(\"integer of x: \", int(x))\n",
    "\n",
    "#perform bitwise and operator\n",
    "x &= 2\n",
    "print(\"bitiwse & (x & 2): \", x)\n",
    "\n",
    "#perform bitwise Or\n",
    "x |= 2\n",
    "print(\"Bitwise Or operator: \", x)\n",
    "\n",
    "#perform bitwise xor\n",
    "x ^= 2\n",
    "print(\"Bitwise XOR operator to the x: \", x)\n",
    "\n",
    "#perform bitwise right shift operator\n",
    "x >>= 2\n",
    "print(\"Bitwise right shift operator to x: \", x)\n",
    "\n",
    "#perform bitwise left shift operator\n",
    "x <<= 2\n",
    "print(\"Bitwise left shift operation to x: \", x)"
   ]
  },
  {
   "cell_type": "markdown",
   "id": "8f16c2fb",
   "metadata": {},
   "source": [
    "# Membership operators\n",
    "    Membership operators is used to test whether a value/variable present in the sequence."
   ]
  },
  {
   "cell_type": "code",
   "execution_count": 4,
   "id": "df6198f5",
   "metadata": {},
   "outputs": [
    {
     "name": "stdout",
     "output_type": "stream",
     "text": [
      "University of the Punjab\n"
     ]
    },
    {
     "data": {
      "text/plain": [
       "True"
      ]
     },
     "execution_count": 4,
     "metadata": {},
     "output_type": "execute_result"
    }
   ],
   "source": [
    "st = \"University of the Punjab\"\n",
    "print(st)\n",
    "'University' in st "
   ]
  },
  {
   "cell_type": "code",
   "execution_count": 6,
   "id": "d702e8fe",
   "metadata": {},
   "outputs": [
    {
     "name": "stdout",
     "output_type": "stream",
     "text": [
      "['Ahmed', 'Rizwan', 'Nadeem', 'Ramza', 'Faiq', 'Zain']\n",
      "['Ayesha', 'Amna', 'Atiya', 'Anaya', 'Aliya']\n",
      "Is Aliya exists in section_A?  False\n",
      "Is Ahmed exist in the Section_A?  True\n",
      "Is Atiya exist in the Section_B?  True\n",
      "Is Zain exist in the Section_A?  True\n"
     ]
    }
   ],
   "source": [
    "Section_A = ['Ahmed', 'Rizwan', 'Nadeem', 'Ramza', 'Faiq', 'Zain']\n",
    "Section_B = ['Ayesha', 'Amna', 'Atiya', 'Anaya', 'Aliya']\n",
    "\n",
    "print(Section_A)\n",
    "print(Section_B)\n",
    "print(\"Is Aliya exists in section_A? \", \"Aliya\" in Section_A)\n",
    "print(\"Is Ahmed exist in the Section_A? \", \"Ahmed\" in Section_A)\n",
    "print(\"Is Atiya exist in the Section_B? \", \"Atiya\" in Section_B)\n",
    "print(\"Is Zain exist in the Section_A? \", \"Zain\" in Section_A)"
   ]
  },
  {
   "cell_type": "code",
   "execution_count": null,
   "id": "09fe0c19",
   "metadata": {},
   "outputs": [],
   "source": []
  }
 ],
 "metadata": {
  "kernelspec": {
   "display_name": "Python 3 (ipykernel)",
   "language": "python",
   "name": "python3"
  },
  "language_info": {
   "codemirror_mode": {
    "name": "ipython",
    "version": 3
   },
   "file_extension": ".py",
   "mimetype": "text/x-python",
   "name": "python",
   "nbconvert_exporter": "python",
   "pygments_lexer": "ipython3",
   "version": "3.9.13"
  }
 },
 "nbformat": 4,
 "nbformat_minor": 5
}
