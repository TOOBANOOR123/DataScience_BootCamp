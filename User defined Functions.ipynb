{
 "cells": [
  {
   "cell_type": "code",
   "execution_count": 1,
   "id": "dec0080b",
   "metadata": {},
   "outputs": [
    {
     "name": "stdout",
     "output_type": "stream",
     "text": [
      "x:  10\n"
     ]
    }
   ],
   "source": [
    "def myfunc(x):\n",
    "    print(\"x: \", x)\n",
    "myfunc(10)"
   ]
  },
  {
   "cell_type": "code",
   "execution_count": 2,
   "id": "dd772beb",
   "metadata": {},
   "outputs": [],
   "source": [
    "def print_full_name(first_name, middle_name, last_name):\n",
    "    print(f\"{first_name} {middle_name} {last_name}\")"
   ]
  },
  {
   "cell_type": "code",
   "execution_count": 3,
   "id": "bf4d32ed",
   "metadata": {},
   "outputs": [
    {
     "name": "stdout",
     "output_type": "stream",
     "text": [
      "Tooba Noor Hanif\n"
     ]
    }
   ],
   "source": [
    "print_full_name('Tooba', 'Noor', 'Hanif')"
   ]
  },
  {
   "cell_type": "code",
   "execution_count": 4,
   "id": "13b61963",
   "metadata": {},
   "outputs": [],
   "source": [
    "def square_number(x):\n",
    "    return x**2"
   ]
  },
  {
   "cell_type": "code",
   "execution_count": 5,
   "id": "f0cf8843",
   "metadata": {},
   "outputs": [
    {
     "data": {
      "text/plain": [
       "25"
      ]
     },
     "execution_count": 5,
     "metadata": {},
     "output_type": "execute_result"
    }
   ],
   "source": [
    "square_number(5)"
   ]
  },
  {
   "cell_type": "code",
   "execution_count": 12,
   "id": "49e32b18",
   "metadata": {},
   "outputs": [],
   "source": [
    "def multiply(x, y):\n",
    "    return x*y"
   ]
  },
  {
   "cell_type": "code",
   "execution_count": 13,
   "id": "d5e192a6",
   "metadata": {},
   "outputs": [
    {
     "data": {
      "text/plain": [
       "150"
      ]
     },
     "execution_count": 13,
     "metadata": {},
     "output_type": "execute_result"
    }
   ],
   "source": [
    "multiply(10, 15)"
   ]
  },
  {
   "cell_type": "code",
   "execution_count": 14,
   "id": "06debf27",
   "metadata": {},
   "outputs": [],
   "source": [
    "def remove_spaces(s):\n",
    "    r = s.split()\n",
    "    return r"
   ]
  },
  {
   "cell_type": "code",
   "execution_count": 15,
   "id": "fe03323d",
   "metadata": {},
   "outputs": [
    {
     "data": {
      "text/plain": [
       "['Tooba', 'Noor']"
      ]
     },
     "execution_count": 15,
     "metadata": {},
     "output_type": "execute_result"
    }
   ],
   "source": [
    "remove_spaces(\"Tooba Noor\")"
   ]
  },
  {
   "cell_type": "code",
   "execution_count": 16,
   "id": "aa9cad63",
   "metadata": {},
   "outputs": [],
   "source": [
    "def add_numbers(x, y):\n",
    "    return x+y"
   ]
  },
  {
   "cell_type": "code",
   "execution_count": 17,
   "id": "5c098300",
   "metadata": {},
   "outputs": [
    {
     "data": {
      "text/plain": [
       "30"
      ]
     },
     "execution_count": 17,
     "metadata": {},
     "output_type": "execute_result"
    }
   ],
   "source": [
    "add_numbers(10, 20)"
   ]
  },
  {
   "cell_type": "code",
   "execution_count": 18,
   "id": "0b9abc77",
   "metadata": {},
   "outputs": [],
   "source": [
    "def factorial(num):\n",
    "    if num <= 1:\n",
    "        return 1\n",
    "    else: \n",
    "        return num * factorial(num-1)\n"
   ]
  },
  {
   "cell_type": "code",
   "execution_count": 19,
   "id": "0ed85bc2",
   "metadata": {},
   "outputs": [
    {
     "data": {
      "text/plain": [
       "2"
      ]
     },
     "execution_count": 19,
     "metadata": {},
     "output_type": "execute_result"
    }
   ],
   "source": [
    "factorial(2)"
   ]
  },
  {
   "cell_type": "code",
   "execution_count": 20,
   "id": "8bd820b7",
   "metadata": {},
   "outputs": [
    {
     "data": {
      "text/plain": [
       "6"
      ]
     },
     "execution_count": 20,
     "metadata": {},
     "output_type": "execute_result"
    }
   ],
   "source": [
    "factorial(3)"
   ]
  },
  {
   "cell_type": "code",
   "execution_count": 21,
   "id": "b1cb2049",
   "metadata": {},
   "outputs": [
    {
     "data": {
      "text/plain": [
       "3628800"
      ]
     },
     "execution_count": 21,
     "metadata": {},
     "output_type": "execute_result"
    }
   ],
   "source": [
    "factorial(10)"
   ]
  },
  {
   "cell_type": "code",
   "execution_count": 22,
   "id": "e7983301",
   "metadata": {},
   "outputs": [],
   "source": [
    "def swap_values(a, b):\n",
    "    temp = a\n",
    "    a = b\n",
    "    b = temp\n",
    "    return a, b"
   ]
  },
  {
   "cell_type": "code",
   "execution_count": 23,
   "id": "c950793c",
   "metadata": {},
   "outputs": [
    {
     "data": {
      "text/plain": [
       "(20, 10)"
      ]
     },
     "execution_count": 23,
     "metadata": {},
     "output_type": "execute_result"
    }
   ],
   "source": [
    "swap_values(10, 20)"
   ]
  },
  {
   "cell_type": "code",
   "execution_count": 24,
   "id": "5810b136",
   "metadata": {},
   "outputs": [],
   "source": [
    "def add(num): #set of first n natural numbers\n",
    "    if num <= 1:\n",
    "        return num\n",
    "    else:\n",
    "        return num + add(num-1)"
   ]
  },
  {
   "cell_type": "code",
   "execution_count": 25,
   "id": "642e2292",
   "metadata": {},
   "outputs": [
    {
     "data": {
      "text/plain": [
       "55"
      ]
     },
     "execution_count": 25,
     "metadata": {},
     "output_type": "execute_result"
    }
   ],
   "source": [
    "add(10)"
   ]
  },
  {
   "cell_type": "code",
   "execution_count": 26,
   "id": "c2ab1bd4",
   "metadata": {},
   "outputs": [
    {
     "data": {
      "text/plain": [
       "1"
      ]
     },
     "execution_count": 26,
     "metadata": {},
     "output_type": "execute_result"
    }
   ],
   "source": [
    "add(1)"
   ]
  },
  {
   "cell_type": "code",
   "execution_count": 27,
   "id": "ac07fa4e",
   "metadata": {},
   "outputs": [
    {
     "data": {
      "text/plain": [
       "6"
      ]
     },
     "execution_count": 27,
     "metadata": {},
     "output_type": "execute_result"
    }
   ],
   "source": [
    "add(3)"
   ]
  },
  {
   "cell_type": "code",
   "execution_count": 28,
   "id": "75e4bf59",
   "metadata": {},
   "outputs": [],
   "source": [
    "def fibonacci(num):\n",
    "    if num <= 1:\n",
    "        return num\n",
    "    if num == 2:\n",
    "        return 1\n",
    "    else:\n",
    "        return fibonacci(num-1) + fibonacci(num-2)"
   ]
  },
  {
   "cell_type": "code",
   "execution_count": 29,
   "id": "872f6af0",
   "metadata": {},
   "outputs": [
    {
     "data": {
      "text/plain": [
       "13"
      ]
     },
     "execution_count": 29,
     "metadata": {},
     "output_type": "execute_result"
    }
   ],
   "source": [
    "fibonacci(7)"
   ]
  },
  {
   "cell_type": "code",
   "execution_count": 31,
   "id": "a616f6e5",
   "metadata": {
    "scrolled": true
   },
   "outputs": [
    {
     "name": "stdout",
     "output_type": "stream",
     "text": [
      "How many Fibonacci numbers do u want to generate? 10\n",
      "0\n",
      "1\n",
      "1\n",
      "2\n",
      "3\n",
      "5\n",
      "8\n",
      "13\n",
      "21\n",
      "34\n"
     ]
    }
   ],
   "source": [
    "num = int(input(\"How many Fibonacci numbers do u want to generate? \"))\n",
    "\n",
    "for i in range(num):\n",
    "    print(fibonacci(i))"
   ]
  },
  {
   "cell_type": "code",
   "execution_count": 33,
   "id": "2f6b55a5",
   "metadata": {},
   "outputs": [],
   "source": [
    "def countdown(num):\n",
    "    if num == 0:\n",
    "        print(\"Done!\")\n",
    "    else:\n",
    "        print(num)\n",
    "        countdown(num-1)"
   ]
  },
  {
   "cell_type": "code",
   "execution_count": 34,
   "id": "43eac57d",
   "metadata": {
    "scrolled": true
   },
   "outputs": [
    {
     "name": "stdout",
     "output_type": "stream",
     "text": [
      "10\n",
      "9\n",
      "8\n",
      "7\n",
      "6\n",
      "5\n",
      "4\n",
      "3\n",
      "2\n",
      "1\n",
      "Done!\n"
     ]
    }
   ],
   "source": [
    "countdown(10)"
   ]
  },
  {
   "cell_type": "code",
   "execution_count": 38,
   "id": "52c1c3fb",
   "metadata": {},
   "outputs": [],
   "source": [
    "def print_order(num):\n",
    "    if num == 0:\n",
    "        return \n",
    "    print(num) #decreasing\n",
    "    print_order(num-1)\n",
    "    print(num) #increasing"
   ]
  },
  {
   "cell_type": "code",
   "execution_count": 39,
   "id": "9d2ba582",
   "metadata": {},
   "outputs": [
    {
     "name": "stdout",
     "output_type": "stream",
     "text": [
      "10\n",
      "9\n",
      "8\n",
      "7\n",
      "6\n",
      "5\n",
      "4\n",
      "3\n",
      "2\n",
      "1\n",
      "1\n",
      "2\n",
      "3\n",
      "4\n",
      "5\n",
      "6\n",
      "7\n",
      "8\n",
      "9\n",
      "10\n"
     ]
    }
   ],
   "source": [
    "print_order(10)"
   ]
  },
  {
   "cell_type": "code",
   "execution_count": 32,
   "id": "fe6cff71",
   "metadata": {},
   "outputs": [
    {
     "name": "stdout",
     "output_type": "stream",
     "text": [
      "Arg1:  1\n",
      "Arg2:  2\n",
      "Arg3:  3\n"
     ]
    }
   ],
   "source": [
    "def some_args(arg1, arg2, arg3):\n",
    "    print(\"Arg1: \", arg1)\n",
    "    print(\"Arg2: \", arg2)\n",
    "    print(\"Arg3: \", arg3)\n",
    "lis = [2, 3]\n",
    "some_args(1, *lis)"
   ]
  },
  {
   "cell_type": "code",
   "execution_count": 42,
   "id": "c314c00a",
   "metadata": {},
   "outputs": [
    {
     "data": {
      "text/plain": [
       "10"
      ]
     },
     "execution_count": 42,
     "metadata": {},
     "output_type": "execute_result"
    }
   ],
   "source": [
    "def add(*args):\n",
    "    return sum(args)\n",
    "\n",
    "add(1, 2, 3, 4)"
   ]
  },
  {
   "cell_type": "code",
   "execution_count": 43,
   "id": "aa3fa81f",
   "metadata": {},
   "outputs": [
    {
     "data": {
      "text/plain": [
       "(36, 319)"
      ]
     },
     "execution_count": 43,
     "metadata": {},
     "output_type": "execute_result"
    }
   ],
   "source": [
    "list1 = [1,2,3,4,5,6,7,8]\n",
    "tup = (2,3,4,4,5,67,232,2)\n",
    "\n",
    "add(*list1), add(*tup)"
   ]
  },
  {
   "cell_type": "code",
   "execution_count": 44,
   "id": "7febbf25",
   "metadata": {},
   "outputs": [
    {
     "data": {
      "text/plain": [
       "355"
      ]
     },
     "execution_count": 44,
     "metadata": {},
     "output_type": "execute_result"
    }
   ],
   "source": [
    "add(*list1, *tup)"
   ]
  },
  {
   "cell_type": "code",
   "execution_count": 47,
   "id": "7e4c1571",
   "metadata": {},
   "outputs": [
    {
     "name": "stdout",
     "output_type": "stream",
     "text": [
      "{'Name': 'Ali', 'City': 'Lahore', 'Age': 23, 'qualification': 'graduation'}\n"
     ]
    }
   ],
   "source": [
    "def userdetails(**kwargs):\n",
    "    print(kwargs)\n",
    "userdetails(Name='Ali', City = 'Lahore', Age = 23, qualification = 'graduation')"
   ]
  },
  {
   "cell_type": "code",
   "execution_count": 48,
   "id": "45bc741a",
   "metadata": {},
   "outputs": [
    {
     "name": "stdout",
     "output_type": "stream",
     "text": [
      "Name : Ali\n",
      "City : Lahore\n",
      "Age : 23\n",
      "qualification : graduation\n"
     ]
    }
   ],
   "source": [
    "def userdetails(**kwargs):\n",
    "    for key, value in kwargs.items():\n",
    "        print(key, ':', value)\n",
    "       \n",
    "userdetails(Name='Ali', City = 'Lahore', Age = 23, qualification = 'graduation')"
   ]
  },
  {
   "cell_type": "code",
   "execution_count": 54,
   "id": "829d9ddb",
   "metadata": {},
   "outputs": [],
   "source": [
    "def userdetails(License_no, *args, phone_no = 0, **kwargs):\n",
    "    print(\"License Number: \", License_no)\n",
    "    j = \"\"\n",
    "    for i in args:\n",
    "        j = j+i\n",
    "        print(\"Full Name: \", j)\n",
    "    print(\"phone number: \", phone_no)\n",
    "    for key, value in kwargs.items():\n",
    "        print(key, \":\", value)"
   ]
  },
  {
   "cell_type": "code",
   "execution_count": 57,
   "id": "e705c756",
   "metadata": {},
   "outputs": [
    {
     "name": "stdout",
     "output_type": "stream",
     "text": [
      "License Number:  M11219920\n",
      "Full Name:  Sarah khan\n",
      "phone number:  0\n",
      "Name : Sarah\n",
      "City : Karachi\n",
      "Age : 32\n",
      "Status : Married\n",
      "personality : Celebarity\n"
     ]
    }
   ],
   "source": [
    "Name = \"Sarah khan\"\n",
    "details = {\"Name\":\"Sarah\", \"City\":\"Karachi\", \"Age\":32, \"Status\":\"Married\", \"personality\":\"Celebarity\"}\n",
    "license = 'M11219920'\n",
    "userdetails(license, Name, **details)"
   ]
  },
  {
   "cell_type": "markdown",
   "id": "c3ab9ffa",
   "metadata": {},
   "source": [
    "# Lambda Function\n",
    "    A lambda function is an annoynomous function (A function without a name). \n",
    "    The lambda functions can have any number of arguments but have only one expression.\n",
    "    We use lambda functions when we require a nameless function for a short period of time"
   ]
  },
  {
   "cell_type": "code",
   "execution_count": 1,
   "id": "72747844",
   "metadata": {},
   "outputs": [
    {
     "data": {
      "text/plain": [
       "6"
      ]
     },
     "execution_count": 1,
     "metadata": {},
     "output_type": "execute_result"
    }
   ],
   "source": [
    "addition = lambda a, b, c: a+b+c\n",
    "addition(1,2,3)"
   ]
  },
  {
   "cell_type": "code",
   "execution_count": 2,
   "id": "09ed1767",
   "metadata": {},
   "outputs": [
    {
     "data": {
      "text/plain": [
       "7"
      ]
     },
     "execution_count": 2,
     "metadata": {},
     "output_type": "execute_result"
    }
   ],
   "source": [
    "addition = lambda a,b: a+b+2\n",
    "addition(2,3)"
   ]
  },
  {
   "cell_type": "code",
   "execution_count": 7,
   "id": "a3a59339",
   "metadata": {},
   "outputs": [],
   "source": [
    "multiply = lambda a,b: a*b"
   ]
  },
  {
   "cell_type": "code",
   "execution_count": 8,
   "id": "fad3e16e",
   "metadata": {},
   "outputs": [
    {
     "data": {
      "text/plain": [
       "14"
      ]
     },
     "execution_count": 8,
     "metadata": {},
     "output_type": "execute_result"
    }
   ],
   "source": [
    "multiply(7,2)"
   ]
  },
  {
   "cell_type": "code",
   "execution_count": 9,
   "id": "6fecaae6",
   "metadata": {},
   "outputs": [
    {
     "data": {
      "text/plain": [
       "328"
      ]
     },
     "execution_count": 9,
     "metadata": {},
     "output_type": "execute_result"
    }
   ],
   "source": [
    "addition = lambda *args: sum(args)\n",
    "addition(1,2,4,67,68,123,12,16,35)"
   ]
  },
  {
   "cell_type": "code",
   "execution_count": 10,
   "id": "793cc974",
   "metadata": {},
   "outputs": [
    {
     "data": {
      "text/plain": [
       "(18, 235)"
      ]
     },
     "execution_count": 10,
     "metadata": {},
     "output_type": "execute_result"
    }
   ],
   "source": [
    "sm1 = lambda **kwargs: sum(kwargs.values())\n",
    "sm1(a=2, b=3, c=1, d=2, e=10), sm1(g=12, f=123, h=100)"
   ]
  },
  {
   "cell_type": "code",
   "execution_count": 14,
   "id": "68a06b7e",
   "metadata": {},
   "outputs": [
    {
     "name": "stdout",
     "output_type": "stream",
     "text": [
      "12\n",
      "144\n",
      "144\n",
      "288\n"
     ]
    },
    {
     "data": {
      "text/plain": [
       "288"
      ]
     },
     "execution_count": 14,
     "metadata": {},
     "output_type": "execute_result"
    }
   ],
   "source": [
    "def product(n):\n",
    "    mul = 1\n",
    "    for i in n:\n",
    "        mul = mul*i\n",
    "        print(mul)\n",
    "    return mul\n",
    "\n",
    "pro = lambda **kwargs: product(kwargs.values())\n",
    "pro(a=12, b=12, c=1, d=2)"
   ]
  },
  {
   "cell_type": "code",
   "execution_count": 15,
   "id": "7c62705f",
   "metadata": {},
   "outputs": [
    {
     "data": {
      "text/plain": [
       "7"
      ]
     },
     "execution_count": 15,
     "metadata": {},
     "output_type": "execute_result"
    }
   ],
   "source": [
    "mx = lambda *args: max(args)\n",
    "mx(1, 2, 3, 4, 6, 7)"
   ]
  },
  {
   "cell_type": "code",
   "execution_count": 17,
   "id": "4045afbc",
   "metadata": {},
   "outputs": [
    {
     "name": "stdout",
     "output_type": "stream",
     "text": [
      "12\n",
      "8\n",
      "22\n"
     ]
    }
   ],
   "source": [
    "def myfunc(n):\n",
    "    return lambda a: a+n\n",
    "add10 = myfunc(10)\n",
    "add5 = myfunc(5)\n",
    "add20 = myfunc(20)\n",
    "\n",
    "print(add10(2))\n",
    "print(add5(3))\n",
    "print(add20(2))"
   ]
  },
  {
   "cell_type": "code",
   "execution_count": 19,
   "id": "3b1b6a5c",
   "metadata": {},
   "outputs": [
    {
     "name": "stdout",
     "output_type": "stream",
     "text": [
      "100\n",
      "40\n",
      "24\n"
     ]
    }
   ],
   "source": [
    "def myfunc(n):\n",
    "    return lambda a: a*n\n",
    "mul1 = myfunc(1)\n",
    "mul4 = myfunc(10)\n",
    "mul12 = myfunc(12)\n",
    "\n",
    "print(mul1(100))\n",
    "print(mul4(4))\n",
    "print(mul12(2))"
   ]
  },
  {
   "cell_type": "code",
   "execution_count": 21,
   "id": "18e2140e",
   "metadata": {},
   "outputs": [
    {
     "data": {
      "text/plain": [
       "[1, 3, 5, 7, 7, 9]"
      ]
     },
     "execution_count": 21,
     "metadata": {},
     "output_type": "execute_result"
    }
   ],
   "source": [
    "def odd_list(n):\n",
    "    if n%2 == 1:\n",
    "        return True\n",
    "    else:\n",
    "        return False\n",
    "odd = list(filter(odd_list, [1,2,3,4,4,5,6,7,8,7,9]))\n",
    "odd"
   ]
  },
  {
   "cell_type": "code",
   "execution_count": 24,
   "id": "d758573b",
   "metadata": {},
   "outputs": [
    {
     "data": {
      "text/plain": [
       "[1, 3, 3, 5, 7, 9, 11, 13]"
      ]
     },
     "execution_count": 24,
     "metadata": {},
     "output_type": "execute_result"
    }
   ],
   "source": [
    "odd_num = list(filter(lambda x: x%2==1, [1,2,3,3,4,5,7,8,9,10,12,11,13]))\n",
    "odd_num"
   ]
  },
  {
   "cell_type": "code",
   "execution_count": 28,
   "id": "c500a6ec",
   "metadata": {},
   "outputs": [
    {
     "name": "stdout",
     "output_type": "stream",
     "text": [
      "[2, 6, 6, 10, 14, 18, 22, 26]\n"
     ]
    },
    {
     "data": {
      "text/plain": [
       "[2, 6, 6, 10, 14, 18, 22, 26]"
      ]
     },
     "execution_count": 28,
     "metadata": {},
     "output_type": "execute_result"
    }
   ],
   "source": [
    "def twice(n):\n",
    "    return n*2\n",
    "doubles = list(map(twice, odd_num))\n",
    "print(doubles)\n",
    "\n",
    "doubles1 = list(map(lambda n:n*2, odd_num))\n",
    "doubles1"
   ]
  },
  {
   "cell_type": "code",
   "execution_count": 29,
   "id": "e12ce5e1",
   "metadata": {},
   "outputs": [],
   "source": [
    "from functools import reduce"
   ]
  },
  {
   "cell_type": "code",
   "execution_count": 30,
   "id": "e1961989",
   "metadata": {},
   "outputs": [
    {
     "data": {
      "text/plain": [
       "104"
      ]
     },
     "execution_count": 30,
     "metadata": {},
     "output_type": "execute_result"
    }
   ],
   "source": [
    "def add(a,b):\n",
    "    return a+b\n",
    "sum_all = reduce(add,doubles)\n",
    "sum_all"
   ]
  },
  {
   "cell_type": "code",
   "execution_count": 31,
   "id": "dd4d54a9",
   "metadata": {},
   "outputs": [],
   "source": [
    "sum_all = reduce(add, list(map(lambda n:n*2, list(filter(lambda x: x%2 ==1, [1,2,3,4,5,6,7,8,8,9,10,11,12,13,14])))))"
   ]
  },
  {
   "cell_type": "code",
   "execution_count": 33,
   "id": "0c5174db",
   "metadata": {},
   "outputs": [
    {
     "data": {
      "text/plain": [
       "98"
      ]
     },
     "execution_count": 33,
     "metadata": {},
     "output_type": "execute_result"
    }
   ],
   "source": [
    "sum_all"
   ]
  },
  {
   "cell_type": "code",
   "execution_count": 38,
   "id": "b133159b",
   "metadata": {},
   "outputs": [
    {
     "data": {
      "text/plain": [
       "112"
      ]
     },
     "execution_count": 38,
     "metadata": {},
     "output_type": "execute_result"
    }
   ],
   "source": [
    "sum_all = reduce(lambda x, y: x+y, list(map(lambda n: n*2, list(filter(lambda n: n%2 == 0, [1,2,3,4,5,6,7,8,9,10,11,12,13,14])))))\n",
    "sum_all"
   ]
  },
  {
   "cell_type": "code",
   "execution_count": 39,
   "id": "5c95e283",
   "metadata": {},
   "outputs": [
    {
     "data": {
      "text/plain": [
       "36"
      ]
     },
     "execution_count": 39,
     "metadata": {},
     "output_type": "execute_result"
    }
   ],
   "source": [
    "sum_all = reduce(lambda x, y: x+y, list(map(lambda n: n+2, list(filter(lambda n: n%2 == 0, [1,2,3,3,4,5,6,6,7,8])))))\n",
    "sum_all"
   ]
  },
  {
   "cell_type": "code",
   "execution_count": 41,
   "id": "b5c0bdbc",
   "metadata": {},
   "outputs": [
    {
     "name": "stdout",
     "output_type": "stream",
     "text": [
      "[1, 2, 3, 4, 5, 6, 7, 8, 9, 10]\n",
      "even:  [2, 4, 6, 8, 10]\n",
      "odd:  [1, 3, 5, 7, 9]\n",
      "['ONE', 'THREE']\n",
      "['one', 'two']\n"
     ]
    },
    {
     "ename": "AttributeError",
     "evalue": "'int' object has no attribute 'isalpha'",
     "output_type": "error",
     "traceback": [
      "\u001b[1;31m---------------------------------------------------------------------------\u001b[0m",
      "\u001b[1;31mAttributeError\u001b[0m                            Traceback (most recent call last)",
      "\u001b[1;32m~\\AppData\\Local\\Temp\\ipykernel_8804\\1097719756.py\u001b[0m in \u001b[0;36m<module>\u001b[1;34m\u001b[0m\n\u001b[0;32m     15\u001b[0m \u001b[1;33m\u001b[0m\u001b[0m\n\u001b[0;32m     16\u001b[0m \u001b[0mlist3\u001b[0m \u001b[1;33m=\u001b[0m \u001b[1;33m[\u001b[0m\u001b[1;34m'one'\u001b[0m\u001b[1;33m,\u001b[0m \u001b[1;34m'two'\u001b[0m\u001b[1;33m,\u001b[0m \u001b[1;34m'three'\u001b[0m\u001b[1;33m,\u001b[0m \u001b[1;34m'thre2'\u001b[0m\u001b[1;33m,\u001b[0m \u001b[1;36m2\u001b[0m\u001b[1;33m,\u001b[0m \u001b[1;36m3\u001b[0m\u001b[1;33m,\u001b[0m \u001b[1;34m'five5'\u001b[0m\u001b[1;33m]\u001b[0m\u001b[1;33m\u001b[0m\u001b[1;33m\u001b[0m\u001b[0m\n\u001b[1;32m---> 17\u001b[1;33m \u001b[0malpha\u001b[0m \u001b[1;33m=\u001b[0m \u001b[0mlist\u001b[0m\u001b[1;33m(\u001b[0m\u001b[0mfilter\u001b[0m\u001b[1;33m(\u001b[0m\u001b[1;32mlambda\u001b[0m \u001b[0mx\u001b[0m\u001b[1;33m:\u001b[0m\u001b[0mx\u001b[0m\u001b[1;33m.\u001b[0m\u001b[0misalpha\u001b[0m\u001b[1;33m(\u001b[0m\u001b[1;33m)\u001b[0m\u001b[1;33m,\u001b[0m \u001b[0mlist3\u001b[0m\u001b[1;33m)\u001b[0m\u001b[1;33m)\u001b[0m\u001b[1;33m\u001b[0m\u001b[1;33m\u001b[0m\u001b[0m\n\u001b[0m\u001b[0;32m     18\u001b[0m \u001b[0mnumeric\u001b[0m \u001b[1;33m=\u001b[0m \u001b[0mlist\u001b[0m\u001b[1;33m(\u001b[0m\u001b[0mfilter\u001b[0m\u001b[1;33m(\u001b[0m\u001b[1;32mlambda\u001b[0m \u001b[0mx\u001b[0m\u001b[1;33m:\u001b[0m\u001b[0mx\u001b[0m\u001b[1;33m.\u001b[0m\u001b[0misnumeric\u001b[0m\u001b[1;33m(\u001b[0m\u001b[1;33m)\u001b[0m\u001b[1;33m,\u001b[0m \u001b[0mlist3\u001b[0m\u001b[1;33m)\u001b[0m\u001b[1;33m)\u001b[0m\u001b[1;33m\u001b[0m\u001b[1;33m\u001b[0m\u001b[0m\n\u001b[0;32m     19\u001b[0m \u001b[0malphnumeric\u001b[0m \u001b[1;33m=\u001b[0m \u001b[0mlist\u001b[0m\u001b[1;33m(\u001b[0m\u001b[0mfilter\u001b[0m\u001b[1;33m(\u001b[0m\u001b[1;32mlambda\u001b[0m \u001b[0mx\u001b[0m\u001b[1;33m:\u001b[0m\u001b[0mx\u001b[0m\u001b[1;33m.\u001b[0m\u001b[0misalnumeric\u001b[0m\u001b[1;33m(\u001b[0m\u001b[1;33m)\u001b[0m\u001b[1;33m,\u001b[0m \u001b[0mlist3\u001b[0m\u001b[1;33m)\u001b[0m\u001b[1;33m)\u001b[0m\u001b[1;33m\u001b[0m\u001b[1;33m\u001b[0m\u001b[0m\n",
      "\u001b[1;32m~\\AppData\\Local\\Temp\\ipykernel_8804\\1097719756.py\u001b[0m in \u001b[0;36m<lambda>\u001b[1;34m(x)\u001b[0m\n\u001b[0;32m     15\u001b[0m \u001b[1;33m\u001b[0m\u001b[0m\n\u001b[0;32m     16\u001b[0m \u001b[0mlist3\u001b[0m \u001b[1;33m=\u001b[0m \u001b[1;33m[\u001b[0m\u001b[1;34m'one'\u001b[0m\u001b[1;33m,\u001b[0m \u001b[1;34m'two'\u001b[0m\u001b[1;33m,\u001b[0m \u001b[1;34m'three'\u001b[0m\u001b[1;33m,\u001b[0m \u001b[1;34m'thre2'\u001b[0m\u001b[1;33m,\u001b[0m \u001b[1;36m2\u001b[0m\u001b[1;33m,\u001b[0m \u001b[1;36m3\u001b[0m\u001b[1;33m,\u001b[0m \u001b[1;34m'five5'\u001b[0m\u001b[1;33m]\u001b[0m\u001b[1;33m\u001b[0m\u001b[1;33m\u001b[0m\u001b[0m\n\u001b[1;32m---> 17\u001b[1;33m \u001b[0malpha\u001b[0m \u001b[1;33m=\u001b[0m \u001b[0mlist\u001b[0m\u001b[1;33m(\u001b[0m\u001b[0mfilter\u001b[0m\u001b[1;33m(\u001b[0m\u001b[1;32mlambda\u001b[0m \u001b[0mx\u001b[0m\u001b[1;33m:\u001b[0m\u001b[0mx\u001b[0m\u001b[1;33m.\u001b[0m\u001b[0misalpha\u001b[0m\u001b[1;33m(\u001b[0m\u001b[1;33m)\u001b[0m\u001b[1;33m,\u001b[0m \u001b[0mlist3\u001b[0m\u001b[1;33m)\u001b[0m\u001b[1;33m)\u001b[0m\u001b[1;33m\u001b[0m\u001b[1;33m\u001b[0m\u001b[0m\n\u001b[0m\u001b[0;32m     18\u001b[0m \u001b[0mnumeric\u001b[0m \u001b[1;33m=\u001b[0m \u001b[0mlist\u001b[0m\u001b[1;33m(\u001b[0m\u001b[0mfilter\u001b[0m\u001b[1;33m(\u001b[0m\u001b[1;32mlambda\u001b[0m \u001b[0mx\u001b[0m\u001b[1;33m:\u001b[0m\u001b[0mx\u001b[0m\u001b[1;33m.\u001b[0m\u001b[0misnumeric\u001b[0m\u001b[1;33m(\u001b[0m\u001b[1;33m)\u001b[0m\u001b[1;33m,\u001b[0m \u001b[0mlist3\u001b[0m\u001b[1;33m)\u001b[0m\u001b[1;33m)\u001b[0m\u001b[1;33m\u001b[0m\u001b[1;33m\u001b[0m\u001b[0m\n\u001b[0;32m     19\u001b[0m \u001b[0malphnumeric\u001b[0m \u001b[1;33m=\u001b[0m \u001b[0mlist\u001b[0m\u001b[1;33m(\u001b[0m\u001b[0mfilter\u001b[0m\u001b[1;33m(\u001b[0m\u001b[1;32mlambda\u001b[0m \u001b[0mx\u001b[0m\u001b[1;33m:\u001b[0m\u001b[0mx\u001b[0m\u001b[1;33m.\u001b[0m\u001b[0misalnumeric\u001b[0m\u001b[1;33m(\u001b[0m\u001b[1;33m)\u001b[0m\u001b[1;33m,\u001b[0m \u001b[0mlist3\u001b[0m\u001b[1;33m)\u001b[0m\u001b[1;33m)\u001b[0m\u001b[1;33m\u001b[0m\u001b[1;33m\u001b[0m\u001b[0m\n",
      "\u001b[1;31mAttributeError\u001b[0m: 'int' object has no attribute 'isalpha'"
     ]
    }
   ],
   "source": [
    "list1 = [1,2,3,4,5,6,7,8,9,10]\n",
    "\n",
    "print(list1)\n",
    "even = list(filter(lambda x: x%2 == 0, list1))\n",
    "odd = list(filter(lambda x: x%2 == 1, list1))\n",
    "\n",
    "print(\"even: \", even)\n",
    "print(\"odd: \", odd)\n",
    "\n",
    "list2 = ['one', 'two', 'Two', 'ONE', 'THREE']\n",
    "upp = list(filter(lambda x: x.isupper(), list2))\n",
    "low = list(filter(lambda x: x.islower(), list2))\n",
    "print(upp)\n",
    "print(low)\n",
    "\n",
    "list3 = ['one', 'two', 'three', 'thre2', 2, 3, 'five5']\n",
    "alpha = list(filter(lambda x:x.isalpha(), list3))\n",
    "numeric = list(filter(lambda x:x.isnumeric(), list3))\n",
    "alphnumeric = list(filter(lambda x:x.isalnumeric(), list3))\n",
    "\n",
    "print(alpha)\n",
    "print(numeric)\n",
    "print(alphanumeric)"
   ]
  },
  {
   "cell_type": "code",
   "execution_count": 43,
   "id": "727842be",
   "metadata": {},
   "outputs": [
    {
     "data": {
      "text/plain": [
       "0"
      ]
     },
     "execution_count": 43,
     "metadata": {},
     "output_type": "execute_result"
    }
   ],
   "source": [
    "min_num = reduce(lambda x, y: x if x<y else y, [1,2,3,65,0])\n",
    "min_num"
   ]
  },
  {
   "cell_type": "code",
   "execution_count": 44,
   "id": "fed9a809",
   "metadata": {},
   "outputs": [],
   "source": [
    "max_num = reduce(lambda x, y: x if x>y else y, [1,2,3,4,10,2,12])"
   ]
  },
  {
   "cell_type": "code",
   "execution_count": 45,
   "id": "b96a51b9",
   "metadata": {},
   "outputs": [
    {
     "data": {
      "text/plain": [
       "12"
      ]
     },
     "execution_count": 45,
     "metadata": {},
     "output_type": "execute_result"
    }
   ],
   "source": [
    "max_num"
   ]
  },
  {
   "cell_type": "code",
   "execution_count": null,
   "id": "f8fc450a",
   "metadata": {},
   "outputs": [],
   "source": []
  }
 ],
 "metadata": {
  "kernelspec": {
   "display_name": "Python 3 (ipykernel)",
   "language": "python",
   "name": "python3"
  },
  "language_info": {
   "codemirror_mode": {
    "name": "ipython",
    "version": 3
   },
   "file_extension": ".py",
   "mimetype": "text/x-python",
   "name": "python",
   "nbconvert_exporter": "python",
   "pygments_lexer": "ipython3",
   "version": "3.9.13"
  }
 },
 "nbformat": 4,
 "nbformat_minor": 5
}
