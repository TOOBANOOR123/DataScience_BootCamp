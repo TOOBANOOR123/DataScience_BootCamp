{
 "cells": [
  {
   "cell_type": "markdown",
   "id": "1f48d5c9",
   "metadata": {},
   "source": [
    "# 1. Create a Dictionary from Two Lists\n",
    "\n",
    "## Problem Statement:\n",
    "Write a function to create a dictionary from two lists of equal length, one for keys and one for values.\n",
    "\n",
    "## Example 1:\n",
    "**Input:** `keys = ['a', 'b'], values = [1, 2]`  \n",
    "**Output:** `{'a': 1, 'b': 2}`\n",
    "\n",
    "## Example 2:\n",
    "**Input:** `keys = ['x'], values = [10]`  \n",
    "**Output:** `{'x': 10}`\n"
   ]
  },
  {
   "cell_type": "code",
   "execution_count": 2,
   "id": "3ea65a39",
   "metadata": {},
   "outputs": [],
   "source": [
    "def create_dict(keys, values):\n",
    "    dict1 = dict(zip(keys, values))\n",
    "    return dict1"
   ]
  },
  {
   "cell_type": "code",
   "execution_count": 5,
   "id": "563caffe",
   "metadata": {},
   "outputs": [
    {
     "data": {
      "text/plain": [
       "{'a': 1, 'b': 2}"
      ]
     },
     "execution_count": 5,
     "metadata": {},
     "output_type": "execute_result"
    }
   ],
   "source": [
    "#example 1 usage \n",
    "keys = ['a', 'b']\n",
    "values = [1,2]\n",
    "create_dict(keys, values)"
   ]
  },
  {
   "cell_type": "code",
   "execution_count": 6,
   "id": "647f8718",
   "metadata": {},
   "outputs": [
    {
     "data": {
      "text/plain": [
       "{'x': 10}"
      ]
     },
     "execution_count": 6,
     "metadata": {},
     "output_type": "execute_result"
    }
   ],
   "source": [
    "#example 2 usage \n",
    "keys = ['x']\n",
    "values = [10]\n",
    "create_dict(keys, values)"
   ]
  },
  {
   "cell_type": "markdown",
   "id": "9016196e",
   "metadata": {},
   "source": [
    "# 2. Merge Two Dictionaries\n",
    "\n",
    "## Problem Statement:\n",
    "Write a function to merge two dictionaries into one.\n",
    "\n",
    "## Example 1:\n",
    "**Input:** `{'a': 1}, {'b': 2}`  \n",
    "**Output:** `{'a': 1, 'b': 2}`\n",
    "\n",
    "## Example 2:\n",
    "**Input:** `{'x': 10}, {'y': 20, 'z': 30}`  \n",
    "**Output:** `{'x': 10, 'y': 20, 'z': 30}`\n"
   ]
  },
  {
   "cell_type": "code",
   "execution_count": 7,
   "id": "5ee5d659",
   "metadata": {},
   "outputs": [],
   "source": [
    "def merge_dict(dict1, dict2):\n",
    "    dict1.update(dict2)\n",
    "    return dict1"
   ]
  },
  {
   "cell_type": "code",
   "execution_count": 9,
   "id": "d9d7b5b2",
   "metadata": {},
   "outputs": [
    {
     "data": {
      "text/plain": [
       "{'a': 1, 'b': 2}"
      ]
     },
     "execution_count": 9,
     "metadata": {},
     "output_type": "execute_result"
    }
   ],
   "source": [
    "#example 1 usage \n",
    "dict1 = {'a':1}\n",
    "dict2 = {'b':2}\n",
    "merge_dict(dict1, dict2)"
   ]
  },
  {
   "cell_type": "code",
   "execution_count": 10,
   "id": "15549361",
   "metadata": {},
   "outputs": [
    {
     "data": {
      "text/plain": [
       "{'x': 10, 'y': 20, 'z': 30}"
      ]
     },
     "execution_count": 10,
     "metadata": {},
     "output_type": "execute_result"
    }
   ],
   "source": [
    "#example2 usage \n",
    "dict1 = {'x':10}\n",
    "dict2 = {'x':10, 'y':20, 'z':30}\n",
    "merge_dict(dict1, dict2)"
   ]
  },
  {
   "cell_type": "markdown",
   "id": "c6526c5c",
   "metadata": {},
   "source": [
    "# 3. Check if Key Exists\n",
    "\n",
    "## Problem Statement:\n",
    "Write a function to check if a specific key exists in a dictionary.\n",
    "\n",
    "## Example 1:\n",
    "**Input:** `{'a': 1}, 'a'`  \n",
    "**Output:** `True`\n",
    "\n",
    "## Example 2:\n",
    "**Input:** `{'b': 2}, 'a'`  \n",
    "**Output:** `False`\n"
   ]
  },
  {
   "cell_type": "code",
   "execution_count": 28,
   "id": "a04fa909",
   "metadata": {},
   "outputs": [],
   "source": [
    "def is_key_exist(dic, target_key):\n",
    "    found = False\n",
    "    for key in dic:\n",
    "        if key == target_key:\n",
    "            found = True\n",
    "            break\n",
    "    if found:\n",
    "        print(f\"True! {target_key} exist in the dictionary\")\n",
    "    if not found:        \n",
    "        print(f\"False! {target_key} does not exist in the dictionary\")"
   ]
  },
  {
   "cell_type": "code",
   "execution_count": 29,
   "id": "b1ef4e37",
   "metadata": {},
   "outputs": [
    {
     "name": "stdout",
     "output_type": "stream",
     "text": [
      "True! a exist in the dictionary\n"
     ]
    }
   ],
   "source": [
    "dic = {'a':1}\n",
    "target_key = 'a'\n",
    "is_key_exist(dic, target_key)"
   ]
  },
  {
   "cell_type": "code",
   "execution_count": 30,
   "id": "941c2b69",
   "metadata": {},
   "outputs": [
    {
     "name": "stdout",
     "output_type": "stream",
     "text": [
      "False! a does not exist in the dictionary\n"
     ]
    }
   ],
   "source": [
    "#example2 usage\n",
    "dic = {'b': 2}\n",
    "target_key = 'a'\n",
    "is_key_exist(dic, target_key)"
   ]
  },
  {
   "cell_type": "markdown",
   "id": "e72c9a22",
   "metadata": {},
   "source": [
    "# 4. Count Frequency of Elements\n",
    "\n",
    "## Problem Statement:\n",
    "Write a function to count the frequency of each element in a list using a dictionary.\n",
    "\n",
    "## Example 1:\n",
    "**Input:** `[1,2,2,3]`  \n",
    "**Output:** `{1:1, 2:2, 3:1}`\n",
    "\n",
    "## Example 2:\n",
    "**Input:** `['a','b','a']`  \n",
    "**Output:** `{'a':2, 'b':1}`\n",
    "\n",
    "\n"
   ]
  },
  {
   "cell_type": "code",
   "execution_count": 35,
   "id": "31fd888e",
   "metadata": {},
   "outputs": [],
   "source": [
    "def count_frequency(ls):\n",
    "    freq = {}\n",
    "    for element in ls:\n",
    "        if element in freq:\n",
    "            freq[element] += 1\n",
    "        else:\n",
    "            freq[element] = 1\n",
    "    return freq"
   ]
  },
  {
   "cell_type": "code",
   "execution_count": 36,
   "id": "ad5808ba",
   "metadata": {},
   "outputs": [
    {
     "data": {
      "text/plain": [
       "{1: 1, 2: 2, 3: 1}"
      ]
     },
     "execution_count": 36,
     "metadata": {},
     "output_type": "execute_result"
    }
   ],
   "source": [
    "#example1 usage\n",
    "ls = [1,2,2,3]\n",
    "count_frequency(ls)"
   ]
  },
  {
   "cell_type": "code",
   "execution_count": 37,
   "id": "6e937c1a",
   "metadata": {},
   "outputs": [
    {
     "data": {
      "text/plain": [
       "{'a': 2, 'b': 1}"
      ]
     },
     "execution_count": 37,
     "metadata": {},
     "output_type": "execute_result"
    }
   ],
   "source": [
    "#exanmple2 usage\n",
    "ls = ['a', 'b', 'a']\n",
    "count_frequency(ls)"
   ]
  },
  {
   "cell_type": "markdown",
   "id": "c1b74aa9",
   "metadata": {},
   "source": [
    "# 5. Reverse Dictionary (Unique Values)\n",
    "\n",
    "## Problem Statement:\n",
    "Write a function to reverse keys and values in a dictionary. Assume values are unique.\n",
    "\n",
    "## Example 1:\n",
    "**Input:** `{'a':1, 'b':2}`  \n",
    "**Output:** `{1:'a', 2:'b'}`\n",
    "\n",
    "## Example 2:\n",
    "**Input:** `{'x':'y'}`  \n",
    "**Output:** `{'y':'x'}`\n"
   ]
  },
  {
   "cell_type": "code",
   "execution_count": 38,
   "id": "34170e71",
   "metadata": {},
   "outputs": [],
   "source": [
    "def reversing_dict(dic):\n",
    "    reveresed = {}\n",
    "    for key, value in dic.items():\n",
    "        reveresed[value] = key\n",
    "        \n",
    "    print(\"Reversed dictionary is: \", reveresed)"
   ]
  },
  {
   "cell_type": "code",
   "execution_count": 39,
   "id": "df0a31ed",
   "metadata": {},
   "outputs": [
    {
     "name": "stdout",
     "output_type": "stream",
     "text": [
      "Reversed dictionary is:  {1: 'a', 2: 'b'}\n"
     ]
    }
   ],
   "source": [
    "dic2 = {'a':1, 'b':2}\n",
    "reversing_dict(dic2)"
   ]
  },
  {
   "cell_type": "code",
   "execution_count": 42,
   "id": "ba3b7a1a",
   "metadata": {},
   "outputs": [
    {
     "name": "stdout",
     "output_type": "stream",
     "text": [
      "Reversed dictionary is:  {'y': 'x'}\n"
     ]
    }
   ],
   "source": [
    "#example2 usage\n",
    "dic3 = {'x':'y'}\n",
    "reversing_dict(dic3)"
   ]
  },
  {
   "cell_type": "markdown",
   "id": "bfc01a37",
   "metadata": {},
   "source": [
    "# 6. Dictionary with Maximum Value\n",
    "\n",
    "## Problem Statement:\n",
    "Write a function that returns the key with the highest value in a dictionary.\n",
    "\n",
    "## Example 1:\n",
    "**Input:** `{'a':3, 'b':10}`  \n",
    "**Output:** `'b'`\n",
    "\n",
    "## Example 2:\n",
    "**Input:** `{'x':1, 'y':-5}`  \n",
    "**Output:** `'x'`\n"
   ]
  },
  {
   "cell_type": "code",
   "execution_count": 176,
   "id": "0f477717",
   "metadata": {},
   "outputs": [],
   "source": [
    "def highest_value(dic):\n",
    "    max_value = float('-inf')\n",
    "    max_key = None\n",
    "    for key, value in dic.items():\n",
    "        if dic[key] > max_value:\n",
    "            max_value = dic[key]\n",
    "            max_key = key \n",
    "    return max_key"
   ]
  },
  {
   "cell_type": "code",
   "execution_count": 177,
   "id": "3ebfad1c",
   "metadata": {},
   "outputs": [
    {
     "data": {
      "text/plain": [
       "'b'"
      ]
     },
     "execution_count": 177,
     "metadata": {},
     "output_type": "execute_result"
    }
   ],
   "source": [
    "dic = {'a':3, 'b':10}\n",
    "highest_value(dic)"
   ]
  },
  {
   "cell_type": "code",
   "execution_count": 175,
   "id": "2aead54f",
   "metadata": {},
   "outputs": [],
   "source": [
    "dic = {'a':3, 'b':10}\n",
    "#highest_value_key(dic)\n",
    "highest_value(dic)"
   ]
  },
  {
   "cell_type": "markdown",
   "id": "2df1f7ab",
   "metadata": {},
   "source": [
    "# 7. Remove Key from Dictionary\n",
    "\n",
    "## Problem Statement:\n",
    "Write a function that removes a specified key from a dictionary.\n",
    "\n",
    "## Example 1:\n",
    "**Input:** `{'a':1, 'b':2}, 'a'`  \n",
    "**Output:** `{'b':2}`\n",
    "\n",
    "## Example 2:\n",
    "**Input:** `{'x':3, 'y':4}, 'z'`  \n",
    "**Output:** `{'x':3, 'y':4}`\n"
   ]
  },
  {
   "cell_type": "code",
   "execution_count": 48,
   "id": "ebc9c007",
   "metadata": {},
   "outputs": [],
   "source": [
    "def remove_key(dic, target_key):\n",
    "    del dic[target_key]\n",
    "    return dic"
   ]
  },
  {
   "cell_type": "code",
   "execution_count": 51,
   "id": "4c042f24",
   "metadata": {},
   "outputs": [
    {
     "data": {
      "text/plain": [
       "{'b': 2}"
      ]
     },
     "execution_count": 51,
     "metadata": {},
     "output_type": "execute_result"
    }
   ],
   "source": [
    "#example 1 usage\n",
    "dic = {'a':1, \"b\":2}\n",
    "target_key = 'a'\n",
    "remove_key(dic, target_key)"
   ]
  },
  {
   "cell_type": "code",
   "execution_count": 54,
   "id": "9d9853b8",
   "metadata": {},
   "outputs": [
    {
     "ename": "KeyError",
     "evalue": "'z'",
     "output_type": "error",
     "traceback": [
      "\u001b[1;31m---------------------------------------------------------------------------\u001b[0m",
      "\u001b[1;31mKeyError\u001b[0m                                  Traceback (most recent call last)",
      "\u001b[1;32m~\\AppData\\Local\\Temp\\ipykernel_4892\\1733666208.py\u001b[0m in \u001b[0;36m<module>\u001b[1;34m\u001b[0m\n\u001b[0;32m      1\u001b[0m \u001b[0mdic\u001b[0m \u001b[1;33m=\u001b[0m \u001b[1;33m{\u001b[0m\u001b[1;34m'x'\u001b[0m\u001b[1;33m:\u001b[0m\u001b[1;36m3\u001b[0m\u001b[1;33m,\u001b[0m \u001b[1;34m'y'\u001b[0m\u001b[1;33m:\u001b[0m\u001b[1;36m4\u001b[0m\u001b[1;33m}\u001b[0m\u001b[1;33m\u001b[0m\u001b[1;33m\u001b[0m\u001b[0m\n\u001b[0;32m      2\u001b[0m \u001b[0mtarget_key\u001b[0m \u001b[1;33m=\u001b[0m \u001b[1;34m'z'\u001b[0m\u001b[1;33m\u001b[0m\u001b[1;33m\u001b[0m\u001b[0m\n\u001b[1;32m----> 3\u001b[1;33m \u001b[0mremove_key\u001b[0m\u001b[1;33m(\u001b[0m\u001b[0mdic\u001b[0m\u001b[1;33m,\u001b[0m \u001b[0mtarget_key\u001b[0m\u001b[1;33m)\u001b[0m\u001b[1;33m\u001b[0m\u001b[1;33m\u001b[0m\u001b[0m\n\u001b[0m\u001b[0;32m      4\u001b[0m \u001b[0mprint\u001b[0m\u001b[1;33m(\u001b[0m\u001b[0mdic\u001b[0m\u001b[1;33m)\u001b[0m\u001b[1;33m\u001b[0m\u001b[1;33m\u001b[0m\u001b[0m\n",
      "\u001b[1;32m~\\AppData\\Local\\Temp\\ipykernel_4892\\288863539.py\u001b[0m in \u001b[0;36mremove_key\u001b[1;34m(dic, key)\u001b[0m\n\u001b[0;32m      1\u001b[0m \u001b[1;32mdef\u001b[0m \u001b[0mremove_key\u001b[0m\u001b[1;33m(\u001b[0m\u001b[0mdic\u001b[0m\u001b[1;33m,\u001b[0m \u001b[0mkey\u001b[0m\u001b[1;33m)\u001b[0m\u001b[1;33m:\u001b[0m\u001b[1;33m\u001b[0m\u001b[1;33m\u001b[0m\u001b[0m\n\u001b[1;32m----> 2\u001b[1;33m     \u001b[1;32mdel\u001b[0m \u001b[0mdic\u001b[0m\u001b[1;33m[\u001b[0m\u001b[0mkey\u001b[0m\u001b[1;33m]\u001b[0m\u001b[1;33m\u001b[0m\u001b[1;33m\u001b[0m\u001b[0m\n\u001b[0m\u001b[0;32m      3\u001b[0m     \u001b[1;32mreturn\u001b[0m \u001b[0mdic\u001b[0m\u001b[1;33m\u001b[0m\u001b[1;33m\u001b[0m\u001b[0m\n",
      "\u001b[1;31mKeyError\u001b[0m: 'z'"
     ]
    }
   ],
   "source": [
    "dic = {'x':3, 'y':4}\n",
    "target_key = 'z'\n",
    "remove_key(dic, target_key)\n",
    "print(dic)"
   ]
  },
  {
   "cell_type": "markdown",
   "id": "542b30d7",
   "metadata": {},
   "source": [
    "# 8. Dictionary from String\n",
    "\n",
    "## Problem Statement:\n",
    "Write a function to count the occurrences of each character in a given string using a dictionary.\n",
    "\n",
    "## Example 1:\n",
    "**Input:** `\"hello\"`  \n",
    "**Output:** `{'h':1,'e':1,'l':2,'o':1}`\n",
    "\n",
    "## Example 2:\n",
    "**Input:** `\"abc\"`  \n",
    "**Output:** `{'a':1,'b':1,'c':1}`\n",
    "\n",
    "\n"
   ]
  },
  {
   "cell_type": "code",
   "execution_count": 57,
   "id": "1a0604ff",
   "metadata": {},
   "outputs": [],
   "source": [
    "def count_occurence(s):\n",
    "    freq = {}\n",
    "    for char in s:\n",
    "        if char in freq:\n",
    "            freq[char] += 1\n",
    "        else:\n",
    "            freq[char] = 1\n",
    "    return freq"
   ]
  },
  {
   "cell_type": "code",
   "execution_count": 58,
   "id": "0a9d9b6c",
   "metadata": {},
   "outputs": [
    {
     "data": {
      "text/plain": [
       "{'h': 1, 'e': 1, 'l': 2, 'o': 1}"
      ]
     },
     "execution_count": 58,
     "metadata": {},
     "output_type": "execute_result"
    }
   ],
   "source": [
    "#example1 usage:\n",
    "s = \"hello\"\n",
    "count_occurence(s)"
   ]
  },
  {
   "cell_type": "code",
   "execution_count": 59,
   "id": "504e4c10",
   "metadata": {},
   "outputs": [
    {
     "data": {
      "text/plain": [
       "{'a': 1, 'b': 1, 'c': 1}"
      ]
     },
     "execution_count": 59,
     "metadata": {},
     "output_type": "execute_result"
    }
   ],
   "source": [
    "#example2:\n",
    "s = \"abc\"\n",
    "count_occurence(s)"
   ]
  },
  {
   "cell_type": "markdown",
   "id": "b8bb6168",
   "metadata": {},
   "source": [
    "# 9. Update Value in Dictionary\n",
    "\n",
    "## Problem Statement:\n",
    "Write a function to update a value associated with a given key in a dictionary.\n",
    "\n",
    "## Example 1:\n",
    "**Input:** `{'a':1}, 'a', 100`  \n",
    "**Output:** `{'a':100}`\n",
    "\n",
    "## Example 2:\n",
    "**Input:** `{'x':10}, 'y', 20`  \n",
    "**Output:** `{'x':10, 'y':20}`\n"
   ]
  },
  {
   "cell_type": "code",
   "execution_count": 70,
   "id": "7a8a617e",
   "metadata": {},
   "outputs": [],
   "source": [
    "def update_value(dic, key, value):\n",
    "    dic.update({key:value})\n",
    "    return dic"
   ]
  },
  {
   "cell_type": "code",
   "execution_count": 71,
   "id": "1345099a",
   "metadata": {},
   "outputs": [
    {
     "data": {
      "text/plain": [
       "{'a': 100}"
      ]
     },
     "execution_count": 71,
     "metadata": {},
     "output_type": "execute_result"
    }
   ],
   "source": [
    "dic = {'a':1}\n",
    "key = 'a'\n",
    "value = 100\n",
    "update_value(dic, key, value)"
   ]
  },
  {
   "cell_type": "code",
   "execution_count": 72,
   "id": "d53dba6f",
   "metadata": {},
   "outputs": [
    {
     "data": {
      "text/plain": [
       "{'x': 10, 'y': 20}"
      ]
     },
     "execution_count": 72,
     "metadata": {},
     "output_type": "execute_result"
    }
   ],
   "source": [
    "dic = {'x':10}\n",
    "key = 'y'\n",
    "value = 20\n",
    "update_value(dic, key, value)"
   ]
  },
  {
   "cell_type": "markdown",
   "id": "8b580e88",
   "metadata": {},
   "source": [
    "# 10. Sort Dictionary by Values\n",
    "\n",
    "## Problem Statement:\n",
    "Write a function to sort a dictionary by values in ascending order.\n",
    "\n",
    "## Example 1:\n",
    "**Input:** `{'a':3, 'b':1}`  \n",
    "**Output:** `{'b':1, 'a':3}`\n",
    "\n",
    "## Example 2:\n",
    "**Input:** `{'x':4,'y':2}`  \n",
    "**Output:** `{'y':2, 'x':4}`\n"
   ]
  },
  {
   "cell_type": "code",
   "execution_count": 77,
   "id": "4cfc1e2c",
   "metadata": {},
   "outputs": [],
   "source": [
    "def func1(item):\n",
    "    return item[1]\n",
    "def sort_dict(dic):\n",
    "    sorted_dic = sorted(dic.items(), key=func1)\n",
    "    return sorted_dic"
   ]
  },
  {
   "cell_type": "code",
   "execution_count": 78,
   "id": "24a51d09",
   "metadata": {},
   "outputs": [
    {
     "data": {
      "text/plain": [
       "[('b', 1), ('a', 3)]"
      ]
     },
     "execution_count": 78,
     "metadata": {},
     "output_type": "execute_result"
    }
   ],
   "source": [
    "dic = {'a':3, 'b':1}\n",
    "sort_dict(dic)"
   ]
  },
  {
   "cell_type": "markdown",
   "id": "923a13f3",
   "metadata": {},
   "source": [
    "# 11. Dictionary Intersection\n",
    "\n",
    "## Problem Statement:\n",
    "Write a function that returns a dictionary containing keys common to two dictionaries with values from the first dictionary.\n",
    "\n",
    "## Example 1:\n",
    "**Input:** `{'a':1, 'b':2}, {'b':4, 'c':3}`  \n",
    "**Output:** `{'b':2}`\n",
    "\n",
    "## Example 2:\n",
    "**Input:** `{'x':5}, {'y':5}`  \n",
    "**Output:** `{}`\n"
   ]
  },
  {
   "cell_type": "code",
   "execution_count": 101,
   "id": "463eed21",
   "metadata": {},
   "outputs": [],
   "source": [
    "def common_keys(dic1, dic2):\n",
    "    dic_updated = {}\n",
    "    for key, value in dic1.items():\n",
    "        if key in dic2 and key not in dic_updated:\n",
    "            dic_updated.update({key: value})\n",
    "    return dic_updated"
   ]
  },
  {
   "cell_type": "code",
   "execution_count": 102,
   "id": "8ea06653",
   "metadata": {},
   "outputs": [
    {
     "data": {
      "text/plain": [
       "{'b': 2}"
      ]
     },
     "execution_count": 102,
     "metadata": {},
     "output_type": "execute_result"
    }
   ],
   "source": [
    "#example1 usage\n",
    "dic1 = {'a':1, 'b':2}\n",
    "dic2 = {'b':4, 'c':3}\n",
    "common_keys(dic1, dic2)"
   ]
  },
  {
   "cell_type": "markdown",
   "id": "328b85be",
   "metadata": {},
   "source": [
    "# 14. Filter Dictionary by Values\n",
    "\n",
    "## Problem Statement:\n",
    "Write a function to filter a dictionary, keeping only items where the value is greater than a given number.\n",
    "\n",
    "## Example 1:\n",
    "**Input:** `{'a':5, 'b':2, 'c':8}, 4`  \n",
    "**Output:** `{'a':5, 'c':8}`\n",
    "\n",
    "## Example 2:\n",
    "**Input:** `{'x':1, 'y':3}, 2`  \n",
    "**Output:** `{'y':3}`\n"
   ]
  },
  {
   "cell_type": "code",
   "execution_count": 103,
   "id": "58e19b37",
   "metadata": {},
   "outputs": [],
   "source": [
    "def filter_dictionary(dic, given_no):\n",
    "    new_dic = {}\n",
    "    for key, value in dic.items():\n",
    "        if value>given_no:\n",
    "            new_dic.update({key: value})\n",
    "    return new_dic"
   ]
  },
  {
   "cell_type": "code",
   "execution_count": 104,
   "id": "55c9884b",
   "metadata": {},
   "outputs": [
    {
     "data": {
      "text/plain": [
       "{'a': 5, 'c': 8}"
      ]
     },
     "execution_count": 104,
     "metadata": {},
     "output_type": "execute_result"
    }
   ],
   "source": [
    "#example1 usage:\n",
    "dic = {'a':5, 'b':2, 'c':8}\n",
    "given_no = 4\n",
    "filter_dictionary(dic, given_no)"
   ]
  },
  {
   "cell_type": "code",
   "execution_count": 105,
   "id": "c935b730",
   "metadata": {},
   "outputs": [
    {
     "data": {
      "text/plain": [
       "{'y': 3}"
      ]
     },
     "execution_count": 105,
     "metadata": {},
     "output_type": "execute_result"
    }
   ],
   "source": [
    "#example2 usage\n",
    "#example1 usage:\n",
    "dic = {'x':1, 'y':3}\n",
    "given_no = 2\n",
    "filter_dictionary(dic, given_no)"
   ]
  },
  {
   "cell_type": "markdown",
   "id": "b37b6bd2",
   "metadata": {},
   "source": [
    "# 16. Dictionary from List of Tuples\n",
    "\n",
    "## Problem Statement:\n",
    "Write a function that converts a list of tuples into a dictionary, combining values for duplicate keys into lists.\n",
    "\n",
    "## Example 1:\n",
    "**Input:** `[('a',1), ('b',2), ('a',3)]`  \n",
    "**Output:** `{'a':[1,3], 'b':[2]}`\n",
    "\n",
    "## Example 2:\n",
    "**Input:** `[('x',4)]`  \n",
    "**Output:** `{'x':[4]}`\n"
   ]
  },
  {
   "cell_type": "code",
   "execution_count": 111,
   "id": "0cabcc36",
   "metadata": {},
   "outputs": [],
   "source": [
    "def combine_duplicate_keys(tup_list):\n",
    "    dic1 = {}\n",
    "    for key, value in tup_list:\n",
    "        if key in dic1:\n",
    "            dic1[key].append(value)\n",
    "            \n",
    "        else:\n",
    "            dic1[key] = [value]\n",
    "    return dic1"
   ]
  },
  {
   "cell_type": "code",
   "execution_count": 112,
   "id": "1ba92174",
   "metadata": {},
   "outputs": [
    {
     "data": {
      "text/plain": [
       "{'a': [1, 3], 'b': [2]}"
      ]
     },
     "execution_count": 112,
     "metadata": {},
     "output_type": "execute_result"
    }
   ],
   "source": [
    "list_tup = [('a', 1), ('b',2), ('a',3)]\n",
    "combine_duplicate_keys(list_tup)"
   ]
  },
  {
   "cell_type": "markdown",
   "id": "a2f6a871",
   "metadata": {},
   "source": [
    "# 17. Increment Dictionary Values\n",
    "\n",
    "## Problem Statement:\n",
    "Write a function to increment all integer values in a dictionary by a specified number.\n",
    "\n",
    "## Example 1:\n",
    "**Input:** `{'a':1, 'b':2}, 3`  \n",
    "**Output:** `{'a':4, 'b':5}`\n",
    "\n",
    "## Example 2:\n",
    "**Input:** `{'x':10}, -2`  \n",
    "**Output:** `{'x':8}`\n"
   ]
  },
  {
   "cell_type": "code",
   "execution_count": 115,
   "id": "2cae3f6e",
   "metadata": {},
   "outputs": [],
   "source": [
    "def increment_values(dic, given_value):\n",
    "    dict1 = {}\n",
    "    for key, value in dic.items():\n",
    "        dic[key] += given_value\n",
    "    return dic"
   ]
  },
  {
   "cell_type": "code",
   "execution_count": 116,
   "id": "5a8c4696",
   "metadata": {},
   "outputs": [
    {
     "data": {
      "text/plain": [
       "{'a': 4, 'b': 5}"
      ]
     },
     "execution_count": 116,
     "metadata": {},
     "output_type": "execute_result"
    }
   ],
   "source": [
    "#example1 usage\n",
    "dic = {'a':1, 'b':2}\n",
    "given_value = 3\n",
    "increment_values(dic, given_value)"
   ]
  },
  {
   "cell_type": "code",
   "execution_count": 118,
   "id": "785e05f2",
   "metadata": {},
   "outputs": [
    {
     "data": {
      "text/plain": [
       "{'x': 8}"
      ]
     },
     "execution_count": 118,
     "metadata": {},
     "output_type": "execute_result"
    }
   ],
   "source": [
    "#example2 usage\n",
    "dic2 = {'x':10}\n",
    "given_value = -2\n",
    "increment_values(dic2, given_value)"
   ]
  },
  {
   "cell_type": "markdown",
   "id": "1a4997f3",
   "metadata": {},
   "source": [
    "# 18. Find Duplicates in List Using Dictionary\n",
    "\n",
    "## Problem Statement:\n",
    "Write a function to find all elements that appear more than once in a list, using a dictionary.\n",
    "\n",
    "## Example 1:\n",
    "**Input:** `[1,2,2,3,4,4,4]`  \n",
    "**Output:** `[2,4]`\n",
    "\n",
    "## Example 2:\n",
    "**Input:** `['a','b','c','a']`  \n",
    "**Output:** `['a']`\n"
   ]
  },
  {
   "cell_type": "code",
   "execution_count": 129,
   "id": "35f77861",
   "metadata": {},
   "outputs": [],
   "source": [
    "def more_than_once(ls):\n",
    "    freq = {}\n",
    "    for element in ls:\n",
    "        if element in freq:\n",
    "            freq[element] += 1\n",
    "        else:\n",
    "            freq[element] = 1\n",
    "    print(\"frequency of all elements: \", freq)\n",
    "    moreone = []\n",
    "    for key, value in freq.items():\n",
    "        if freq[key] > 1:\n",
    "            moreone.append(key)\n",
    "    return moreone"
   ]
  },
  {
   "cell_type": "code",
   "execution_count": 130,
   "id": "e2d4570d",
   "metadata": {},
   "outputs": [
    {
     "name": "stdout",
     "output_type": "stream",
     "text": [
      "frequency of all elements:  {1: 1, 2: 2, 3: 1, 4: 3}\n"
     ]
    },
    {
     "data": {
      "text/plain": [
       "[2, 4]"
      ]
     },
     "execution_count": 130,
     "metadata": {},
     "output_type": "execute_result"
    }
   ],
   "source": [
    "ls = [1,2,2,3,4,4,4]\n",
    "more_than_once(ls)"
   ]
  },
  {
   "cell_type": "markdown",
   "id": "37dab363",
   "metadata": {},
   "source": [
    "# 19. Merge Dictionaries Summing Values\n",
    "\n",
    "## Problem Statement:\n",
    "Write a function to merge two dictionaries, summing values for common keys.\n",
    "\n",
    "## Example 1:\n",
    "**Input:** `{'a':2, 'b':3}, {'a':3, 'c':1}`  \n",
    "**Output:** `{'a':5, 'b':3, 'c':1}`\n",
    "\n",
    "## Example 2:\n",
    "**Input:** `{'x':1}, {'x':-1}`  \n",
    "**Output:** `{'x':0}`\n"
   ]
  },
  {
   "cell_type": "code",
   "execution_count": 131,
   "id": "f6b073b2",
   "metadata": {},
   "outputs": [],
   "source": [
    "def merge_dict(dic1, dic2):\n",
    "    merged = {}\n",
    "    for key, value in dict2.items():\n",
    "        if key in dic1:\n",
    "            dic2[key] += value          \n",
    "        else:\n",
    "            dic2[key] = [value]\n",
    "    return dic2"
   ]
  },
  {
   "cell_type": "code",
   "execution_count": 133,
   "id": "4931ea97",
   "metadata": {},
   "outputs": [
    {
     "data": {
      "text/plain": [
       "{'a': 6, 'c': [1]}"
      ]
     },
     "execution_count": 133,
     "metadata": {},
     "output_type": "execute_result"
    }
   ],
   "source": [
    "dict1 = {'a':2, 'b':3}\n",
    "dict2 = {'a':3, 'c':1}\n",
    "merge_dict(dict1, dict2)"
   ]
  },
  {
   "cell_type": "markdown",
   "id": "01937f89",
   "metadata": {},
   "source": [
    "# 20. Dictionary of Lists to Dictionary of Sums\n",
    "\n",
    "## Problem Statement:\n",
    "Write a function to convert a dictionary of lists into a dictionary of sums.\n",
    "\n",
    "## Example 1:\n",
    "**Input:** `{'a':[1,2,3], 'b':[4,5]}`  \n",
    "**Output:** `{'a':6, 'b':9}`\n",
    "\n",
    "## Example 2:\n",
    "**Input:** `{'x':[10]}`  \n",
    "**Output:** `{'x':10}`\n"
   ]
  },
  {
   "cell_type": "code",
   "execution_count": 134,
   "id": "02599144",
   "metadata": {},
   "outputs": [],
   "source": [
    "def sum_dict(dic):\n",
    "    for key, value in dic.items():\n",
    "        dic[key] = sum(dic[key])\n",
    "    return dic"
   ]
  },
  {
   "cell_type": "code",
   "execution_count": 135,
   "id": "551ecc09",
   "metadata": {},
   "outputs": [
    {
     "data": {
      "text/plain": [
       "{'a': 6, 'b': 9}"
      ]
     },
     "execution_count": 135,
     "metadata": {},
     "output_type": "execute_result"
    }
   ],
   "source": [
    "dic = {'a':[1,2,3], 'b':[4,5]}\n",
    "sum_dict(dic)"
   ]
  },
  {
   "cell_type": "code",
   "execution_count": 136,
   "id": "c1dcd689",
   "metadata": {},
   "outputs": [
    {
     "data": {
      "text/plain": [
       "{'x': 10}"
      ]
     },
     "execution_count": 136,
     "metadata": {},
     "output_type": "execute_result"
    }
   ],
   "source": [
    "dic = {'x':[10]}\n",
    "sum_dict(dic)"
   ]
  },
  {
   "cell_type": "code",
   "execution_count": null,
   "id": "1b1c20ee",
   "metadata": {},
   "outputs": [],
   "source": []
  }
 ],
 "metadata": {
  "kernelspec": {
   "display_name": "Python 3 (ipykernel)",
   "language": "python",
   "name": "python3"
  },
  "language_info": {
   "codemirror_mode": {
    "name": "ipython",
    "version": 3
   },
   "file_extension": ".py",
   "mimetype": "text/x-python",
   "name": "python",
   "nbconvert_exporter": "python",
   "pygments_lexer": "ipython3",
   "version": "3.9.13"
  }
 },
 "nbformat": 4,
 "nbformat_minor": 5
}
